{
 "cells": [
  {
   "cell_type": "code",
   "execution_count": 1,
   "metadata": {},
   "outputs": [],
   "source": [
    "import numpy as np\n"
   ]
  },
  {
   "cell_type": "code",
   "execution_count": 10,
   "metadata": {},
   "outputs": [],
   "source": [
    "a=np.zeros((4,3,3))"
   ]
  },
  {
   "cell_type": "code",
   "execution_count": 11,
   "metadata": {},
   "outputs": [
    {
     "data": {
      "text/plain": [
       "array([[[0., 0., 0.],\n",
       "        [0., 0., 0.],\n",
       "        [0., 0., 0.]],\n",
       "\n",
       "       [[0., 0., 0.],\n",
       "        [0., 0., 0.],\n",
       "        [0., 0., 0.]],\n",
       "\n",
       "       [[0., 0., 0.],\n",
       "        [0., 0., 0.],\n",
       "        [0., 0., 0.]],\n",
       "\n",
       "       [[0., 0., 0.],\n",
       "        [0., 0., 0.],\n",
       "        [0., 0., 0.]]])"
      ]
     },
     "execution_count": 11,
     "metadata": {},
     "output_type": "execute_result"
    }
   ],
   "source": [
    "a"
   ]
  },
  {
   "cell_type": "code",
   "execution_count": 14,
   "metadata": {},
   "outputs": [
    {
     "data": {
      "text/plain": [
       "array([[[1, 1, 1, 1],\n",
       "        [1, 1, 1, 1]],\n",
       "\n",
       "       [[1, 1, 1, 1],\n",
       "        [1, 1, 1, 1]]])"
      ]
     },
     "execution_count": 14,
     "metadata": {},
     "output_type": "execute_result"
    }
   ],
   "source": [
    "np.ones((2,2,4),dtype=int)"
   ]
  },
  {
   "cell_type": "code",
   "execution_count": 16,
   "metadata": {},
   "outputs": [
    {
     "data": {
      "text/plain": [
       "array([['hello', 'hello'],\n",
       "       ['hello', 'hello']], dtype='<U5')"
      ]
     },
     "execution_count": 16,
     "metadata": {},
     "output_type": "execute_result"
    }
   ],
   "source": [
    "np.full((2,2),\"hello\")"
   ]
  },
  {
   "cell_type": "code",
   "execution_count": 23,
   "metadata": {},
   "outputs": [
    {
     "data": {
      "text/plain": [
       "array([0.37300411, 0.75427216, 0.54238359, 0.77301985, 0.95111739,\n",
       "       0.40633218, 0.68134701, 0.00222025, 0.83485512, 0.57901464])"
      ]
     },
     "execution_count": 23,
     "metadata": {},
     "output_type": "execute_result"
    }
   ],
   "source": [
    "np.random.rand(10)"
   ]
  },
  {
   "cell_type": "code",
   "execution_count": 31,
   "metadata": {},
   "outputs": [],
   "source": [
    "data=np.random.randint(5,10,(10,10))"
   ]
  },
  {
   "cell_type": "code",
   "execution_count": 32,
   "metadata": {},
   "outputs": [
    {
     "data": {
      "text/plain": [
       "array([[5, 9, 8, 7, 8, 8, 8, 6, 6, 5],\n",
       "       [7, 6, 7, 8, 7, 5, 5, 9, 7, 8],\n",
       "       [7, 5, 5, 7, 5, 5, 8, 5, 7, 5],\n",
       "       [7, 8, 6, 8, 5, 5, 5, 9, 8, 6],\n",
       "       [8, 7, 7, 5, 9, 9, 5, 7, 8, 9],\n",
       "       [9, 7, 7, 8, 8, 9, 8, 6, 9, 8],\n",
       "       [7, 8, 8, 6, 6, 8, 6, 9, 5, 5],\n",
       "       [7, 5, 6, 9, 6, 6, 9, 6, 7, 5],\n",
       "       [8, 8, 7, 8, 6, 6, 8, 6, 7, 7],\n",
       "       [9, 6, 9, 8, 7, 5, 5, 7, 8, 5]])"
      ]
     },
     "execution_count": 32,
     "metadata": {},
     "output_type": "execute_result"
    }
   ],
   "source": [
    "data"
   ]
  },
  {
   "cell_type": "code",
   "execution_count": 33,
   "metadata": {},
   "outputs": [
    {
     "data": {
      "text/plain": [
       "array([[8, 7, 7, 5, 9, 9, 5, 7, 8, 9],\n",
       "       [9, 7, 7, 8, 8, 9, 8, 6, 9, 8],\n",
       "       [7, 8, 8, 6, 6, 8, 6, 9, 5, 5],\n",
       "       [7, 5, 6, 9, 6, 6, 9, 6, 7, 5]])"
      ]
     },
     "execution_count": 33,
     "metadata": {},
     "output_type": "execute_result"
    }
   ],
   "source": [
    "data[4:8]"
   ]
  },
  {
   "cell_type": "code",
   "execution_count": 34,
   "metadata": {},
   "outputs": [
    {
     "data": {
      "text/plain": [
       "array([[8, 7],\n",
       "       [9, 7],\n",
       "       [7, 8],\n",
       "       [7, 5]])"
      ]
     },
     "execution_count": 34,
     "metadata": {},
     "output_type": "execute_result"
    }
   ],
   "source": [
    "data[4:8,0:2]"
   ]
  },
  {
   "cell_type": "code",
   "execution_count": 35,
   "metadata": {},
   "outputs": [
    {
     "data": {
      "text/plain": [
       "array([[9, 9, 5, 7],\n",
       "       [8, 9, 8, 6],\n",
       "       [6, 8, 6, 9],\n",
       "       [6, 6, 9, 6]])"
      ]
     },
     "execution_count": 35,
     "metadata": {},
     "output_type": "execute_result"
    }
   ],
   "source": [
    "data[4:8,4:8]"
   ]
  },
  {
   "cell_type": "code",
   "execution_count": 36,
   "metadata": {},
   "outputs": [],
   "source": [
    "#combine data\n",
    "data1=np.random.randint(5,15,size=(5,3))"
   ]
  },
  {
   "cell_type": "code",
   "execution_count": 38,
   "metadata": {},
   "outputs": [],
   "source": [
    "data2=np.random.randint(5,15,size=(5,3))"
   ]
  },
  {
   "cell_type": "code",
   "execution_count": 39,
   "metadata": {},
   "outputs": [
    {
     "data": {
      "text/plain": [
       "array([[13, 11,  7,  6,  9,  6],\n",
       "       [ 7,  7, 13, 13, 10,  7],\n",
       "       [ 8, 13, 13, 11,  7,  7],\n",
       "       [ 5, 11, 10,  8,  9, 10],\n",
       "       [ 6, 13, 11, 12, 12,  7]])"
      ]
     },
     "execution_count": 39,
     "metadata": {},
     "output_type": "execute_result"
    }
   ],
   "source": [
    "np.hstack([data1,data2])"
   ]
  },
  {
   "cell_type": "code",
   "execution_count": 41,
   "metadata": {},
   "outputs": [
    {
     "data": {
      "text/plain": [
       "array([[13, 11,  7],\n",
       "       [ 7,  7, 13],\n",
       "       [ 8, 13, 13],\n",
       "       [ 5, 11, 10],\n",
       "       [ 6, 13, 11],\n",
       "       [ 6,  9,  6],\n",
       "       [13, 10,  7],\n",
       "       [11,  7,  7],\n",
       "       [ 8,  9, 10],\n",
       "       [12, 12,  7]])"
      ]
     },
     "execution_count": 41,
     "metadata": {},
     "output_type": "execute_result"
    }
   ],
   "source": [
    "np.vstack([data1,data2])"
   ]
  },
  {
   "cell_type": "code",
   "execution_count": 43,
   "metadata": {},
   "outputs": [
    {
     "data": {
      "text/plain": [
       "array([[13, 11,  7,  6,  9,  6],\n",
       "       [ 7,  7, 13, 13, 10,  7],\n",
       "       [ 8, 13, 13, 11,  7,  7],\n",
       "       [ 5, 11, 10,  8,  9, 10],\n",
       "       [ 6, 13, 11, 12, 12,  7]])"
      ]
     },
     "execution_count": 43,
     "metadata": {},
     "output_type": "execute_result"
    }
   ],
   "source": [
    "np.concatenate([data1,data2],axis=1)"
   ]
  },
  {
   "cell_type": "code",
   "execution_count": 44,
   "metadata": {},
   "outputs": [],
   "source": [
    "data1=np.random.randint(5,15,size=(5,3,2))"
   ]
  },
  {
   "cell_type": "code",
   "execution_count": 46,
   "metadata": {},
   "outputs": [],
   "source": [
    "data2 = np.random.randint(5,15,size=(5,3,2))"
   ]
  },
  {
   "cell_type": "code",
   "execution_count": 56,
   "metadata": {},
   "outputs": [
    {
     "data": {
      "text/plain": [
       "array([[[ 5,  6,  6,  5],\n",
       "        [14,  8,  7, 11],\n",
       "        [14,  5, 11,  5]],\n",
       "\n",
       "       [[ 7, 11, 12,  5],\n",
       "        [ 7, 13,  9, 14],\n",
       "        [14, 14,  6,  8]],\n",
       "\n",
       "       [[ 9, 12, 11, 13],\n",
       "        [12, 14, 12, 12],\n",
       "        [ 9, 11,  7, 10]],\n",
       "\n",
       "       [[ 8,  8, 12, 12],\n",
       "        [ 7, 10, 11, 11],\n",
       "        [12, 12, 13,  7]],\n",
       "\n",
       "       [[ 8,  9, 10,  6],\n",
       "        [ 9,  6,  7,  5],\n",
       "        [13, 14,  7, 13]]])"
      ]
     },
     "execution_count": 56,
     "metadata": {},
     "output_type": "execute_result"
    }
   ],
   "source": [
    "np.concatenate([data1,data2],axis=2)"
   ]
  },
  {
   "cell_type": "code",
   "execution_count": 57,
   "metadata": {},
   "outputs": [],
   "source": [
    "#splitting data\n",
    "a1,a2=np.hsplit(data,[5])"
   ]
  },
  {
   "cell_type": "code",
   "execution_count": 59,
   "metadata": {},
   "outputs": [
    {
     "data": {
      "text/plain": [
       "array([[5, 9, 8, 7, 8, 8, 8, 6, 6, 5],\n",
       "       [7, 6, 7, 8, 7, 5, 5, 9, 7, 8],\n",
       "       [7, 5, 5, 7, 5, 5, 8, 5, 7, 5],\n",
       "       [7, 8, 6, 8, 5, 5, 5, 9, 8, 6],\n",
       "       [8, 7, 7, 5, 9, 9, 5, 7, 8, 9],\n",
       "       [9, 7, 7, 8, 8, 9, 8, 6, 9, 8],\n",
       "       [7, 8, 8, 6, 6, 8, 6, 9, 5, 5],\n",
       "       [7, 5, 6, 9, 6, 6, 9, 6, 7, 5],\n",
       "       [8, 8, 7, 8, 6, 6, 8, 6, 7, 7],\n",
       "       [9, 6, 9, 8, 7, 5, 5, 7, 8, 5]])"
      ]
     },
     "execution_count": 59,
     "metadata": {},
     "output_type": "execute_result"
    }
   ],
   "source": [
    "data"
   ]
  },
  {
   "cell_type": "code",
   "execution_count": 61,
   "metadata": {},
   "outputs": [
    {
     "data": {
      "text/plain": [
       "array([[5, 9, 8, 7, 8],\n",
       "       [7, 6, 7, 8, 7],\n",
       "       [7, 5, 5, 7, 5],\n",
       "       [7, 8, 6, 8, 5],\n",
       "       [8, 7, 7, 5, 9],\n",
       "       [9, 7, 7, 8, 8],\n",
       "       [7, 8, 8, 6, 6],\n",
       "       [7, 5, 6, 9, 6],\n",
       "       [8, 8, 7, 8, 6],\n",
       "       [9, 6, 9, 8, 7]])"
      ]
     },
     "execution_count": 61,
     "metadata": {},
     "output_type": "execute_result"
    }
   ],
   "source": [
    "a1"
   ]
  },
  {
   "cell_type": "code",
   "execution_count": 66,
   "metadata": {},
   "outputs": [],
   "source": [
    "b1,b2,b3=np.vsplit(data,[2,7])"
   ]
  },
  {
   "cell_type": "code",
   "execution_count": 70,
   "metadata": {},
   "outputs": [
    {
     "data": {
      "text/plain": [
       "array([[7, 5, 6, 9, 6, 6, 9, 6, 7, 5],\n",
       "       [8, 8, 7, 8, 6, 6, 8, 6, 7, 7],\n",
       "       [9, 6, 9, 8, 7, 5, 5, 7, 8, 5]])"
      ]
     },
     "execution_count": 70,
     "metadata": {},
     "output_type": "execute_result"
    }
   ],
   "source": [
    "b3"
   ]
  },
  {
   "cell_type": "code",
   "execution_count": 71,
   "metadata": {},
   "outputs": [
    {
     "data": {
      "text/plain": [
       "(10, 10)"
      ]
     },
     "execution_count": 71,
     "metadata": {},
     "output_type": "execute_result"
    }
   ],
   "source": [
    "#shape and dimension\n",
    "data.shape"
   ]
  },
  {
   "cell_type": "code",
   "execution_count": 72,
   "metadata": {},
   "outputs": [
    {
     "data": {
      "text/plain": [
       "2"
      ]
     },
     "execution_count": 72,
     "metadata": {},
     "output_type": "execute_result"
    }
   ],
   "source": [
    "data.ndim"
   ]
  },
  {
   "cell_type": "code",
   "execution_count": 73,
   "metadata": {},
   "outputs": [
    {
     "data": {
      "text/plain": [
       "100"
      ]
     },
     "execution_count": 73,
     "metadata": {},
     "output_type": "execute_result"
    }
   ],
   "source": [
    "data.size"
   ]
  },
  {
   "cell_type": "code",
   "execution_count": 74,
   "metadata": {},
   "outputs": [
    {
     "data": {
      "text/plain": [
       "array([[5, 9, 8, 7, 8, 8, 8, 6, 6, 5],\n",
       "       [7, 6, 7, 8, 7, 5, 5, 9, 7, 8],\n",
       "       [7, 5, 5, 7, 5, 5, 8, 5, 7, 5],\n",
       "       [7, 8, 6, 8, 5, 5, 5, 9, 8, 6],\n",
       "       [8, 7, 7, 5, 9, 9, 5, 7, 8, 9],\n",
       "       [9, 7, 7, 8, 8, 9, 8, 6, 9, 8],\n",
       "       [7, 8, 8, 6, 6, 8, 6, 9, 5, 5],\n",
       "       [7, 5, 6, 9, 6, 6, 9, 6, 7, 5],\n",
       "       [8, 8, 7, 8, 6, 6, 8, 6, 7, 7],\n",
       "       [9, 6, 9, 8, 7, 5, 5, 7, 8, 5]])"
      ]
     },
     "execution_count": 74,
     "metadata": {},
     "output_type": "execute_result"
    }
   ],
   "source": [
    "data"
   ]
  },
  {
   "cell_type": "code",
   "execution_count": 76,
   "metadata": {},
   "outputs": [
    {
     "data": {
      "text/plain": [
       "array([[5, 9, 8, 7, 8, 8, 8, 6, 6, 5, 7, 6, 7, 8, 7, 5, 5, 9, 7, 8],\n",
       "       [7, 5, 5, 7, 5, 5, 8, 5, 7, 5, 7, 8, 6, 8, 5, 5, 5, 9, 8, 6],\n",
       "       [8, 7, 7, 5, 9, 9, 5, 7, 8, 9, 9, 7, 7, 8, 8, 9, 8, 6, 9, 8],\n",
       "       [7, 8, 8, 6, 6, 8, 6, 9, 5, 5, 7, 5, 6, 9, 6, 6, 9, 6, 7, 5],\n",
       "       [8, 8, 7, 8, 6, 6, 8, 6, 7, 7, 9, 6, 9, 8, 7, 5, 5, 7, 8, 5]])"
      ]
     },
     "execution_count": 76,
     "metadata": {},
     "output_type": "execute_result"
    }
   ],
   "source": [
    "data.reshape(5,20)"
   ]
  },
  {
   "cell_type": "code",
   "execution_count": 77,
   "metadata": {},
   "outputs": [],
   "source": [
    "d=np.array([1,2,3,4,5,6,7,8,9])"
   ]
  },
  {
   "cell_type": "code",
   "execution_count": 78,
   "metadata": {},
   "outputs": [
    {
     "data": {
      "text/plain": [
       "1"
      ]
     },
     "execution_count": 78,
     "metadata": {},
     "output_type": "execute_result"
    }
   ],
   "source": [
    "d.ndim"
   ]
  },
  {
   "cell_type": "code",
   "execution_count": 83,
   "metadata": {},
   "outputs": [
    {
     "data": {
      "text/plain": [
       "(9,)"
      ]
     },
     "execution_count": 83,
     "metadata": {},
     "output_type": "execute_result"
    }
   ],
   "source": [
    "d.shape"
   ]
  },
  {
   "cell_type": "code",
   "execution_count": 84,
   "metadata": {},
   "outputs": [
    {
     "data": {
      "text/plain": [
       "9"
      ]
     },
     "execution_count": 84,
     "metadata": {},
     "output_type": "execute_result"
    }
   ],
   "source": [
    "d.size"
   ]
  },
  {
   "cell_type": "code",
   "execution_count": 85,
   "metadata": {},
   "outputs": [
    {
     "data": {
      "text/plain": [
       "array([[1],\n",
       "       [2],\n",
       "       [3],\n",
       "       [4],\n",
       "       [5],\n",
       "       [6],\n",
       "       [7],\n",
       "       [8],\n",
       "       [9]])"
      ]
     },
     "execution_count": 85,
     "metadata": {},
     "output_type": "execute_result"
    }
   ],
   "source": [
    "d.reshape(9,1)"
   ]
  },
  {
   "cell_type": "code",
   "execution_count": 86,
   "metadata": {},
   "outputs": [
    {
     "data": {
      "text/plain": [
       "array([[5, 9, 8, 7, 8, 8, 8, 6, 6, 5, 7, 6, 7, 8, 7, 5, 5, 9, 7, 8],\n",
       "       [7, 5, 5, 7, 5, 5, 8, 5, 7, 5, 7, 8, 6, 8, 5, 5, 5, 9, 8, 6],\n",
       "       [8, 7, 7, 5, 9, 9, 5, 7, 8, 9, 9, 7, 7, 8, 8, 9, 8, 6, 9, 8],\n",
       "       [7, 8, 8, 6, 6, 8, 6, 9, 5, 5, 7, 5, 6, 9, 6, 6, 9, 6, 7, 5],\n",
       "       [8, 8, 7, 8, 6, 6, 8, 6, 7, 7, 9, 6, 9, 8, 7, 5, 5, 7, 8, 5]])"
      ]
     },
     "execution_count": 86,
     "metadata": {},
     "output_type": "execute_result"
    }
   ],
   "source": [
    "data.reshape(-1,20)"
   ]
  },
  {
   "cell_type": "code",
   "execution_count": 87,
   "metadata": {},
   "outputs": [
    {
     "data": {
      "text/plain": [
       "array([[5, 9, 8, 7, 8, 8, 8, 6, 6, 5],\n",
       "       [7, 6, 7, 8, 7, 5, 5, 9, 7, 8],\n",
       "       [7, 5, 5, 7, 5, 5, 8, 5, 7, 5],\n",
       "       [7, 8, 6, 8, 5, 5, 5, 9, 8, 6],\n",
       "       [8, 7, 7, 5, 9, 9, 5, 7, 8, 9],\n",
       "       [9, 7, 7, 8, 8, 9, 8, 6, 9, 8],\n",
       "       [7, 8, 8, 6, 6, 8, 6, 9, 5, 5],\n",
       "       [7, 5, 6, 9, 6, 6, 9, 6, 7, 5],\n",
       "       [8, 8, 7, 8, 6, 6, 8, 6, 7, 7],\n",
       "       [9, 6, 9, 8, 7, 5, 5, 7, 8, 5]])"
      ]
     },
     "execution_count": 87,
     "metadata": {},
     "output_type": "execute_result"
    }
   ],
   "source": [
    "data"
   ]
  },
  {
   "cell_type": "code",
   "execution_count": 91,
   "metadata": {},
   "outputs": [
    {
     "data": {
      "text/plain": [
       "692"
      ]
     },
     "execution_count": 91,
     "metadata": {},
     "output_type": "execute_result"
    }
   ],
   "source": [
    "#utility function\n",
    "np.sum(data)"
   ]
  },
  {
   "cell_type": "code",
   "execution_count": 92,
   "metadata": {},
   "outputs": [
    {
     "data": {
      "text/plain": [
       "array([74, 69, 70, 74, 67, 66, 67, 70, 72, 63])"
      ]
     },
     "execution_count": 92,
     "metadata": {},
     "output_type": "execute_result"
    }
   ],
   "source": [
    "np.sum(data,axis=0)"
   ]
  },
  {
   "cell_type": "code",
   "execution_count": 93,
   "metadata": {},
   "outputs": [
    {
     "data": {
      "text/plain": [
       "array([70, 69, 59, 67, 74, 79, 68, 66, 71, 69])"
      ]
     },
     "execution_count": 93,
     "metadata": {},
     "output_type": "execute_result"
    }
   ],
   "source": [
    "np.sum(data,axis=1)"
   ]
  },
  {
   "cell_type": "code",
   "execution_count": 94,
   "metadata": {},
   "outputs": [
    {
     "data": {
      "text/plain": [
       "array([[-0.95892427,  0.41211849,  0.98935825,  0.6569866 ,  0.98935825,\n",
       "         0.98935825,  0.98935825, -0.2794155 , -0.2794155 , -0.95892427],\n",
       "       [ 0.6569866 , -0.2794155 ,  0.6569866 ,  0.98935825,  0.6569866 ,\n",
       "        -0.95892427, -0.95892427,  0.41211849,  0.6569866 ,  0.98935825],\n",
       "       [ 0.6569866 , -0.95892427, -0.95892427,  0.6569866 , -0.95892427,\n",
       "        -0.95892427,  0.98935825, -0.95892427,  0.6569866 , -0.95892427],\n",
       "       [ 0.6569866 ,  0.98935825, -0.2794155 ,  0.98935825, -0.95892427,\n",
       "        -0.95892427, -0.95892427,  0.41211849,  0.98935825, -0.2794155 ],\n",
       "       [ 0.98935825,  0.6569866 ,  0.6569866 , -0.95892427,  0.41211849,\n",
       "         0.41211849, -0.95892427,  0.6569866 ,  0.98935825,  0.41211849],\n",
       "       [ 0.41211849,  0.6569866 ,  0.6569866 ,  0.98935825,  0.98935825,\n",
       "         0.41211849,  0.98935825, -0.2794155 ,  0.41211849,  0.98935825],\n",
       "       [ 0.6569866 ,  0.98935825,  0.98935825, -0.2794155 , -0.2794155 ,\n",
       "         0.98935825, -0.2794155 ,  0.41211849, -0.95892427, -0.95892427],\n",
       "       [ 0.6569866 , -0.95892427, -0.2794155 ,  0.41211849, -0.2794155 ,\n",
       "        -0.2794155 ,  0.41211849, -0.2794155 ,  0.6569866 , -0.95892427],\n",
       "       [ 0.98935825,  0.98935825,  0.6569866 ,  0.98935825, -0.2794155 ,\n",
       "        -0.2794155 ,  0.98935825, -0.2794155 ,  0.6569866 ,  0.6569866 ],\n",
       "       [ 0.41211849, -0.2794155 ,  0.41211849,  0.98935825,  0.6569866 ,\n",
       "        -0.95892427, -0.95892427,  0.6569866 ,  0.98935825, -0.95892427]])"
      ]
     },
     "execution_count": 94,
     "metadata": {},
     "output_type": "execute_result"
    }
   ],
   "source": [
    "np.sin(data)"
   ]
  },
  {
   "cell_type": "code",
   "execution_count": 95,
   "metadata": {},
   "outputs": [
    {
     "data": {
      "text/plain": [
       "array([[5, 7, 7, 7, 8, 9, 7, 7, 8, 9],\n",
       "       [9, 6, 5, 8, 7, 7, 8, 5, 8, 6],\n",
       "       [8, 7, 5, 6, 7, 7, 8, 6, 7, 9],\n",
       "       [7, 8, 7, 8, 5, 8, 6, 9, 8, 8],\n",
       "       [8, 7, 5, 5, 9, 8, 6, 6, 6, 7],\n",
       "       [8, 5, 5, 5, 9, 9, 8, 6, 6, 5],\n",
       "       [8, 5, 8, 5, 5, 8, 6, 9, 8, 5],\n",
       "       [6, 9, 5, 9, 7, 6, 9, 6, 6, 7],\n",
       "       [6, 7, 7, 8, 8, 9, 5, 7, 7, 8],\n",
       "       [5, 8, 5, 6, 9, 8, 5, 5, 7, 5]])"
      ]
     },
     "execution_count": 95,
     "metadata": {},
     "output_type": "execute_result"
    }
   ],
   "source": [
    "data.T"
   ]
  },
  {
   "cell_type": "code",
   "execution_count": 96,
   "metadata": {},
   "outputs": [
    {
     "data": {
      "text/plain": [
       "array([7. , 6.9, 5.9, 6.7, 7.4, 7.9, 6.8, 6.6, 7.1, 6.9])"
      ]
     },
     "execution_count": 96,
     "metadata": {},
     "output_type": "execute_result"
    }
   ],
   "source": [
    "data.mean(axis=1)"
   ]
  },
  {
   "cell_type": "code",
   "execution_count": 97,
   "metadata": {},
   "outputs": [
    {
     "data": {
      "text/plain": [
       "array([1.34164079, 1.22065556, 1.13578167, 1.41774469, 1.42828569,\n",
       "       0.94339811, 1.32664992, 1.356466  , 0.83066239, 1.5132746 ])"
      ]
     },
     "execution_count": 97,
     "metadata": {},
     "output_type": "execute_result"
    }
   ],
   "source": [
    "data.std(axis=1)"
   ]
  },
  {
   "cell_type": "code",
   "execution_count": 99,
   "metadata": {},
   "outputs": [],
   "source": [
    "#broadcasting\n",
    "v=np.array([1,2,3,4,5])"
   ]
  },
  {
   "cell_type": "code",
   "execution_count": 100,
   "metadata": {},
   "outputs": [],
   "source": [
    "s=10"
   ]
  },
  {
   "cell_type": "code",
   "execution_count": 101,
   "metadata": {},
   "outputs": [
    {
     "data": {
      "text/plain": [
       "array([11, 12, 13, 14, 15])"
      ]
     },
     "execution_count": 101,
     "metadata": {},
     "output_type": "execute_result"
    }
   ],
   "source": [
    "v+s"
   ]
  },
  {
   "cell_type": "code",
   "execution_count": 102,
   "metadata": {},
   "outputs": [],
   "source": [
    "t=[10,11]"
   ]
  },
  {
   "cell_type": "code",
   "execution_count": 104,
   "metadata": {},
   "outputs": [],
   "source": [
    "a=np.array([[1],[2],[3],[4],[5]])"
   ]
  },
  {
   "cell_type": "code",
   "execution_count": 106,
   "metadata": {},
   "outputs": [
    {
     "data": {
      "text/plain": [
       "(5, 1)"
      ]
     },
     "execution_count": 106,
     "metadata": {},
     "output_type": "execute_result"
    }
   ],
   "source": [
    "a.shape"
   ]
  },
  {
   "cell_type": "code",
   "execution_count": 107,
   "metadata": {},
   "outputs": [
    {
     "data": {
      "text/plain": [
       "array([[ 2,  3,  4,  5,  6],\n",
       "       [ 3,  4,  5,  6,  7],\n",
       "       [ 4,  5,  6,  7,  8],\n",
       "       [ 5,  6,  7,  8,  9],\n",
       "       [ 6,  7,  8,  9, 10]])"
      ]
     },
     "execution_count": 107,
     "metadata": {},
     "output_type": "execute_result"
    }
   ],
   "source": [
    "a+v"
   ]
  },
  {
   "cell_type": "code",
   "execution_count": 109,
   "metadata": {},
   "outputs": [
    {
     "data": {
      "text/plain": [
       "array([[1],\n",
       "       [2],\n",
       "       [3],\n",
       "       [4],\n",
       "       [5]])"
      ]
     },
     "execution_count": 109,
     "metadata": {},
     "output_type": "execute_result"
    }
   ],
   "source": [
    "a"
   ]
  },
  {
   "cell_type": "code",
   "execution_count": 110,
   "metadata": {},
   "outputs": [
    {
     "data": {
      "text/plain": [
       "array([1, 2, 3, 4, 5])"
      ]
     },
     "execution_count": 110,
     "metadata": {},
     "output_type": "execute_result"
    }
   ],
   "source": [
    "v"
   ]
  },
  {
   "cell_type": "code",
   "execution_count": 111,
   "metadata": {},
   "outputs": [],
   "source": [
    "a=np.random.randint(1,5,size=(10,2))"
   ]
  },
  {
   "cell_type": "code",
   "execution_count": 113,
   "metadata": {},
   "outputs": [],
   "source": [
    "b=np.random.randint(1,5,size=(5,2))"
   ]
  },
  {
   "cell_type": "code",
   "execution_count": 116,
   "metadata": {},
   "outputs": [
    {
     "data": {
      "text/plain": [
       "array([[1, 4],\n",
       "       [1, 4],\n",
       "       [1, 1],\n",
       "       [2, 1],\n",
       "       [3, 4],\n",
       "       [4, 1],\n",
       "       [1, 3],\n",
       "       [2, 1],\n",
       "       [3, 3],\n",
       "       [2, 2]])"
      ]
     },
     "execution_count": 116,
     "metadata": {},
     "output_type": "execute_result"
    }
   ],
   "source": [
    "a"
   ]
  },
  {
   "cell_type": "code",
   "execution_count": 117,
   "metadata": {},
   "outputs": [
    {
     "data": {
      "text/plain": [
       "array([[[1, 4],\n",
       "        [1, 4],\n",
       "        [1, 1],\n",
       "        [2, 1],\n",
       "        [3, 4],\n",
       "        [4, 1],\n",
       "        [1, 3],\n",
       "        [2, 1],\n",
       "        [3, 3],\n",
       "        [2, 2]]])"
      ]
     },
     "execution_count": 117,
     "metadata": {},
     "output_type": "execute_result"
    }
   ],
   "source": [
    "a.reshape(1,10,2)"
   ]
  },
  {
   "cell_type": "code",
   "execution_count": 118,
   "metadata": {},
   "outputs": [
    {
     "data": {
      "text/plain": [
       "array([[1, 2],\n",
       "       [1, 3],\n",
       "       [1, 4],\n",
       "       [1, 4],\n",
       "       [3, 1]])"
      ]
     },
     "execution_count": 118,
     "metadata": {},
     "output_type": "execute_result"
    }
   ],
   "source": [
    "b"
   ]
  },
  {
   "cell_type": "code",
   "execution_count": 121,
   "metadata": {},
   "outputs": [
    {
     "data": {
      "text/plain": [
       "array([[[1, 2]],\n",
       "\n",
       "       [[1, 3]],\n",
       "\n",
       "       [[1, 4]],\n",
       "\n",
       "       [[1, 4]],\n",
       "\n",
       "       [[3, 1]]])"
      ]
     },
     "execution_count": 121,
     "metadata": {},
     "output_type": "execute_result"
    }
   ],
   "source": [
    "b.reshape(5,1,2)"
   ]
  },
  {
   "cell_type": "code",
   "execution_count": 122,
   "metadata": {},
   "outputs": [
    {
     "data": {
      "text/plain": [
       "array([[[ 0, -2],\n",
       "        [ 0, -2],\n",
       "        [ 0,  1],\n",
       "        [-1,  1],\n",
       "        [-2, -2],\n",
       "        [-3,  1],\n",
       "        [ 0, -1],\n",
       "        [-1,  1],\n",
       "        [-2, -1],\n",
       "        [-1,  0]],\n",
       "\n",
       "       [[ 0, -1],\n",
       "        [ 0, -1],\n",
       "        [ 0,  2],\n",
       "        [-1,  2],\n",
       "        [-2, -1],\n",
       "        [-3,  2],\n",
       "        [ 0,  0],\n",
       "        [-1,  2],\n",
       "        [-2,  0],\n",
       "        [-1,  1]],\n",
       "\n",
       "       [[ 0,  0],\n",
       "        [ 0,  0],\n",
       "        [ 0,  3],\n",
       "        [-1,  3],\n",
       "        [-2,  0],\n",
       "        [-3,  3],\n",
       "        [ 0,  1],\n",
       "        [-1,  3],\n",
       "        [-2,  1],\n",
       "        [-1,  2]],\n",
       "\n",
       "       [[ 0,  0],\n",
       "        [ 0,  0],\n",
       "        [ 0,  3],\n",
       "        [-1,  3],\n",
       "        [-2,  0],\n",
       "        [-3,  3],\n",
       "        [ 0,  1],\n",
       "        [-1,  3],\n",
       "        [-2,  1],\n",
       "        [-1,  2]],\n",
       "\n",
       "       [[ 2, -3],\n",
       "        [ 2, -3],\n",
       "        [ 2,  0],\n",
       "        [ 1,  0],\n",
       "        [ 0, -3],\n",
       "        [-1,  0],\n",
       "        [ 2, -2],\n",
       "        [ 1,  0],\n",
       "        [ 0, -2],\n",
       "        [ 1, -1]]])"
      ]
     },
     "execution_count": 122,
     "metadata": {},
     "output_type": "execute_result"
    }
   ],
   "source": [
    "b.reshape(5,1,2)-a.reshape(1,10,2)"
   ]
  },
  {
   "cell_type": "code",
   "execution_count": 123,
   "metadata": {},
   "outputs": [],
   "source": [
    "a=np.random.randint(1,5,size=(10,2))"
   ]
  },
  {
   "cell_type": "code",
   "execution_count": 125,
   "metadata": {},
   "outputs": [],
   "source": [
    "b=np.random.randint(1,5,size=(5,3))"
   ]
  },
  {
   "cell_type": "code",
   "execution_count": 126,
   "metadata": {},
   "outputs": [
    {
     "data": {
      "text/plain": [
       "(10, 2)"
      ]
     },
     "execution_count": 126,
     "metadata": {},
     "output_type": "execute_result"
    }
   ],
   "source": [
    "a.shape"
   ]
  },
  {
   "cell_type": "code",
   "execution_count": 127,
   "metadata": {},
   "outputs": [
    {
     "data": {
      "text/plain": [
       "(5, 3)"
      ]
     },
     "execution_count": 127,
     "metadata": {},
     "output_type": "execute_result"
    }
   ],
   "source": [
    "b.shape"
   ]
  },
  {
   "cell_type": "code",
   "execution_count": 130,
   "metadata": {},
   "outputs": [
    {
     "data": {
      "text/plain": [
       "array([[2, 1, 3],\n",
       "       [3, 3, 1],\n",
       "       [4, 1, 3],\n",
       "       [2, 1, 3],\n",
       "       [2, 3, 3]])"
      ]
     },
     "execution_count": 130,
     "metadata": {},
     "output_type": "execute_result"
    }
   ],
   "source": [
    "b"
   ]
  },
  {
   "cell_type": "code",
   "execution_count": 131,
   "metadata": {},
   "outputs": [
    {
     "data": {
      "text/plain": [
       "array([[[[ 0,  2],\n",
       "         [ 1,  3],\n",
       "         [-1,  1]],\n",
       "\n",
       "        [[-1,  2],\n",
       "         [ 0,  3],\n",
       "         [-2,  1]],\n",
       "\n",
       "        [[ 1,  0],\n",
       "         [ 2,  1],\n",
       "         [ 0, -1]],\n",
       "\n",
       "        [[ 2,  2],\n",
       "         [ 3,  3],\n",
       "         [ 1,  1]],\n",
       "\n",
       "        [[ 0,  0],\n",
       "         [ 1,  1],\n",
       "         [-1, -1]],\n",
       "\n",
       "        [[ 2,  1],\n",
       "         [ 3,  2],\n",
       "         [ 1,  0]],\n",
       "\n",
       "        [[ 1,  0],\n",
       "         [ 2,  1],\n",
       "         [ 0, -1]],\n",
       "\n",
       "        [[ 1,  1],\n",
       "         [ 2,  2],\n",
       "         [ 0,  0]],\n",
       "\n",
       "        [[ 2,  0],\n",
       "         [ 3,  1],\n",
       "         [ 1, -1]],\n",
       "\n",
       "        [[ 0, -1],\n",
       "         [ 1,  0],\n",
       "         [-1, -2]]],\n",
       "\n",
       "\n",
       "       [[[-1,  1],\n",
       "         [-1,  1],\n",
       "         [ 1,  3]],\n",
       "\n",
       "        [[-2,  1],\n",
       "         [-2,  1],\n",
       "         [ 0,  3]],\n",
       "\n",
       "        [[ 0, -1],\n",
       "         [ 0, -1],\n",
       "         [ 2,  1]],\n",
       "\n",
       "        [[ 1,  1],\n",
       "         [ 1,  1],\n",
       "         [ 3,  3]],\n",
       "\n",
       "        [[-1, -1],\n",
       "         [-1, -1],\n",
       "         [ 1,  1]],\n",
       "\n",
       "        [[ 1,  0],\n",
       "         [ 1,  0],\n",
       "         [ 3,  2]],\n",
       "\n",
       "        [[ 0, -1],\n",
       "         [ 0, -1],\n",
       "         [ 2,  1]],\n",
       "\n",
       "        [[ 0,  0],\n",
       "         [ 0,  0],\n",
       "         [ 2,  2]],\n",
       "\n",
       "        [[ 1, -1],\n",
       "         [ 1, -1],\n",
       "         [ 3,  1]],\n",
       "\n",
       "        [[-1, -2],\n",
       "         [-1, -2],\n",
       "         [ 1,  0]]],\n",
       "\n",
       "\n",
       "       [[[-2,  0],\n",
       "         [ 1,  3],\n",
       "         [-1,  1]],\n",
       "\n",
       "        [[-3,  0],\n",
       "         [ 0,  3],\n",
       "         [-2,  1]],\n",
       "\n",
       "        [[-1, -2],\n",
       "         [ 2,  1],\n",
       "         [ 0, -1]],\n",
       "\n",
       "        [[ 0,  0],\n",
       "         [ 3,  3],\n",
       "         [ 1,  1]],\n",
       "\n",
       "        [[-2, -2],\n",
       "         [ 1,  1],\n",
       "         [-1, -1]],\n",
       "\n",
       "        [[ 0, -1],\n",
       "         [ 3,  2],\n",
       "         [ 1,  0]],\n",
       "\n",
       "        [[-1, -2],\n",
       "         [ 2,  1],\n",
       "         [ 0, -1]],\n",
       "\n",
       "        [[-1, -1],\n",
       "         [ 2,  2],\n",
       "         [ 0,  0]],\n",
       "\n",
       "        [[ 0, -2],\n",
       "         [ 3,  1],\n",
       "         [ 1, -1]],\n",
       "\n",
       "        [[-2, -3],\n",
       "         [ 1,  0],\n",
       "         [-1, -2]]],\n",
       "\n",
       "\n",
       "       [[[ 0,  2],\n",
       "         [ 1,  3],\n",
       "         [-1,  1]],\n",
       "\n",
       "        [[-1,  2],\n",
       "         [ 0,  3],\n",
       "         [-2,  1]],\n",
       "\n",
       "        [[ 1,  0],\n",
       "         [ 2,  1],\n",
       "         [ 0, -1]],\n",
       "\n",
       "        [[ 2,  2],\n",
       "         [ 3,  3],\n",
       "         [ 1,  1]],\n",
       "\n",
       "        [[ 0,  0],\n",
       "         [ 1,  1],\n",
       "         [-1, -1]],\n",
       "\n",
       "        [[ 2,  1],\n",
       "         [ 3,  2],\n",
       "         [ 1,  0]],\n",
       "\n",
       "        [[ 1,  0],\n",
       "         [ 2,  1],\n",
       "         [ 0, -1]],\n",
       "\n",
       "        [[ 1,  1],\n",
       "         [ 2,  2],\n",
       "         [ 0,  0]],\n",
       "\n",
       "        [[ 2,  0],\n",
       "         [ 3,  1],\n",
       "         [ 1, -1]],\n",
       "\n",
       "        [[ 0, -1],\n",
       "         [ 1,  0],\n",
       "         [-1, -2]]],\n",
       "\n",
       "\n",
       "       [[[ 0,  2],\n",
       "         [-1,  1],\n",
       "         [-1,  1]],\n",
       "\n",
       "        [[-1,  2],\n",
       "         [-2,  1],\n",
       "         [-2,  1]],\n",
       "\n",
       "        [[ 1,  0],\n",
       "         [ 0, -1],\n",
       "         [ 0, -1]],\n",
       "\n",
       "        [[ 2,  2],\n",
       "         [ 1,  1],\n",
       "         [ 1,  1]],\n",
       "\n",
       "        [[ 0,  0],\n",
       "         [-1, -1],\n",
       "         [-1, -1]],\n",
       "\n",
       "        [[ 2,  1],\n",
       "         [ 1,  0],\n",
       "         [ 1,  0]],\n",
       "\n",
       "        [[ 1,  0],\n",
       "         [ 0, -1],\n",
       "         [ 0, -1]],\n",
       "\n",
       "        [[ 1,  1],\n",
       "         [ 0,  0],\n",
       "         [ 0,  0]],\n",
       "\n",
       "        [[ 2,  0],\n",
       "         [ 1, -1],\n",
       "         [ 1, -1]],\n",
       "\n",
       "        [[ 0, -1],\n",
       "         [-1, -2],\n",
       "         [-1, -2]]]])"
      ]
     },
     "execution_count": 131,
     "metadata": {},
     "output_type": "execute_result"
    }
   ],
   "source": [
    "a.reshape(1,10,1,2)-b.reshape(5,1,3,1)"
   ]
  },
  {
   "cell_type": "code",
   "execution_count": null,
   "metadata": {},
   "outputs": [],
   "source": []
  }
 ],
 "metadata": {
  "kernelspec": {
   "display_name": "Python 3",
   "language": "python",
   "name": "python3"
  },
  "language_info": {
   "codemirror_mode": {
    "name": "ipython",
    "version": 3
   },
   "file_extension": ".py",
   "mimetype": "text/x-python",
   "name": "python",
   "nbconvert_exporter": "python",
   "pygments_lexer": "ipython3",
   "version": "3.6.5"
  }
 },
 "nbformat": 4,
 "nbformat_minor": 2
}
