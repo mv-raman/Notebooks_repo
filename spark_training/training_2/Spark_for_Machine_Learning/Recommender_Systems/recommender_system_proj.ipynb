{
 "cells": [
  {
   "cell_type": "code",
   "execution_count": 3,
   "metadata": {},
   "outputs": [],
   "source": [
    "from pyspark.ml.evaluation import RegressionEvaluator\n",
    "from pyspark.sql import SparkSession\n",
    "spark=SparkSession.builder.appName(\"rec\").getOrCreate()\n",
    "from pyspark.ml.recommendation import ALS"
   ]
  },
  {
   "cell_type": "code",
   "execution_count": 4,
   "metadata": {},
   "outputs": [
    {
     "name": "stdout",
     "output_type": "stream",
     "text": [
      "+-------+------------------+------------------+------------------+\n",
      "|summary|           movieId|            rating|            userId|\n",
      "+-------+------------------+------------------+------------------+\n",
      "|  count|              1501|              1501|              1501|\n",
      "|   mean| 49.40572951365756|1.7741505662891406|14.383744170552964|\n",
      "| stddev|28.937034065088994| 1.187276166124803| 8.591040424293272|\n",
      "|    min|                 0|               1.0|                 0|\n",
      "|    max|                99|               5.0|                29|\n",
      "+-------+------------------+------------------+------------------+\n",
      "\n"
     ]
    }
   ],
   "source": [
    "data = spark.read.csv('movielens_ratings.csv',inferSchema=True,header=True)\n",
    "data.describe().show()"
   ]
  },
  {
   "cell_type": "code",
   "execution_count": 6,
   "metadata": {},
   "outputs": [],
   "source": [
    "train,test=data.randomSplit([0.8,0.2])\n",
    "als=ALS(maxIter=5,regParam=0.01,userCol='userId',itemCol='movieId',ratingCol='rating')\n",
    "model=als.fit(train)"
   ]
  },
  {
   "cell_type": "code",
   "execution_count": 7,
   "metadata": {},
   "outputs": [],
   "source": [
    "predictions=model.transform(test)"
   ]
  },
  {
   "cell_type": "code",
   "execution_count": 8,
   "metadata": {},
   "outputs": [
    {
     "name": "stdout",
     "output_type": "stream",
     "text": [
      "+-------+------+------+-----------+\n",
      "|movieId|rating|userId| prediction|\n",
      "+-------+------+------+-----------+\n",
      "|     31|   1.0|    26| -1.0115454|\n",
      "|     31|   1.0|    13|  1.8605084|\n",
      "|     31|   2.0|    25|  1.3190647|\n",
      "|     31|   1.0|    24|  4.8860526|\n",
      "|     31|   1.0|    29|  0.7075072|\n",
      "|     31|   3.0|    14|    4.28348|\n",
      "|     31|   1.0|     0|  4.6426578|\n",
      "|     85|   3.0|     1|  1.3994323|\n",
      "|     85|   5.0|    16| 0.10381964|\n",
      "|     85|   4.0|     7|  4.1721296|\n",
      "|     85|   1.0|    29|-0.39343032|\n",
      "|     85|   1.0|     2|  0.7572837|\n",
      "|     65|   1.0|    28| -1.9311928|\n",
      "|     65|   2.0|     5|    2.25643|\n",
      "|     65|   2.0|    15|  1.6717451|\n",
      "|     65|   1.0|     4|  0.5875854|\n",
      "|     53|   1.0|     6| -1.4423766|\n",
      "|     53|   3.0|    20|    1.27243|\n",
      "|     53|   5.0|     8|  0.8222858|\n",
      "|     53|   1.0|    23| 0.64139014|\n",
      "+-------+------+------+-----------+\n",
      "only showing top 20 rows\n",
      "\n"
     ]
    }
   ],
   "source": [
    "predictions.show()"
   ]
  },
  {
   "cell_type": "code",
   "execution_count": 11,
   "metadata": {},
   "outputs": [
    {
     "data": {
      "text/plain": [
       "1.6927579164790842"
      ]
     },
     "execution_count": 11,
     "metadata": {},
     "output_type": "execute_result"
    }
   ],
   "source": [
    "evaluator=RegressionEvaluator(predictionCol='prediction',labelCol='rating',metricName='rmse')\n",
    "rmse=evaluator.evaluate(predictions)\n",
    "rmse"
   ]
  },
  {
   "cell_type": "code",
   "execution_count": 13,
   "metadata": {},
   "outputs": [
    {
     "name": "stdout",
     "output_type": "stream",
     "text": [
      "+-------+------+\n",
      "|movieId|userId|\n",
      "+-------+------+\n",
      "|      9|    11|\n",
      "|     16|    11|\n",
      "|     18|    11|\n",
      "|     19|    11|\n",
      "|     22|    11|\n",
      "|     38|    11|\n",
      "|     41|    11|\n",
      "|     47|    11|\n",
      "|     51|    11|\n",
      "|     78|    11|\n",
      "|     86|    11|\n",
      "+-------+------+\n",
      "\n"
     ]
    }
   ],
   "source": [
    "#supply recommendation to user\n",
    "single_user=test.filter(test['userId']==11).select('movieId','userId')\n",
    "single_user.show()"
   ]
  },
  {
   "cell_type": "code",
   "execution_count": 15,
   "metadata": {},
   "outputs": [
    {
     "name": "stdout",
     "output_type": "stream",
     "text": [
      "+-------+------+-----------+\n",
      "|movieId|userId| prediction|\n",
      "+-------+------+-----------+\n",
      "|     47|    11|-0.59421873|\n",
      "|     86|    11|   0.626647|\n",
      "|     78|    11| 0.68670565|\n",
      "|     41|    11|  2.1891606|\n",
      "|     22|    11|   2.404005|\n",
      "|     19|    11|  2.4945083|\n",
      "|     18|    11|  3.1545737|\n",
      "|     16|    11|  3.6887546|\n",
      "|     38|    11|  3.7741508|\n",
      "|      9|    11|  3.8208942|\n",
      "|     51|    11|   4.177466|\n",
      "+-------+------+-----------+\n",
      "\n"
     ]
    }
   ],
   "source": [
    "recommendations=model.transform(single_user)\n",
    "recommendations.orderBy('prediction').show()"
   ]
  },
  {
   "cell_type": "code",
   "execution_count": 21,
   "metadata": {},
   "outputs": [
    {
     "name": "stdout",
     "output_type": "stream",
     "text": [
      "+-------+------+-----------+\n",
      "|movieId|userId| prediction|\n",
      "+-------+------+-----------+\n",
      "|     47|    11|-0.59421873|\n",
      "|     86|    11|   0.626647|\n",
      "|     78|    11| 0.68670565|\n",
      "|     41|    11|  2.1891606|\n",
      "|     22|    11|   2.404005|\n",
      "|     19|    11|  2.4945083|\n",
      "|     18|    11|  3.1545737|\n",
      "|     16|    11|  3.6887546|\n",
      "|     38|    11|  3.7741508|\n",
      "|      9|    11|  3.8208942|\n",
      "|     51|    11|   4.177466|\n",
      "+-------+------+-----------+\n",
      "\n"
     ]
    }
   ],
   "source": [
    "#another method\n",
    "predictions.filter(test['userId']==11).orderBy('prediction').select('movieId','userId','prediction').show()"
   ]
  },
  {
   "cell_type": "code",
   "execution_count": null,
   "metadata": {},
   "outputs": [],
   "source": []
  }
 ],
 "metadata": {
  "kernelspec": {
   "display_name": "Python 3",
   "language": "python",
   "name": "python3"
  },
  "language_info": {
   "codemirror_mode": {
    "name": "ipython",
    "version": 3
   },
   "file_extension": ".py",
   "mimetype": "text/x-python",
   "name": "python",
   "nbconvert_exporter": "python",
   "pygments_lexer": "ipython3",
   "version": "3.6.5"
  }
 },
 "nbformat": 4,
 "nbformat_minor": 2
}
