{
 "cells": [
  {
   "cell_type": "code",
   "execution_count": 2,
   "metadata": {},
   "outputs": [
    {
     "name": "stdout",
     "output_type": "stream",
     "text": [
      "root\n",
      " |-- Names: string (nullable = true)\n",
      " |-- Age: double (nullable = true)\n",
      " |-- Total_Purchase: double (nullable = true)\n",
      " |-- Account_Manager: integer (nullable = true)\n",
      " |-- Years: double (nullable = true)\n",
      " |-- Num_Sites: double (nullable = true)\n",
      " |-- Onboard_date: timestamp (nullable = true)\n",
      " |-- Location: string (nullable = true)\n",
      " |-- Company: string (nullable = true)\n",
      " |-- Churn: integer (nullable = true)\n",
      "\n"
     ]
    }
   ],
   "source": [
    "from pyspark.sql import SparkSession\n",
    "spark = SparkSession.builder.appName('logregconsult').getOrCreate()\n",
    "data=spark.read.csv('customer_churn.csv',inferSchema=True,header=True)\n",
    "data.printSchema()"
   ]
  },
  {
   "cell_type": "code",
   "execution_count": 4,
   "metadata": {},
   "outputs": [
    {
     "name": "stdout",
     "output_type": "stream",
     "text": [
      "+----------------+----+--------------+---------------+-----+---------+-------------------+--------------------+--------------------+-----+\n",
      "|           Names| Age|Total_Purchase|Account_Manager|Years|Num_Sites|       Onboard_date|            Location|             Company|Churn|\n",
      "+----------------+----+--------------+---------------+-----+---------+-------------------+--------------------+--------------------+-----+\n",
      "|Cameron Williams|42.0|       11066.8|              0| 7.22|      8.0|2013-08-30 07:00:40|10265 Elizabeth M...|          Harvey LLC|    1|\n",
      "|   Kevin Mueller|41.0|      11916.22|              0|  6.5|     11.0|2013-08-13 00:38:46|6157 Frank Garden...|          Wilson PLC|    1|\n",
      "|     Eric Lozano|38.0|      12884.75|              0| 6.67|     12.0|2016-06-29 06:20:07|1331 Keith Court ...|Miller, Johnson a...|    1|\n",
      "+----------------+----+--------------+---------------+-----+---------+-------------------+--------------------+--------------------+-----+\n",
      "only showing top 3 rows\n",
      "\n"
     ]
    }
   ],
   "source": [
    "data.show(3)"
   ]
  },
  {
   "cell_type": "code",
   "execution_count": 6,
   "metadata": {},
   "outputs": [
    {
     "data": {
      "text/html": [
       "<div>\n",
       "<style scoped>\n",
       "    .dataframe tbody tr th:only-of-type {\n",
       "        vertical-align: middle;\n",
       "    }\n",
       "\n",
       "    .dataframe tbody tr th {\n",
       "        vertical-align: top;\n",
       "    }\n",
       "\n",
       "    .dataframe thead th {\n",
       "        text-align: right;\n",
       "    }\n",
       "</style>\n",
       "<table border=\"1\" class=\"dataframe\">\n",
       "  <thead>\n",
       "    <tr style=\"text-align: right;\">\n",
       "      <th></th>\n",
       "      <th>summary</th>\n",
       "      <th>Names</th>\n",
       "      <th>Age</th>\n",
       "      <th>Total_Purchase</th>\n",
       "      <th>Account_Manager</th>\n",
       "      <th>Years</th>\n",
       "      <th>Num_Sites</th>\n",
       "      <th>Location</th>\n",
       "      <th>Company</th>\n",
       "      <th>Churn</th>\n",
       "    </tr>\n",
       "  </thead>\n",
       "  <tbody>\n",
       "    <tr>\n",
       "      <th>0</th>\n",
       "      <td>count</td>\n",
       "      <td>900</td>\n",
       "      <td>900</td>\n",
       "      <td>900</td>\n",
       "      <td>900</td>\n",
       "      <td>900</td>\n",
       "      <td>900</td>\n",
       "      <td>900</td>\n",
       "      <td>900</td>\n",
       "      <td>900</td>\n",
       "    </tr>\n",
       "    <tr>\n",
       "      <th>1</th>\n",
       "      <td>mean</td>\n",
       "      <td>None</td>\n",
       "      <td>41.81666666666667</td>\n",
       "      <td>10062.82403333334</td>\n",
       "      <td>0.4811111111111111</td>\n",
       "      <td>5.27315555555555</td>\n",
       "      <td>8.587777777777777</td>\n",
       "      <td>None</td>\n",
       "      <td>None</td>\n",
       "      <td>0.16666666666666666</td>\n",
       "    </tr>\n",
       "    <tr>\n",
       "      <th>2</th>\n",
       "      <td>stddev</td>\n",
       "      <td>None</td>\n",
       "      <td>6.127560416916251</td>\n",
       "      <td>2408.644531858096</td>\n",
       "      <td>0.4999208935073339</td>\n",
       "      <td>1.274449013194616</td>\n",
       "      <td>1.7648355920350969</td>\n",
       "      <td>None</td>\n",
       "      <td>None</td>\n",
       "      <td>0.3728852122772358</td>\n",
       "    </tr>\n",
       "    <tr>\n",
       "      <th>3</th>\n",
       "      <td>min</td>\n",
       "      <td>Aaron King</td>\n",
       "      <td>22.0</td>\n",
       "      <td>100.0</td>\n",
       "      <td>0</td>\n",
       "      <td>1.0</td>\n",
       "      <td>3.0</td>\n",
       "      <td>00103 Jeffrey Crest Apt. 205 Padillaville, IA ...</td>\n",
       "      <td>Abbott-Thompson</td>\n",
       "      <td>0</td>\n",
       "    </tr>\n",
       "    <tr>\n",
       "      <th>4</th>\n",
       "      <td>max</td>\n",
       "      <td>Zachary Walsh</td>\n",
       "      <td>65.0</td>\n",
       "      <td>18026.01</td>\n",
       "      <td>1</td>\n",
       "      <td>9.15</td>\n",
       "      <td>14.0</td>\n",
       "      <td>Unit 9800 Box 2878 DPO AA 75157</td>\n",
       "      <td>Zuniga, Clark and Shaffer</td>\n",
       "      <td>1</td>\n",
       "    </tr>\n",
       "  </tbody>\n",
       "</table>\n",
       "</div>"
      ],
      "text/plain": [
       "  summary          Names                Age     Total_Purchase  \\\n",
       "0   count            900                900                900   \n",
       "1    mean           None  41.81666666666667  10062.82403333334   \n",
       "2  stddev           None  6.127560416916251  2408.644531858096   \n",
       "3     min     Aaron King               22.0              100.0   \n",
       "4     max  Zachary Walsh               65.0           18026.01   \n",
       "\n",
       "      Account_Manager              Years           Num_Sites  \\\n",
       "0                 900                900                 900   \n",
       "1  0.4811111111111111   5.27315555555555   8.587777777777777   \n",
       "2  0.4999208935073339  1.274449013194616  1.7648355920350969   \n",
       "3                   0                1.0                 3.0   \n",
       "4                   1               9.15                14.0   \n",
       "\n",
       "                                            Location  \\\n",
       "0                                                900   \n",
       "1                                               None   \n",
       "2                                               None   \n",
       "3  00103 Jeffrey Crest Apt. 205 Padillaville, IA ...   \n",
       "4                    Unit 9800 Box 2878 DPO AA 75157   \n",
       "\n",
       "                     Company                Churn  \n",
       "0                        900                  900  \n",
       "1                       None  0.16666666666666666  \n",
       "2                       None   0.3728852122772358  \n",
       "3            Abbott-Thompson                    0  \n",
       "4  Zuniga, Clark and Shaffer                    1  "
      ]
     },
     "execution_count": 6,
     "metadata": {},
     "output_type": "execute_result"
    }
   ],
   "source": [
    "data.describe().toPandas()"
   ]
  },
  {
   "cell_type": "code",
   "execution_count": 8,
   "metadata": {},
   "outputs": [
    {
     "data": {
      "text/plain": [
       "['Names',\n",
       " 'Age',\n",
       " 'Total_Purchase',\n",
       " 'Account_Manager',\n",
       " 'Years',\n",
       " 'Num_Sites',\n",
       " 'Onboard_date',\n",
       " 'Location',\n",
       " 'Company',\n",
       " 'Churn']"
      ]
     },
     "execution_count": 8,
     "metadata": {},
     "output_type": "execute_result"
    }
   ],
   "source": [
    "data.columns"
   ]
  },
  {
   "cell_type": "code",
   "execution_count": 10,
   "metadata": {},
   "outputs": [],
   "source": [
    "from pyspark.ml.feature import VectorAssembler\n",
    "assembler=VectorAssembler(inputCols=['Age',\n",
    " 'Total_Purchase',\n",
    " 'Account_Manager',\n",
    " 'Years',\n",
    " 'Num_Sites'],outputCol='features')\n",
    "output=assembler.transform(data)\n",
    "final_data=output.select('features','churn')"
   ]
  },
  {
   "cell_type": "code",
   "execution_count": 11,
   "metadata": {},
   "outputs": [],
   "source": [
    "train_data,test_data=final_data.randomSplit([0.7,0.3])"
   ]
  },
  {
   "cell_type": "code",
   "execution_count": 13,
   "metadata": {},
   "outputs": [],
   "source": [
    "from pyspark.ml.classification import LogisticRegression\n",
    "lr_churn=LogisticRegression(featuresCol='features',labelCol='churn')"
   ]
  },
  {
   "cell_type": "code",
   "execution_count": 15,
   "metadata": {},
   "outputs": [],
   "source": [
    "model=lr_churn.fit(train_data)\n",
    "summary=model.summary"
   ]
  },
  {
   "cell_type": "code",
   "execution_count": 18,
   "metadata": {},
   "outputs": [
    {
     "name": "stdout",
     "output_type": "stream",
     "text": [
      "+--------------------+-----+--------------------+--------------------+----------+\n",
      "|            features|churn|       rawPrediction|         probability|prediction|\n",
      "+--------------------+-----+--------------------+--------------------+----------+\n",
      "|[22.0,11254.38,1....|  0.0|[5.08960749037025...|[0.99387728118255...|       0.0|\n",
      "|[25.0,9672.03,0.0...|  0.0|[5.27230059510233...|[0.99489441001058...|       0.0|\n",
      "|[26.0,8787.39,1.0...|  1.0|[0.64235211430291...|[0.65528496554680...|       0.0|\n",
      "|[26.0,8939.61,0.0...|  0.0|[6.99585387374680...|[0.99908516709364...|       0.0|\n",
      "|[28.0,11204.23,0....|  0.0|[1.99811921796504...|[0.88059946645828...|       0.0|\n",
      "|[28.0,11245.38,0....|  0.0|[4.37503440512508...|[0.98756877153505...|       0.0|\n",
      "|[29.0,5900.78,1.0...|  0.0|[4.30413088167927...|[0.98666753212289...|       0.0|\n",
      "|[29.0,9617.59,0.0...|  0.0|[4.94665163553668...|[0.99294298883731...|       0.0|\n",
      "|[29.0,12711.15,0....|  0.0|[6.07640914907019...|[0.99770885348304...|       0.0|\n",
      "|[30.0,6744.87,0.0...|  0.0|[3.78234603738415...|[0.97773768407959...|       0.0|\n",
      "|[30.0,7960.64,1.0...|  1.0|[3.01257525888258...|[0.95313901267076...|       0.0|\n",
      "|[30.0,10183.98,1....|  0.0|[3.05355840379669...|[0.95493590458923...|       0.0|\n",
      "|[30.0,10744.14,1....|  1.0|[2.01670971376860...|[0.88254035766886...|       0.0|\n",
      "|[30.0,10960.52,1....|  0.0|[2.62330732880730...|[0.93234661935697...|       0.0|\n",
      "|[30.0,11575.37,1....|  1.0|[4.29876090374076...|[0.98659670667875...|       0.0|\n",
      "|[30.0,12788.37,0....|  0.0|[2.79195255608549...|[0.94223940304842...|       0.0|\n",
      "|[31.0,5304.6,0.0,...|  0.0|[3.64894476658355...|[0.97464122899528...|       0.0|\n",
      "|[31.0,5387.75,0.0...|  0.0|[2.86433269218651...|[0.94605484660373...|       0.0|\n",
      "|[31.0,7073.61,0.0...|  0.0|[3.39504789523031...|[0.96754941083724...|       0.0|\n",
      "|[31.0,8688.21,0.0...|  0.0|[7.08014124672879...|[0.99915905352710...|       0.0|\n",
      "+--------------------+-----+--------------------+--------------------+----------+\n",
      "only showing top 20 rows\n",
      "\n"
     ]
    }
   ],
   "source": [
    "summary.predictions.show()"
   ]
  },
  {
   "cell_type": "code",
   "execution_count": 19,
   "metadata": {},
   "outputs": [],
   "source": [
    "#evaluate for test data\n",
    "from pyspark.ml.evaluation import BinaryClassificationEvaluator\n",
    "pred_label=model.evaluate(test_data)"
   ]
  },
  {
   "cell_type": "code",
   "execution_count": 25,
   "metadata": {},
   "outputs": [
    {
     "name": "stdout",
     "output_type": "stream",
     "text": [
      "+--------------------+-----+--------------------+--------------------+----------+\n",
      "|            features|churn|       rawPrediction|         probability|prediction|\n",
      "+--------------------+-----+--------------------+--------------------+----------+\n",
      "|[27.0,8628.8,1.0,...|    0|[5.86277176207306...|[0.99716471007027...|       0.0|\n",
      "|[28.0,8670.98,0.0...|    0|[8.42643716230658...|[0.99978104758583...|       0.0|\n",
      "|[28.0,9090.43,1.0...|    0|[1.62074486150074...|[0.83489782969769...|       0.0|\n",
      "|[28.0,11128.95,1....|    0|[4.52050844814239...|[0.98923368647820...|       0.0|\n",
      "|[29.0,8688.17,1.0...|    1|[2.87587780708307...|[0.94664102719765...|       0.0|\n",
      "|[29.0,9378.24,0.0...|    0|[5.23552636271739...|[0.99470417371257...|       0.0|\n",
      "|[29.0,10203.18,1....|    0|[4.09863228096457...|[0.98367555237384...|       0.0|\n",
      "|[29.0,11274.46,1....|    0|[4.78729886365657...|[0.99173395617167...|       0.0|\n",
      "|[29.0,13240.01,1....|    0|[7.29670713655446...|[0.99932269215826...|       0.0|\n",
      "|[29.0,13255.05,1....|    0|[4.51962736726960...|[0.98922429856837...|       0.0|\n",
      "|[30.0,8403.78,1.0...|    0|[6.21669737663419...|[0.99800814958084...|       0.0|\n",
      "|[30.0,8677.28,1.0...|    0|[4.59479070713646...|[0.98999674095872...|       0.0|\n",
      "|[30.0,8874.83,0.0...|    0|[3.53247349467843...|[0.97159774946746...|       0.0|\n",
      "|[30.0,13473.35,0....|    0|[3.01931456937537...|[0.95343910663500...|       0.0|\n",
      "|[31.0,10058.87,1....|    0|[4.88121594892634...|[0.99246935880370...|       0.0|\n",
      "|[32.0,8575.71,0.0...|    0|[4.03541901657833...|[0.98262882133294...|       0.0|\n",
      "|[32.0,8617.98,1.0...|    1|[1.06827302642726...|[0.74426835450016...|       0.0|\n",
      "|[32.0,9885.12,1.0...|    1|[1.99010747014470...|[0.87975450688826...|       0.0|\n",
      "|[33.0,10309.71,1....|    0|[6.53433250146697...|[0.99854940889311...|       0.0|\n",
      "|[33.0,11370.28,1....|    0|[7.09351530723077...|[0.99917021625178...|       0.0|\n",
      "+--------------------+-----+--------------------+--------------------+----------+\n",
      "only showing top 20 rows\n",
      "\n"
     ]
    }
   ],
   "source": [
    "pred_label.predictions.show()"
   ]
  },
  {
   "cell_type": "code",
   "execution_count": 33,
   "metadata": {},
   "outputs": [
    {
     "data": {
      "text/plain": [
       "0.7553073861123398"
      ]
     },
     "execution_count": 33,
     "metadata": {},
     "output_type": "execute_result"
    }
   ],
   "source": [
    "eval = BinaryClassificationEvaluator(rawPredictionCol='prediction',\n",
    "                                           labelCol='churn')\n",
    "auc = eval.evaluate(pred_label.predictions)\n",
    "auc"
   ]
  },
  {
   "cell_type": "code",
   "execution_count": 34,
   "metadata": {},
   "outputs": [],
   "source": [
    "final_lr_model = lr_churn.fit(final_data)"
   ]
  },
  {
   "cell_type": "code",
   "execution_count": 38,
   "metadata": {},
   "outputs": [],
   "source": [
    "new_customers = spark.read.csv('new_customers.csv',inferSchema=True,\n",
    "                              header=True)"
   ]
  },
  {
   "cell_type": "code",
   "execution_count": 39,
   "metadata": {},
   "outputs": [
    {
     "name": "stdout",
     "output_type": "stream",
     "text": [
      "root\n",
      " |-- Names: string (nullable = true)\n",
      " |-- Age: double (nullable = true)\n",
      " |-- Total_Purchase: double (nullable = true)\n",
      " |-- Account_Manager: integer (nullable = true)\n",
      " |-- Years: double (nullable = true)\n",
      " |-- Num_Sites: double (nullable = true)\n",
      " |-- Onboard_date: timestamp (nullable = true)\n",
      " |-- Location: string (nullable = true)\n",
      " |-- Company: string (nullable = true)\n",
      "\n"
     ]
    }
   ],
   "source": [
    "new_customers.printSchema()"
   ]
  },
  {
   "cell_type": "code",
   "execution_count": 40,
   "metadata": {},
   "outputs": [],
   "source": [
    "test_new_cust=assembler.transform(new_customers)"
   ]
  },
  {
   "cell_type": "code",
   "execution_count": 42,
   "metadata": {},
   "outputs": [],
   "source": [
    "final_results=model.transform(test_new_cust)"
   ]
  },
  {
   "cell_type": "code",
   "execution_count": 44,
   "metadata": {},
   "outputs": [
    {
     "name": "stdout",
     "output_type": "stream",
     "text": [
      "+----------------+----------+\n",
      "|         Company|prediction|\n",
      "+----------------+----------+\n",
      "|        King Ltd|       0.0|\n",
      "|   Cannon-Benson|       1.0|\n",
      "|Barron-Robertson|       1.0|\n",
      "|   Sexton-Golden|       1.0|\n",
      "|        Wood LLC|       0.0|\n",
      "|   Parks-Robbins|       1.0|\n",
      "+----------------+----------+\n",
      "\n"
     ]
    }
   ],
   "source": [
    "final_results.select('Company','prediction').show()"
   ]
  },
  {
   "cell_type": "code",
   "execution_count": null,
   "metadata": {},
   "outputs": [],
   "source": []
  }
 ],
 "metadata": {
  "kernelspec": {
   "display_name": "Python 3",
   "language": "python",
   "name": "python3"
  },
  "language_info": {
   "codemirror_mode": {
    "name": "ipython",
    "version": 3
   },
   "file_extension": ".py",
   "mimetype": "text/x-python",
   "name": "python",
   "nbconvert_exporter": "python",
   "pygments_lexer": "ipython3",
   "version": "3.6.5"
  }
 },
 "nbformat": 4,
 "nbformat_minor": 2
}
