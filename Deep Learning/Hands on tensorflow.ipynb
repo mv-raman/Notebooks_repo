{
 "cells": [
  {
   "cell_type": "code",
   "execution_count": null,
   "metadata": {},
   "outputs": [],
   "source": [
    "import tensorflow as tf\n",
    "from tensorflow import keras\n",
    "print(tf.__version__)\n",
    "print(keras.__version__)\n",
    "\n",
    "fashion_mnist=keras.datasets.fashion_mnist\n",
    "(X_train_full,y_train_full),(X_test,y_test)=fashion_mnist.load_data()"
   ]
  },
  {
   "cell_type": "code",
   "execution_count": 7,
   "metadata": {},
   "outputs": [
    {
     "name": "stdout",
     "output_type": "stream",
     "text": [
      "(60000, 28, 28)\n"
     ]
    },
    {
     "data": {
      "text/plain": [
       "dtype('uint8')"
      ]
     },
     "execution_count": 7,
     "metadata": {},
     "output_type": "execute_result"
    }
   ],
   "source": [
    "print(X_train_full.shape)\n",
    "X_train_full.dtype"
   ]
  },
  {
   "cell_type": "code",
   "execution_count": 8,
   "metadata": {},
   "outputs": [],
   "source": [
    "X_valid,X_train=X_train_full[:5000]/255.0,X_train_full[5000:]/255.0\n",
    "y_valid,y_train=y_train_full[:5000],y_train_full[5000:]"
   ]
  },
  {
   "cell_type": "code",
   "execution_count": 16,
   "metadata": {},
   "outputs": [
    {
     "data": {
      "text/plain": [
       "'Coat'"
      ]
     },
     "execution_count": 16,
     "metadata": {},
     "output_type": "execute_result"
    }
   ],
   "source": [
    "class_names=[\"T-shirt/top\", \"Trouser\", \"Pullover\", \"Dress\", \"Coat\",\n",
    "               \"Sandal\", \"Shirt\", \"Sneaker\", \"Bag\", \"Ankle boot\"]\n",
    "\n",
    "class_names[y_train[0]]"
   ]
  },
  {
   "cell_type": "code",
   "execution_count": 38,
   "metadata": {},
   "outputs": [],
   "source": [
    "#creating model using sequential layer\n",
    "model=keras.models.Sequential()\n",
    "model.add(keras.layers.Flatten(input_shape=[28,28]))\n",
    "model.add(keras.layers.Dense(300,activation='relu'))\n",
    "model.add(keras.layers.Dense(300,activation='relu'))\n",
    "model.add(keras.layers.Dense(10,activation='softmax'))\n",
    "model.compile(loss='sparse_categorical_crossentropy',optimizer='sgd',metrics=['accuracy'])\n"
   ]
  },
  {
   "cell_type": "code",
   "execution_count": 39,
   "metadata": {},
   "outputs": [
    {
     "name": "stdout",
     "output_type": "stream",
     "text": [
      "Model: \"sequential_4\"\n",
      "_________________________________________________________________\n",
      "Layer (type)                 Output Shape              Param #   \n",
      "=================================================================\n",
      "flatten_4 (Flatten)          (None, 784)               0         \n",
      "_________________________________________________________________\n",
      "dense_12 (Dense)             (None, 300)               235500    \n",
      "_________________________________________________________________\n",
      "dense_13 (Dense)             (None, 300)               90300     \n",
      "_________________________________________________________________\n",
      "dense_14 (Dense)             (None, 10)                3010      \n",
      "=================================================================\n",
      "Total params: 328,810\n",
      "Trainable params: 328,810\n",
      "Non-trainable params: 0\n",
      "_________________________________________________________________\n"
     ]
    }
   ],
   "source": [
    "model.summary()"
   ]
  },
  {
   "cell_type": "code",
   "execution_count": 24,
   "metadata": {},
   "outputs": [
    {
     "data": {
      "text/plain": [
       "[<tensorflow.python.keras.layers.core.Flatten at 0x7f5f12060e48>,\n",
       " <tensorflow.python.keras.layers.core.Dense at 0x7f5f123d0908>,\n",
       " <tensorflow.python.keras.layers.core.Dense at 0x7f5f34defc50>,\n",
       " <tensorflow.python.keras.layers.core.Dense at 0x7f5f13199ac8>]"
      ]
     },
     "execution_count": 24,
     "metadata": {},
     "output_type": "execute_result"
    }
   ],
   "source": [
    "model.layers"
   ]
  },
  {
   "cell_type": "code",
   "execution_count": 29,
   "metadata": {},
   "outputs": [
    {
     "name": "stdout",
     "output_type": "stream",
     "text": [
      "dense\n"
     ]
    },
    {
     "data": {
      "text/plain": [
       "True"
      ]
     },
     "execution_count": 29,
     "metadata": {},
     "output_type": "execute_result"
    }
   ],
   "source": [
    "hidden1=model.layers[1]\n",
    "print(hidden1.name)\n",
    "model.get_layer('dense') is hidden1"
   ]
  },
  {
   "cell_type": "code",
   "execution_count": 32,
   "metadata": {},
   "outputs": [
    {
     "name": "stdout",
     "output_type": "stream",
     "text": [
      "[[ 0.02982322 -0.02024902  0.07007954 ... -0.04288669 -0.05633911\n",
      "   0.03929733]\n",
      " [ 0.07164229  0.02937537 -0.06464086 ... -0.01903797  0.01056685\n",
      "  -0.00177506]\n",
      " [-0.00892323  0.03632042 -0.06202837 ... -0.01046196  0.0343819\n",
      "   0.01365709]\n",
      " ...\n",
      " [ 0.06836717 -0.07236221 -0.03951751 ... -0.06824443  0.05305183\n",
      "   0.06904221]\n",
      " [-0.04993876  0.04749161  0.06745115 ... -0.03226865  0.04541937\n",
      "  -0.01292995]\n",
      " [ 0.0692807  -0.06131621 -0.00195677 ...  0.00500197  0.00464994\n",
      "   0.03149644]]\n",
      "(784, 300)\n",
      "_______________\n",
      "[0. 0. 0. 0. 0. 0. 0. 0. 0. 0. 0. 0. 0. 0. 0. 0. 0. 0. 0. 0. 0. 0. 0. 0.\n",
      " 0. 0. 0. 0. 0. 0. 0. 0. 0. 0. 0. 0. 0. 0. 0. 0. 0. 0. 0. 0. 0. 0. 0. 0.\n",
      " 0. 0. 0. 0. 0. 0. 0. 0. 0. 0. 0. 0. 0. 0. 0. 0. 0. 0. 0. 0. 0. 0. 0. 0.\n",
      " 0. 0. 0. 0. 0. 0. 0. 0. 0. 0. 0. 0. 0. 0. 0. 0. 0. 0. 0. 0. 0. 0. 0. 0.\n",
      " 0. 0. 0. 0. 0. 0. 0. 0. 0. 0. 0. 0. 0. 0. 0. 0. 0. 0. 0. 0. 0. 0. 0. 0.\n",
      " 0. 0. 0. 0. 0. 0. 0. 0. 0. 0. 0. 0. 0. 0. 0. 0. 0. 0. 0. 0. 0. 0. 0. 0.\n",
      " 0. 0. 0. 0. 0. 0. 0. 0. 0. 0. 0. 0. 0. 0. 0. 0. 0. 0. 0. 0. 0. 0. 0. 0.\n",
      " 0. 0. 0. 0. 0. 0. 0. 0. 0. 0. 0. 0. 0. 0. 0. 0. 0. 0. 0. 0. 0. 0. 0. 0.\n",
      " 0. 0. 0. 0. 0. 0. 0. 0. 0. 0. 0. 0. 0. 0. 0. 0. 0. 0. 0. 0. 0. 0. 0. 0.\n",
      " 0. 0. 0. 0. 0. 0. 0. 0. 0. 0. 0. 0. 0. 0. 0. 0. 0. 0. 0. 0. 0. 0. 0. 0.\n",
      " 0. 0. 0. 0. 0. 0. 0. 0. 0. 0. 0. 0. 0. 0. 0. 0. 0. 0. 0. 0. 0. 0. 0. 0.\n",
      " 0. 0. 0. 0. 0. 0. 0. 0. 0. 0. 0. 0. 0. 0. 0. 0. 0. 0. 0. 0. 0. 0. 0. 0.\n",
      " 0. 0. 0. 0. 0. 0. 0. 0. 0. 0. 0. 0.]\n",
      "(300,)\n"
     ]
    }
   ],
   "source": [
    "weights,biases=hidden1.get_weights()\n",
    "print(weights)\n",
    "print(weights.shape)\n",
    "print('_______________')\n",
    "print(biases)\n",
    "print(biases.shape)"
   ]
  },
  {
   "cell_type": "code",
   "execution_count": 40,
   "metadata": {},
   "outputs": [
    {
     "name": "stderr",
     "output_type": "stream",
     "text": [
      "WARNING: Logging before flag parsing goes to stderr.\n",
      "W0724 14:35:10.097310 140048053372736 deprecation.py:323] From /home/user/anaconda3/lib/python3.6/site-packages/tensorflow/python/ops/math_grad.py:1250: add_dispatch_support.<locals>.wrapper (from tensorflow.python.ops.array_ops) is deprecated and will be removed in a future version.\n",
      "Instructions for updating:\n",
      "Use tf.where in 2.0, which has the same broadcast rule as np.where\n"
     ]
    },
    {
     "name": "stdout",
     "output_type": "stream",
     "text": [
      "Train on 55000 samples, validate on 5000 samples\n",
      "Epoch 1/30\n",
      "55000/55000 [==============================] - 5s 83us/sample - loss: 0.7385 - accuracy: 0.7556 - val_loss: 0.5396 - val_accuracy: 0.8160\n",
      "Epoch 2/30\n",
      "55000/55000 [==============================] - 4s 70us/sample - loss: 0.4955 - accuracy: 0.8273 - val_loss: 0.4583 - val_accuracy: 0.8468\n",
      "Epoch 3/30\n",
      "55000/55000 [==============================] - 4s 75us/sample - loss: 0.4484 - accuracy: 0.8424 - val_loss: 0.4350 - val_accuracy: 0.8558\n",
      "Epoch 4/30\n",
      "55000/55000 [==============================] - 4s 73us/sample - loss: 0.4201 - accuracy: 0.8512 - val_loss: 0.3972 - val_accuracy: 0.8588\n",
      "Epoch 5/30\n",
      "55000/55000 [==============================] - 4s 74us/sample - loss: 0.3989 - accuracy: 0.8599 - val_loss: 0.3885 - val_accuracy: 0.8666\n",
      "Epoch 6/30\n",
      "55000/55000 [==============================] - 4s 79us/sample - loss: 0.3829 - accuracy: 0.8665 - val_loss: 0.3680 - val_accuracy: 0.8714\n",
      "Epoch 7/30\n",
      "55000/55000 [==============================] - 5s 82us/sample - loss: 0.3698 - accuracy: 0.8709 - val_loss: 0.3958 - val_accuracy: 0.8564\n",
      "Epoch 8/30\n",
      "55000/55000 [==============================] - 4s 79us/sample - loss: 0.3573 - accuracy: 0.8732 - val_loss: 0.3583 - val_accuracy: 0.8750\n",
      "Epoch 9/30\n",
      "55000/55000 [==============================] - 4s 72us/sample - loss: 0.3471 - accuracy: 0.8763 - val_loss: 0.3533 - val_accuracy: 0.8788\n",
      "Epoch 10/30\n",
      "55000/55000 [==============================] - 4s 73us/sample - loss: 0.3366 - accuracy: 0.8798 - val_loss: 0.3669 - val_accuracy: 0.8660\n",
      "Epoch 11/30\n",
      "55000/55000 [==============================] - 4s 71us/sample - loss: 0.3282 - accuracy: 0.8822 - val_loss: 0.3691 - val_accuracy: 0.8700\n",
      "Epoch 12/30\n",
      "55000/55000 [==============================] - 4s 73us/sample - loss: 0.3203 - accuracy: 0.8851 - val_loss: 0.3407 - val_accuracy: 0.8826\n",
      "Epoch 13/30\n",
      "55000/55000 [==============================] - 4s 72us/sample - loss: 0.3124 - accuracy: 0.8887 - val_loss: 0.3328 - val_accuracy: 0.8792\n",
      "Epoch 14/30\n",
      "55000/55000 [==============================] - 4s 73us/sample - loss: 0.3045 - accuracy: 0.8907 - val_loss: 0.3239 - val_accuracy: 0.8826\n",
      "Epoch 15/30\n",
      "55000/55000 [==============================] - 4s 74us/sample - loss: 0.2988 - accuracy: 0.8923 - val_loss: 0.3296 - val_accuracy: 0.8796\n",
      "Epoch 16/30\n",
      "55000/55000 [==============================] - 4s 75us/sample - loss: 0.2931 - accuracy: 0.8938 - val_loss: 0.3367 - val_accuracy: 0.8808\n",
      "Epoch 17/30\n",
      "55000/55000 [==============================] - 5s 82us/sample - loss: 0.2864 - accuracy: 0.8970 - val_loss: 0.3178 - val_accuracy: 0.8870\n",
      "Epoch 18/30\n",
      "55000/55000 [==============================] - 4s 82us/sample - loss: 0.2804 - accuracy: 0.8996 - val_loss: 0.3209 - val_accuracy: 0.8828\n",
      "Epoch 19/30\n",
      "55000/55000 [==============================] - 4s 75us/sample - loss: 0.2757 - accuracy: 0.9000 - val_loss: 0.3199 - val_accuracy: 0.8826\n",
      "Epoch 20/30\n",
      "55000/55000 [==============================] - 5s 84us/sample - loss: 0.2699 - accuracy: 0.9027 - val_loss: 0.3117 - val_accuracy: 0.8904\n",
      "Epoch 21/30\n",
      "55000/55000 [==============================] - 5s 97us/sample - loss: 0.2654 - accuracy: 0.9042 - val_loss: 0.3152 - val_accuracy: 0.8846\n",
      "Epoch 22/30\n",
      "55000/55000 [==============================] - 5s 98us/sample - loss: 0.2604 - accuracy: 0.9056 - val_loss: 0.3026 - val_accuracy: 0.8916\n",
      "Epoch 23/30\n",
      "55000/55000 [==============================] - 4s 81us/sample - loss: 0.2559 - accuracy: 0.9078 - val_loss: 0.3209 - val_accuracy: 0.8874\n",
      "Epoch 24/30\n",
      "55000/55000 [==============================] - 5s 83us/sample - loss: 0.2518 - accuracy: 0.9091 - val_loss: 0.3251 - val_accuracy: 0.8834\n",
      "Epoch 25/30\n",
      "55000/55000 [==============================] - 5s 91us/sample - loss: 0.2474 - accuracy: 0.9111 - val_loss: 0.3200 - val_accuracy: 0.8828\n",
      "Epoch 26/30\n",
      "55000/55000 [==============================] - 5s 86us/sample - loss: 0.2433 - accuracy: 0.9124 - val_loss: 0.3058 - val_accuracy: 0.8924\n",
      "Epoch 27/30\n",
      "55000/55000 [==============================] - 4s 77us/sample - loss: 0.2403 - accuracy: 0.9137 - val_loss: 0.2986 - val_accuracy: 0.8886\n",
      "Epoch 28/30\n",
      "55000/55000 [==============================] - 4s 77us/sample - loss: 0.2356 - accuracy: 0.9153 - val_loss: 0.3108 - val_accuracy: 0.8902\n",
      "Epoch 29/30\n",
      "55000/55000 [==============================] - 4s 75us/sample - loss: 0.2311 - accuracy: 0.9179 - val_loss: 0.2980 - val_accuracy: 0.8928\n",
      "Epoch 30/30\n",
      "55000/55000 [==============================] - 5s 83us/sample - loss: 0.2274 - accuracy: 0.9194 - val_loss: 0.3042 - val_accuracy: 0.8928\n"
     ]
    }
   ],
   "source": [
    "#fitting the model\n",
    "history=model.fit(X_train,y_train,epochs=30,validation_data=(X_valid,y_valid))"
   ]
  },
  {
   "cell_type": "code",
   "execution_count": 51,
   "metadata": {},
   "outputs": [
    {
     "data": {
      "text/plain": [
       "{'batch_size': 32,\n",
       " 'epochs': 30,\n",
       " 'steps': None,\n",
       " 'samples': 55000,\n",
       " 'verbose': 0,\n",
       " 'do_validation': True,\n",
       " 'metrics': ['loss', 'accuracy', 'val_loss', 'val_accuracy']}"
      ]
     },
     "execution_count": 51,
     "metadata": {},
     "output_type": "execute_result"
    }
   ],
   "source": [
    "history.params"
   ]
  },
  {
   "cell_type": "code",
   "execution_count": 69,
   "metadata": {},
   "outputs": [
    {
     "data": {
      "image/png": "[encoded data removed]",
      "text/plain": [
       "<Figure size 576x360 with 1 Axes>"
      ]
     },
     "metadata": {
      "needs_background": "light"
     },
     "output_type": "display_data"
    }
   ],
   "source": [
    "import pandas as pd\n",
    "import matplotlib.pyplot as plt\n",
    "import numpy as np\n",
    "\n",
    "df=pd.DataFrame(history.history)\n",
    "df.plot(figsize=(8,5))\n",
    "plt.grid(True)\n",
    "plt.gca().set_ylim(0,1)\n",
    "plt.show()"
   ]
  },
  {
   "cell_type": "code",
   "execution_count": 60,
   "metadata": {},
   "outputs": [
    {
     "name": "stdout",
     "output_type": "stream",
     "text": [
      "10000/10000 [==============================] - 1s 51us/sample - loss: 2.5734 - accuracy: 0.8377\n"
     ]
    },
    {
     "data": {
      "text/plain": [
       "[2.573371596515148, 0.8377]"
      ]
     },
     "execution_count": 60,
     "metadata": {},
     "output_type": "execute_result"
    }
   ],
   "source": [
    "#evaluate the model\n",
    "model.evaluate(X_test,y_test)"
   ]
  },
  {
   "cell_type": "code",
   "execution_count": 76,
   "metadata": {},
   "outputs": [
    {
     "data": {
      "text/plain": [
       "array(['Ankle boot', 'Pullover', 'Trouser'], dtype='<U11')"
      ]
     },
     "execution_count": 76,
     "metadata": {},
     "output_type": "execute_result"
    }
   ],
   "source": [
    "#predictions\n",
    "X_new=X_test[:3]\n",
    "y_proba=model.predict_classes(X_new)\n",
    "np.array(class_names)[y_proba]"
   ]
  },
  {
   "cell_type": "code",
   "execution_count": 93,
   "metadata": {
    "collapsed": true
   },
   "outputs": [
    {
     "name": "stdout",
     "output_type": "stream",
     "text": [
      "Train on 11610 samples, validate on 3870 samples\n",
      "Epoch 1/20\n",
      "11610/11610 [==============================] - 1s 55us/sample - loss: 0.8796 - val_loss: 1.5981\n",
      "Epoch 2/20\n",
      "11610/11610 [==============================] - 1s 47us/sample - loss: 1.8993 - val_loss: 0.5196\n",
      "Epoch 3/20\n",
      "11610/11610 [==============================] - 1s 47us/sample - loss: 0.4643 - val_loss: 0.4341\n",
      "Epoch 4/20\n",
      "11610/11610 [==============================] - 1s 60us/sample - loss: 0.4194 - val_loss: 0.4138\n",
      "Epoch 5/20\n",
      "11610/11610 [==============================] - 1s 52us/sample - loss: 0.4025 - val_loss: 0.4049\n",
      "Epoch 6/20\n",
      "11610/11610 [==============================] - 1s 57us/sample - loss: 0.4040 - val_loss: 0.3981\n",
      "Epoch 7/20\n",
      "11610/11610 [==============================] - 1s 47us/sample - loss: 0.3874 - val_loss: 0.4053\n",
      "Epoch 8/20\n",
      "11610/11610 [==============================] - 1s 45us/sample - loss: 0.3817 - val_loss: 0.3817\n",
      "Epoch 9/20\n",
      "11610/11610 [==============================] - 0s 40us/sample - loss: 0.3718 - val_loss: 0.3873\n",
      "Epoch 10/20\n",
      "11610/11610 [==============================] - 0s 40us/sample - loss: 0.3695 - val_loss: 0.3767\n",
      "Epoch 11/20\n",
      "11610/11610 [==============================] - 1s 48us/sample - loss: 0.3661 - val_loss: 0.3852\n",
      "Epoch 12/20\n",
      "11610/11610 [==============================] - 0s 41us/sample - loss: 0.3638 - val_loss: 0.3732\n",
      "Epoch 13/20\n",
      "11610/11610 [==============================] - 1s 65us/sample - loss: 0.3610 - val_loss: 0.3678\n",
      "Epoch 14/20\n",
      "11610/11610 [==============================] - 1s 63us/sample - loss: 0.3586 - val_loss: 0.3689\n",
      "Epoch 15/20\n",
      "11610/11610 [==============================] - 1s 46us/sample - loss: 0.3584 - val_loss: 0.3705\n",
      "Epoch 16/20\n",
      "11610/11610 [==============================] - 1s 48us/sample - loss: 0.3625 - val_loss: 0.3712\n",
      "Epoch 17/20\n",
      "11610/11610 [==============================] - 1s 45us/sample - loss: 0.3558 - val_loss: 0.3645\n",
      "Epoch 18/20\n",
      "11610/11610 [==============================] - 1s 50us/sample - loss: 0.3507 - val_loss: 0.3620\n",
      "Epoch 19/20\n",
      "11610/11610 [==============================] - 1s 44us/sample - loss: 0.3487 - val_loss: 0.3594\n",
      "Epoch 20/20\n",
      "11610/11610 [==============================] - 1s 100us/sample - loss: 0.3456 - val_loss: 0.3579\n",
      "5160/5160 [==============================] - 0s 28us/sample - loss: 0.3381\n"
     ]
    }
   ],
   "source": [
    "#new regression MLP\n",
    "from sklearn.datasets import fetch_california_housing\n",
    "from sklearn.model_selection import train_test_split\n",
    "from sklearn.preprocessing import StandardScaler\n",
    "\n",
    "housing=fetch_california_housing()\n",
    "\n",
    "X_train_full,X_test,y_train_full,y_test=train_test_split(housing.data,housing.target)\n",
    "X_train,X_valid,y_train,y_valid=train_test_split(X_train_full,y_train_full)\n",
    "\n",
    "\n",
    "scaler=StandardScaler()\n",
    "X_train=scaler.fit_transform(X_train)\n",
    "X_valid=scaler.transform(X_valid)\n",
    "X_test=scaler.transform(X_test)\n",
    "\n",
    "\n",
    "model_regression=keras.models.Sequential([\n",
    "    keras.layers.Dense(30,activation='relu',input_shape=X_train.shape[1:]),\n",
    "    keras.layers.Dense(1)\n",
    "])\n",
    "model_regression.compile(loss='mean_squared_error',optimizer='sgd')\n",
    "history=model_regression.fit(X_train,y_train,epochs=20,validation_data=[X_valid,y_valid])\n",
    "mse_test=model_regression.evaluate(X_test,y_test)\n",
    "X_new = X_test[:3] # pretend these are new instances\n",
    "y_pred = model_regression.predict(X_new)"
   ]
  },
  {
   "cell_type": "code",
   "execution_count": 91,
   "metadata": {
    "collapsed": true
   },
   "outputs": [
    {
     "name": "stdout",
     "output_type": "stream",
     "text": [
      "Train on 11610 samples, validate on 3870 samples\n",
      "Epoch 1/20\n",
      "11610/11610 [==============================] - 1s 60us/sample - loss: 0.7490 - val_loss: 2.6805\n",
      "Epoch 2/20\n",
      "11610/11610 [==============================] - 1s 49us/sample - loss: 0.7843 - val_loss: 1010.2739\n",
      "Epoch 3/20\n",
      "11610/11610 [==============================] - 1s 47us/sample - loss: nan - val_loss: nan\n",
      "Epoch 4/20\n",
      "11610/11610 [==============================] - 1s 50us/sample - loss: nan - val_loss: nan\n",
      "Epoch 5/20\n",
      "11610/11610 [==============================] - 1s 53us/sample - loss: nan - val_loss: nan\n",
      "Epoch 6/20\n",
      "11610/11610 [==============================] - 1s 45us/sample - loss: nan - val_loss: nan\n",
      "Epoch 7/20\n",
      "11610/11610 [==============================] - 1s 47us/sample - loss: nan - val_loss: nan\n",
      "Epoch 8/20\n",
      "11610/11610 [==============================] - 1s 46us/sample - loss: nan - val_loss: nan\n",
      "Epoch 9/20\n",
      "11610/11610 [==============================] - 1s 55us/sample - loss: nan - val_loss: nan\n",
      "Epoch 10/20\n",
      "11610/11610 [==============================] - 1s 50us/sample - loss: nan - val_loss: nan\n",
      "Epoch 11/20\n",
      "11610/11610 [==============================] - 1s 48us/sample - loss: nan - val_loss: nan\n",
      "Epoch 12/20\n",
      "11610/11610 [==============================] - 1s 45us/sample - loss: nan - val_loss: nan\n",
      "Epoch 13/20\n",
      "11610/11610 [==============================] - 1s 47us/sample - loss: nan - val_loss: nan\n",
      "Epoch 14/20\n",
      "11610/11610 [==============================] - 1s 73us/sample - loss: nan - val_loss: nan\n",
      "Epoch 15/20\n",
      "11610/11610 [==============================] - 1s 54us/sample - loss: nan - val_loss: nan\n",
      "Epoch 16/20\n",
      "11610/11610 [==============================] - 1s 55us/sample - loss: nan - val_loss: nan\n",
      "Epoch 17/20\n",
      "11610/11610 [==============================] - 1s 53us/sample - loss: nan - val_loss: nan\n",
      "Epoch 18/20\n",
      "11610/11610 [==============================] - 1s 48us/sample - loss: nan - val_loss: nan\n",
      "Epoch 19/20\n",
      "11610/11610 [==============================] - 1s 60us/sample - loss: nan - val_loss: nan\n",
      "Epoch 20/20\n",
      "11610/11610 [==============================] - 1s 63us/sample - loss: nan - val_loss: nan\n",
      "5160/5160 [==============================] - 0s 26us/sample - loss: nan\n"
     ]
    }
   ],
   "source": [
    "#wide and deep NN\n",
    "input_=keras.layers.Input(shape=X_train.shape[1:])\n",
    "hidden1=keras.layers.Dense(30,activation='relu')(input_)\n",
    "hidden2=keras.layers.Dense(30,activation='relu')(hidden1)\n",
    "concat=keras.layers.Concatenate()([input_,hidden2])\n",
    "output=keras.layers.Dense(1)(concat)\n",
    "model=keras.Model(inputs=[input_],outputs=[output])\n",
    "\n",
    "model.compile(loss='mean_squared_error',optimizer='sgd')\n",
    "history=model.fit(X_train,y_train,epochs=20,validation_data=[X_valid,y_valid])\n",
    "mse_test=model.evaluate(X_test,y_test)\n"
   ]
  },
  {
   "cell_type": "code",
   "execution_count": 98,
   "metadata": {
    "collapsed": true
   },
   "outputs": [
    {
     "name": "stdout",
     "output_type": "stream",
     "text": [
      "Train on 11610 samples\n",
      "Epoch 1/10\n",
      "11610/11610 [==============================] - 1s 46us/sample - loss: 0.2978\n",
      "Epoch 2/10\n",
      "11610/11610 [==============================] - 1s 43us/sample - loss: 0.2972\n",
      "Epoch 3/10\n",
      "11610/11610 [==============================] - 1s 57us/sample - loss: 0.2972\n",
      "Epoch 4/10\n",
      "11610/11610 [==============================] - 1s 44us/sample - loss: 0.2972\n",
      "Epoch 5/10\n",
      "11610/11610 [==============================] - 0s 36us/sample - loss: 0.2970\n",
      "Epoch 6/10\n",
      "11610/11610 [==============================] - 0s 36us/sample - loss: 0.2955\n",
      "Epoch 7/10\n",
      "11610/11610 [==============================] - 0s 40us/sample - loss: 0.2959\n",
      "Epoch 8/10\n",
      "11610/11610 [==============================] - 0s 35us/sample - loss: 0.2962\n",
      "Epoch 9/10\n",
      "11610/11610 [==============================] - 0s 40us/sample - loss: 0.2950\n",
      "Epoch 10/10\n",
      "11610/11610 [==============================] - 0s 40us/sample - loss: 0.2961\n"
     ]
    }
   ],
   "source": [
    "#saving the model\n",
    "model_regression.save('my_model.h5')\n",
    "#loading the model\n",
    "model=keras.models.load_model('my_model.h5')"
   ]
  },
  {
   "cell_type": "code",
   "execution_count": 101,
   "metadata": {
    "collapsed": true
   },
   "outputs": [
    {
     "name": "stdout",
     "output_type": "stream",
     "text": [
      "Train on 11610 samples, validate on 3870 samples\n",
      "Epoch 1/10\n",
      "11610/11610 [==============================] - 1s 51us/sample - loss: 0.2935 - val_loss: 0.3176\n",
      "Epoch 2/10\n",
      "11610/11610 [==============================] - 1s 46us/sample - loss: 0.2918 - val_loss: 0.3380\n",
      "Epoch 3/10\n",
      "11610/11610 [==============================] - 1s 49us/sample - loss: 0.2925 - val_loss: 0.3207\n",
      "Epoch 4/10\n",
      "11610/11610 [==============================] - 1s 54us/sample - loss: 0.2936 - val_loss: 0.3183\n",
      "Epoch 5/10\n",
      "11610/11610 [==============================] - 1s 45us/sample - loss: 0.2930 - val_loss: 0.3183\n",
      "Epoch 6/10\n",
      "11610/11610 [==============================] - 1s 63us/sample - loss: 0.2915 - val_loss: 0.3202\n",
      "Epoch 7/10\n",
      "11610/11610 [==============================] - 0s 42us/sample - loss: 0.2916 - val_loss: 0.3259\n",
      "Epoch 8/10\n",
      "11610/11610 [==============================] - 1s 46us/sample - loss: 0.2915 - val_loss: 0.3268\n",
      "Epoch 9/10\n",
      "11610/11610 [==============================] - 0s 42us/sample - loss: 0.2923 - val_loss: 0.3246\n",
      "Epoch 10/10\n",
      "11610/11610 [==============================] - 1s 44us/sample - loss: 0.2891 - val_loss: 0.3418\n"
     ]
    }
   ],
   "source": [
    "#using callbacks\n",
    "checkpoint_cb=keras.callbacks.ModelCheckpoint('my_model.h5',save_best_only=True)\n",
    "history=model.fit(X_train,y_train,epochs=10,validation_data=[X_valid,y_valid],callbacks=[checkpoint_cb])\n",
    "model = keras.models.load_model(\"my_model.h5\") # rollback to best model"
   ]
  },
  {
   "cell_type": "code",
   "execution_count": 104,
   "metadata": {},
   "outputs": [
    {
     "name": "stdout",
     "output_type": "stream",
     "text": [
      "Train on 11610 samples, validate on 3870 samples\n",
      "Epoch 1/100\n",
      "11610/11610 [==============================] - 1s 48us/sample - loss: 0.2871 - val_loss: 0.3136\n",
      "Epoch 2/100\n",
      "11610/11610 [==============================] - 1s 56us/sample - loss: 0.2851 - val_loss: 0.3203\n",
      "Epoch 3/100\n",
      "11610/11610 [==============================] - 1s 53us/sample - loss: 0.2860 - val_loss: 0.3156\n",
      "Epoch 4/100\n",
      "11610/11610 [==============================] - 1s 52us/sample - loss: 0.2861 - val_loss: 0.3143\n",
      "Epoch 5/100\n",
      "11610/11610 [==============================] - 1s 51us/sample - loss: 0.2859 - val_loss: 0.3126\n",
      "Epoch 6/100\n",
      "11610/11610 [==============================] - 1s 55us/sample - loss: 0.2848 - val_loss: 0.3194\n",
      "Epoch 7/100\n",
      "11610/11610 [==============================] - 1s 64us/sample - loss: 0.2852 - val_loss: 0.3199\n",
      "Epoch 8/100\n",
      "11610/11610 [==============================] - 1s 51us/sample - loss: 0.2856 - val_loss: 0.3207\n",
      "Epoch 9/100\n",
      "11610/11610 [==============================] - 1s 73us/sample - loss: 0.2854 - val_loss: 0.3248\n",
      "Epoch 10/100\n",
      "11610/11610 [==============================] - 1s 52us/sample - loss: 0.2853 - val_loss: 0.3178\n",
      "Epoch 11/100\n",
      "11610/11610 [==============================] - 1s 48us/sample - loss: 0.2855 - val_loss: 0.3182\n",
      "Epoch 12/100\n",
      "11610/11610 [==============================] - 1s 46us/sample - loss: 0.2864 - val_loss: 0.3150\n",
      "Epoch 13/100\n",
      "11610/11610 [==============================] - 1s 48us/sample - loss: 0.2857 - val_loss: 0.3177\n",
      "Epoch 14/100\n",
      "11610/11610 [==============================] - 1s 48us/sample - loss: 0.2860 - val_loss: 0.3223\n",
      "Epoch 15/100\n",
      "11610/11610 [==============================] - 1s 46us/sample - loss: 0.2851 - val_loss: 0.3324\n"
     ]
    }
   ],
   "source": [
    "#early stopping callbacks\n",
    "checkpoint_cb=keras.callbacks.ModelCheckpoint('my_model.h5',save_best_only=True)\n",
    "early_stopping_cb=keras.callbacks.EarlyStopping(patience=10,restore_best_weights=True)\n",
    "history=model.fit(X_train,y_train,epochs=100,validation_data=[X_valid,y_valid],callbacks=[checkpoint_cb,early_stopping_cb])"
   ]
  },
  {
   "cell_type": "code",
   "execution_count": 113,
   "metadata": {},
   "outputs": [],
   "source": [
    "#tensorboard\n",
    "import os\n",
    "root_logdir=os.path.join(os.curdir,'my_logs')\n",
    "\n",
    "def get_run_logdir():\n",
    "    import time\n",
    "    run_id=time.strftime('run_%Y_%m_%d_%H_%M_%S')\n",
    "    return os.path.join(root_logdir,run_id)\n",
    "        \n",
    "run_logdir=get_run_logdir()"
   ]
  },
  {
   "cell_type": "code",
   "execution_count": 116,
   "metadata": {},
   "outputs": [
    {
     "name": "stdout",
     "output_type": "stream",
     "text": [
      "Train on 11610 samples, validate on 3870 samples\n",
      "Epoch 1/100\n",
      "11610/11610 [==============================] - 0s 36us/sample - loss: 0.2786 - val_loss: 0.3087\n",
      "Epoch 2/100\n",
      "11610/11610 [==============================] - 0s 35us/sample - loss: 0.2781 - val_loss: 0.3150\n",
      "Epoch 3/100\n",
      "11610/11610 [==============================] - 1s 43us/sample - loss: 0.2781 - val_loss: 0.3100\n",
      "Epoch 4/100\n",
      "11610/11610 [==============================] - 0s 38us/sample - loss: 0.2777 - val_loss: 0.3178\n",
      "Epoch 5/100\n",
      "11610/11610 [==============================] - 0s 37us/sample - loss: 0.2781 - val_loss: 0.3101\n",
      "Epoch 6/100\n",
      "11610/11610 [==============================] - 0s 40us/sample - loss: 0.2773 - val_loss: 0.3075\n",
      "Epoch 7/100\n",
      "11610/11610 [==============================] - 0s 42us/sample - loss: 0.2769 - val_loss: 0.3112\n",
      "Epoch 8/100\n",
      "11610/11610 [==============================] - 0s 36us/sample - loss: 0.2776 - val_loss: 0.3180\n",
      "Epoch 9/100\n",
      "11610/11610 [==============================] - 1s 43us/sample - loss: 0.2772 - val_loss: 0.3115\n",
      "Epoch 10/100\n",
      "11610/11610 [==============================] - 1s 47us/sample - loss: 0.2774 - val_loss: 0.3357\n",
      "Epoch 11/100\n",
      "11610/11610 [==============================] - 0s 38us/sample - loss: 0.2778 - val_loss: 0.3127\n",
      "Epoch 12/100\n",
      "11610/11610 [==============================] - 0s 35us/sample - loss: 0.2776 - val_loss: 0.3219\n",
      "Epoch 13/100\n",
      "11610/11610 [==============================] - 0s 36us/sample - loss: 0.2775 - val_loss: 0.3106\n",
      "Epoch 14/100\n",
      "11610/11610 [==============================] - 0s 37us/sample - loss: 0.2763 - val_loss: 0.3116\n",
      "Epoch 15/100\n",
      "11610/11610 [==============================] - 0s 36us/sample - loss: 0.2770 - val_loss: 0.3122\n",
      "Epoch 16/100\n",
      "11610/11610 [==============================] - 0s 39us/sample - loss: 0.2769 - val_loss: 0.3110\n",
      "Epoch 17/100\n",
      "11610/11610 [==============================] - 0s 42us/sample - loss: 0.2796 - val_loss: 0.3110\n",
      "Epoch 18/100\n",
      "11610/11610 [==============================] - 0s 43us/sample - loss: 0.2786 - val_loss: 0.3092\n",
      "Epoch 19/100\n",
      "11610/11610 [==============================] - 1s 44us/sample - loss: 0.2779 - val_loss: 0.3137\n",
      "Epoch 20/100\n",
      "11610/11610 [==============================] - 1s 46us/sample - loss: 0.2780 - val_loss: 0.3100\n",
      "Epoch 21/100\n",
      "11610/11610 [==============================] - 0s 37us/sample - loss: 0.2763 - val_loss: 0.3181\n",
      "Epoch 22/100\n",
      "11610/11610 [==============================] - 0s 39us/sample - loss: 0.2776 - val_loss: 0.3112\n",
      "Epoch 23/100\n",
      "11610/11610 [==============================] - 0s 37us/sample - loss: 0.2764 - val_loss: 0.3106\n",
      "Epoch 24/100\n",
      "11610/11610 [==============================] - 0s 40us/sample - loss: 0.2767 - val_loss: 0.3135\n",
      "Epoch 25/100\n",
      "11610/11610 [==============================] - 0s 37us/sample - loss: 0.2768 - val_loss: 0.3092\n",
      "Epoch 26/100\n",
      "11610/11610 [==============================] - 0s 39us/sample - loss: 0.2765 - val_loss: 0.3251\n",
      "Epoch 27/100\n",
      "11610/11610 [==============================] - 0s 37us/sample - loss: 0.2772 - val_loss: 0.3202\n",
      "Epoch 28/100\n",
      "11610/11610 [==============================] - 0s 36us/sample - loss: 0.2761 - val_loss: 0.3168\n",
      "Epoch 29/100\n",
      "11610/11610 [==============================] - 0s 40us/sample - loss: 0.2752 - val_loss: 0.3139\n",
      "Epoch 30/100\n",
      "11610/11610 [==============================] - 0s 37us/sample - loss: 0.2765 - val_loss: 0.3128\n",
      "Epoch 31/100\n",
      "11610/11610 [==============================] - 0s 37us/sample - loss: 0.2754 - val_loss: 0.3121\n",
      "Epoch 32/100\n",
      "11610/11610 [==============================] - 0s 36us/sample - loss: 0.2770 - val_loss: 0.3092\n",
      "Epoch 33/100\n",
      "11610/11610 [==============================] - 0s 36us/sample - loss: 0.2769 - val_loss: 0.3168\n",
      "Epoch 34/100\n",
      "11610/11610 [==============================] - 0s 37us/sample - loss: 0.2755 - val_loss: 0.3202\n",
      "Epoch 35/100\n",
      "11610/11610 [==============================] - 0s 36us/sample - loss: 0.2787 - val_loss: 0.3114\n",
      "Epoch 36/100\n",
      "11610/11610 [==============================] - 0s 36us/sample - loss: 0.2763 - val_loss: 0.3199\n",
      "Epoch 37/100\n",
      "11610/11610 [==============================] - 0s 37us/sample - loss: 0.2754 - val_loss: 0.3319\n",
      "Epoch 38/100\n",
      "11610/11610 [==============================] - 1s 43us/sample - loss: 0.2772 - val_loss: 0.3111\n",
      "Epoch 39/100\n",
      "11610/11610 [==============================] - 1s 46us/sample - loss: 0.2750 - val_loss: 0.3139\n",
      "Epoch 40/100\n",
      "11610/11610 [==============================] - 0s 40us/sample - loss: 0.2750 - val_loss: 0.3137\n",
      "Epoch 41/100\n",
      "11610/11610 [==============================] - 0s 38us/sample - loss: 0.2754 - val_loss: 0.3097\n",
      "Epoch 42/100\n",
      "11610/11610 [==============================] - 0s 38us/sample - loss: 0.2743 - val_loss: 0.3155\n",
      "Epoch 43/100\n",
      "11610/11610 [==============================] - 0s 40us/sample - loss: 0.2740 - val_loss: 0.3100\n",
      "Epoch 44/100\n",
      "11610/11610 [==============================] - 0s 37us/sample - loss: 0.2744 - val_loss: 0.3110\n",
      "Epoch 45/100\n",
      "11610/11610 [==============================] - 0s 37us/sample - loss: 0.2751 - val_loss: 0.3193\n",
      "Epoch 46/100\n",
      "11610/11610 [==============================] - 0s 36us/sample - loss: 0.2758 - val_loss: 0.3280\n",
      "Epoch 47/100\n",
      "11610/11610 [==============================] - 0s 42us/sample - loss: 0.2825 - val_loss: 0.3089\n",
      "Epoch 48/100\n",
      "11610/11610 [==============================] - 0s 37us/sample - loss: 0.2785 - val_loss: 0.3228\n",
      "Epoch 49/100\n",
      "11610/11610 [==============================] - 0s 39us/sample - loss: 0.2768 - val_loss: 0.3236\n",
      "Epoch 50/100\n",
      "11610/11610 [==============================] - 0s 42us/sample - loss: 0.2762 - val_loss: 0.3160\n",
      "Epoch 51/100\n",
      "11610/11610 [==============================] - 1s 44us/sample - loss: 0.2762 - val_loss: 0.3129\n",
      "Epoch 52/100\n",
      "11610/11610 [==============================] - 0s 36us/sample - loss: 0.2754 - val_loss: 0.3123\n",
      "Epoch 53/100\n",
      "11610/11610 [==============================] - 0s 40us/sample - loss: 0.2758 - val_loss: 0.3108\n",
      "Epoch 54/100\n",
      "11610/11610 [==============================] - 0s 40us/sample - loss: 0.2759 - val_loss: 0.3112\n",
      "Epoch 55/100\n",
      "11610/11610 [==============================] - 0s 41us/sample - loss: 0.2735 - val_loss: 0.3307\n",
      "Epoch 56/100\n",
      "11610/11610 [==============================] - 1s 45us/sample - loss: 0.2761 - val_loss: 0.3192\n",
      "Epoch 57/100\n",
      "11610/11610 [==============================] - 0s 36us/sample - loss: 0.2768 - val_loss: 0.3120\n",
      "Epoch 58/100\n",
      "11610/11610 [==============================] - 0s 39us/sample - loss: 0.2744 - val_loss: 0.3240\n",
      "Epoch 59/100\n",
      "11610/11610 [==============================] - 0s 38us/sample - loss: 0.2753 - val_loss: 0.3096\n",
      "Epoch 60/100\n",
      "11610/11610 [==============================] - 0s 42us/sample - loss: 0.2734 - val_loss: 0.3348\n",
      "Epoch 61/100\n",
      "11610/11610 [==============================] - 0s 40us/sample - loss: 0.2736 - val_loss: 0.3165\n",
      "Epoch 62/100\n",
      "11610/11610 [==============================] - 0s 39us/sample - loss: 0.2758 - val_loss: 0.3191\n",
      "Epoch 63/100\n",
      "11610/11610 [==============================] - 0s 38us/sample - loss: 0.2749 - val_loss: 0.3130\n",
      "Epoch 64/100\n",
      "11610/11610 [==============================] - 0s 35us/sample - loss: 0.2763 - val_loss: 0.3087\n",
      "Epoch 65/100\n",
      "11610/11610 [==============================] - 0s 42us/sample - loss: 0.2741 - val_loss: 0.3160\n",
      "Epoch 66/100\n",
      "11610/11610 [==============================] - 1s 50us/sample - loss: 0.2757 - val_loss: 0.3123\n",
      "Epoch 67/100\n",
      "11610/11610 [==============================] - 0s 36us/sample - loss: 0.2744 - val_loss: 0.3110\n",
      "Epoch 68/100\n",
      "11610/11610 [==============================] - 0s 37us/sample - loss: 0.2737 - val_loss: 0.3089\n",
      "Epoch 69/100\n",
      "11610/11610 [==============================] - 0s 37us/sample - loss: 0.2763 - val_loss: 0.3113\n",
      "Epoch 70/100\n",
      "11610/11610 [==============================] - 0s 38us/sample - loss: 0.2767 - val_loss: 0.3216\n",
      "Epoch 71/100\n",
      "11610/11610 [==============================] - 0s 35us/sample - loss: 0.2801 - val_loss: 0.3197\n",
      "Epoch 72/100\n",
      "11610/11610 [==============================] - 0s 40us/sample - loss: 0.2740 - val_loss: 0.3274\n",
      "Epoch 73/100\n",
      "11610/11610 [==============================] - 1s 45us/sample - loss: 0.2733 - val_loss: 0.3192\n",
      "Epoch 74/100\n",
      "11610/11610 [==============================] - 1s 44us/sample - loss: 0.2737 - val_loss: 0.3143\n",
      "Epoch 75/100\n",
      "11610/11610 [==============================] - 0s 40us/sample - loss: 0.2736 - val_loss: 0.3097\n"
     ]
    },
    {
     "name": "stdout",
     "output_type": "stream",
     "text": [
      "Epoch 76/100\n",
      "11610/11610 [==============================] - 0s 34us/sample - loss: 0.2748 - val_loss: 0.3202\n",
      "Epoch 77/100\n",
      "11610/11610 [==============================] - 0s 35us/sample - loss: 0.2780 - val_loss: 0.3135\n",
      "Epoch 78/100\n",
      "11610/11610 [==============================] - 0s 32us/sample - loss: 0.2747 - val_loss: 0.3154\n",
      "Epoch 79/100\n",
      "11610/11610 [==============================] - 0s 31us/sample - loss: 0.2783 - val_loss: 0.3174\n",
      "Epoch 80/100\n",
      "11610/11610 [==============================] - 0s 33us/sample - loss: 0.2775 - val_loss: 0.3125\n",
      "Epoch 81/100\n",
      "11610/11610 [==============================] - 0s 32us/sample - loss: 0.2756 - val_loss: 0.3121\n",
      "Epoch 82/100\n",
      "11610/11610 [==============================] - 0s 32us/sample - loss: 0.2745 - val_loss: 0.3128\n",
      "Epoch 83/100\n",
      "11610/11610 [==============================] - 0s 33us/sample - loss: 0.2748 - val_loss: 0.3138\n",
      "Epoch 84/100\n",
      "11610/11610 [==============================] - 0s 32us/sample - loss: 0.2750 - val_loss: 0.3123\n",
      "Epoch 85/100\n",
      "11610/11610 [==============================] - 0s 33us/sample - loss: 0.2735 - val_loss: 0.3172\n",
      "Epoch 86/100\n",
      "11610/11610 [==============================] - 0s 34us/sample - loss: 0.2745 - val_loss: 0.3137\n",
      "Epoch 87/100\n",
      "11610/11610 [==============================] - 0s 32us/sample - loss: 0.2760 - val_loss: 0.3095\n",
      "Epoch 88/100\n",
      "11610/11610 [==============================] - 0s 33us/sample - loss: 0.2747 - val_loss: 0.3075\n",
      "Epoch 89/100\n",
      "11610/11610 [==============================] - 0s 33us/sample - loss: 0.2737 - val_loss: 0.3153\n",
      "Epoch 90/100\n",
      "11610/11610 [==============================] - 0s 33us/sample - loss: 0.2751 - val_loss: 0.3240\n",
      "Epoch 91/100\n",
      "11610/11610 [==============================] - 0s 38us/sample - loss: 0.2758 - val_loss: 0.3116\n",
      "Epoch 92/100\n",
      "11610/11610 [==============================] - 0s 33us/sample - loss: 0.2733 - val_loss: 0.3167\n",
      "Epoch 93/100\n",
      "11610/11610 [==============================] - 0s 34us/sample - loss: 0.2735 - val_loss: 0.3169\n",
      "Epoch 94/100\n",
      "11610/11610 [==============================] - 0s 33us/sample - loss: 0.2734 - val_loss: 0.3113\n",
      "Epoch 95/100\n",
      "11610/11610 [==============================] - 0s 33us/sample - loss: 0.2729 - val_loss: 0.3098\n",
      "Epoch 96/100\n",
      "11610/11610 [==============================] - 0s 33us/sample - loss: 0.2728 - val_loss: 0.3073\n",
      "Epoch 97/100\n",
      "11610/11610 [==============================] - 0s 34us/sample - loss: 0.2742 - val_loss: 0.3147\n",
      "Epoch 98/100\n",
      "11610/11610 [==============================] - 0s 34us/sample - loss: 0.2759 - val_loss: 0.3096\n",
      "Epoch 99/100\n",
      "11610/11610 [==============================] - 0s 34us/sample - loss: 0.2739 - val_loss: 0.3175\n",
      "Epoch 100/100\n",
      "11610/11610 [==============================] - 0s 33us/sample - loss: 0.2892 - val_loss: 0.3246\n"
     ]
    }
   ],
   "source": [
    "#early stopping callbacks\n",
    "tensorboard_cb=keras.callbacks.TensorBoard(run_logdir)\n",
    "history=model.fit(X_train,y_train,epochs=100,validation_data=[X_valid,y_valid],callbacks=[tensorboard_cb])"
   ]
  },
  {
   "cell_type": "code",
   "execution_count": null,
   "metadata": {},
   "outputs": [],
   "source": []
  }
 ],
 "metadata": {
  "kernelspec": {
   "display_name": "Python 3",
   "language": "python",
   "name": "python3"
  },
  "language_info": {
   "codemirror_mode": {
    "name": "ipython",
    "version": 3
   },
   "file_extension": ".py",
   "mimetype": "text/x-python",
   "name": "python",
   "nbconvert_exporter": "python",
   "pygments_lexer": "ipython3",
   "version": "3.8.2"
  }
 },
 "nbformat": 4,
 "nbformat_minor": 2
}
