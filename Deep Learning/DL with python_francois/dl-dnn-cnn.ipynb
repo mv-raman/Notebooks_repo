{
 "cells": [
  {
   "cell_type": "code",
   "execution_count": 1,
   "metadata": {},
   "outputs": [
    {
     "name": "stdout",
     "output_type": "stream",
     "text": [
      "Downloading data from https://storage.googleapis.com/tensorflow/tf-keras-datasets/mnist.npz\n",
      "11493376/11490434 [==============================] - 0s 0us/step\n"
     ]
    },
    {
     "data": {
      "image/png": "[encoded data removed]",
      "text/plain": [
       "<Figure size 432x288 with 1 Axes>"
      ]
     },
     "metadata": {
      "needs_background": "light"
     },
     "output_type": "display_data"
    },
    {
     "name": "stdout",
     "output_type": "stream",
     "text": [
      "5\n",
      "[[  0   0   0   0   0   0   0   0   0   0   0   0   0   0   0   0   0   0\n",
      "    0   0   0   0   0   0   0   0   0   0]\n",
      " [  0   0   0   0   0   0   0   0   0   0   0   0   0   0   0   0   0   0\n",
      "    0   0   0   0   0   0   0   0   0   0]\n",
      " [  0   0   0   0   0   0   0   0   0   0   0   0   0   0   0   0   0   0\n",
      "    0   0   0   0   0   0   0   0   0   0]\n",
      " [  0   0   0   0   0   0   0   0   0   0   0   0   0   0   0   0   0   0\n",
      "    0   0   0   0   0   0   0   0   0   0]\n",
      " [  0   0   0   0   0   0   0   0   0   0   0   0   0   0   0   0   0   0\n",
      "    0   0   0   0   0   0   0   0   0   0]\n",
      " [  0   0   0   0   0   0   0   0   0   0   0   0   3  18  18  18 126 136\n",
      "  175  26 166 255 247 127   0   0   0   0]\n",
      " [  0   0   0   0   0   0   0   0  30  36  94 154 170 253 253 253 253 253\n",
      "  225 172 253 242 195  64   0   0   0   0]\n",
      " [  0   0   0   0   0   0   0  49 238 253 253 253 253 253 253 253 253 251\n",
      "   93  82  82  56  39   0   0   0   0   0]\n",
      " [  0   0   0   0   0   0   0  18 219 253 253 253 253 253 198 182 247 241\n",
      "    0   0   0   0   0   0   0   0   0   0]\n",
      " [  0   0   0   0   0   0   0   0  80 156 107 253 253 205  11   0  43 154\n",
      "    0   0   0   0   0   0   0   0   0   0]\n",
      " [  0   0   0   0   0   0   0   0   0  14   1 154 253  90   0   0   0   0\n",
      "    0   0   0   0   0   0   0   0   0   0]\n",
      " [  0   0   0   0   0   0   0   0   0   0   0 139 253 190   2   0   0   0\n",
      "    0   0   0   0   0   0   0   0   0   0]\n",
      " [  0   0   0   0   0   0   0   0   0   0   0  11 190 253  70   0   0   0\n",
      "    0   0   0   0   0   0   0   0   0   0]\n",
      " [  0   0   0   0   0   0   0   0   0   0   0   0  35 241 225 160 108   1\n",
      "    0   0   0   0   0   0   0   0   0   0]\n",
      " [  0   0   0   0   0   0   0   0   0   0   0   0   0  81 240 253 253 119\n",
      "   25   0   0   0   0   0   0   0   0   0]\n",
      " [  0   0   0   0   0   0   0   0   0   0   0   0   0   0  45 186 253 253\n",
      "  150  27   0   0   0   0   0   0   0   0]\n",
      " [  0   0   0   0   0   0   0   0   0   0   0   0   0   0   0  16  93 252\n",
      "  253 187   0   0   0   0   0   0   0   0]\n",
      " [  0   0   0   0   0   0   0   0   0   0   0   0   0   0   0   0   0 249\n",
      "  253 249  64   0   0   0   0   0   0   0]\n",
      " [  0   0   0   0   0   0   0   0   0   0   0   0   0   0  46 130 183 253\n",
      "  253 207   2   0   0   0   0   0   0   0]\n",
      " [  0   0   0   0   0   0   0   0   0   0   0   0  39 148 229 253 253 253\n",
      "  250 182   0   0   0   0   0   0   0   0]\n",
      " [  0   0   0   0   0   0   0   0   0   0  24 114 221 253 253 253 253 201\n",
      "   78   0   0   0   0   0   0   0   0   0]\n",
      " [  0   0   0   0   0   0   0   0  23  66 213 253 253 253 253 198  81   2\n",
      "    0   0   0   0   0   0   0   0   0   0]\n",
      " [  0   0   0   0   0   0  18 171 219 253 253 253 253 195  80   9   0   0\n",
      "    0   0   0   0   0   0   0   0   0   0]\n",
      " [  0   0   0   0  55 172 226 253 253 253 253 244 133  11   0   0   0   0\n",
      "    0   0   0   0   0   0   0   0   0   0]\n",
      " [  0   0   0   0 136 253 253 253 212 135 132  16   0   0   0   0   0   0\n",
      "    0   0   0   0   0   0   0   0   0   0]\n",
      " [  0   0   0   0   0   0   0   0   0   0   0   0   0   0   0   0   0   0\n",
      "    0   0   0   0   0   0   0   0   0   0]\n",
      " [  0   0   0   0   0   0   0   0   0   0   0   0   0   0   0   0   0   0\n",
      "    0   0   0   0   0   0   0   0   0   0]\n",
      " [  0   0   0   0   0   0   0   0   0   0   0   0   0   0   0   0   0   0\n",
      "    0   0   0   0   0   0   0   0   0   0]]\n"
     ]
    }
   ],
   "source": [
    "import tensorflow as tf\n",
    "import numpy as np\n",
    "\n",
    "mnist=tf.keras.datasets.mnist\n",
    "(X_train,y_train),(X_test,y_test)=mnist.load_data()\n",
    "import matplotlib.pyplot as plt\n",
    "plt.imshow(X_train[0],cmap=plt.cm.binary)\n",
    "\n",
    "plt.show()\n",
    "print(y_train[0])\n",
    "print(X_train[0])"
   ]
  },
  {
   "cell_type": "code",
   "execution_count": 2,
   "metadata": {},
   "outputs": [
    {
     "data": {
      "image/png": "[encoded data removed]",
      "text/plain": [
       "<Figure size 432x288 with 1 Axes>"
      ]
     },
     "metadata": {
      "needs_background": "light"
     },
     "output_type": "display_data"
    },
    {
     "name": "stdout",
     "output_type": "stream",
     "text": [
      "5\n"
     ]
    }
   ],
   "source": [
    "X_train=tf.keras.utils.normalize(X_train,axis=1)\n",
    "X_test=tf.keras.utils.normalize(X_test,axis=1)\n",
    "\n",
    "import matplotlib.pyplot as plt\n",
    "plt.imshow(X_train[0],cmap=plt.cm.binary)\n",
    "plt.show()\n",
    "print(y_train[0])"
   ]
  },
  {
   "cell_type": "code",
   "execution_count": 3,
   "metadata": {},
   "outputs": [
    {
     "name": "stdout",
     "output_type": "stream",
     "text": [
      "Epoch 1/5\n",
      "60000/60000 [==============================] - 6s 93us/sample - loss: 0.2618 - acc: 0.9225\n",
      "Epoch 2/5\n",
      "60000/60000 [==============================] - 4s 75us/sample - loss: 0.1064 - acc: 0.9669\n",
      "Epoch 3/5\n",
      "60000/60000 [==============================] - 5s 76us/sample - loss: 0.0718 - acc: 0.9778\n",
      "Epoch 4/5\n",
      "60000/60000 [==============================] - 4s 75us/sample - loss: 0.0545 - acc: 0.9826\n",
      "Epoch 5/5\n",
      "60000/60000 [==============================] - 4s 75us/sample - loss: 0.0420 - acc: 0.9860\n",
      "10000/10000 [==============================] - 0s 48us/sample - loss: 0.0898 - acc: 0.9742\n",
      "0.08979326400047867\n",
      "0.9742\n"
     ]
    }
   ],
   "source": [
    "model=tf.keras.models.Sequential()\n",
    "model.add(tf.keras.layers.Flatten())\n",
    "model.add(tf.keras.layers.Dense(128,activation=tf.nn.relu))\n",
    "model.add(tf.keras.layers.Dense(128,activation=tf.nn.relu))\n",
    "model.add(tf.keras.layers.Dense(10,activation=tf.nn.softmax))\n",
    "model.compile(optimizer='adam',\n",
    "             loss='sparse_categorical_crossentropy',\n",
    "             metrics=['accuracy'])\n",
    "\n",
    "model.fit(X_train,y_train,epochs=5)\n",
    "val_loss,val_acc=model.evaluate(X_test,y_test)\n",
    "print(val_loss)\n",
    "print(val_acc)\n",
    "model.save('epic_num_reader.model')"
   ]
  },
  {
   "cell_type": "code",
   "execution_count": 4,
   "metadata": {},
   "outputs": [
    {
     "name": "stdout",
     "output_type": "stream",
     "text": [
      "7\n"
     ]
    }
   ],
   "source": [
    "new_model=tf.keras.models.load_model('epic_num_reader.model')\n",
    "predictions=new_model.predict(X_test)\n",
    "print(np.argmax(predictions[0]))"
   ]
  },
  {
   "cell_type": "code",
   "execution_count": 5,
   "metadata": {
    "_cell_guid": "b1076dfc-b9ad-4769-8c92-a6c4dae69d19",
    "_uuid": "8f2839f25d086af736a60e9eeb907d3b93b6e0e5"
   },
   "outputs": [
    {
     "name": "stdout",
     "output_type": "stream",
     "text": [
      "['train', 'sampleSubmission.csv', 'test1']\n"
     ]
    },
    {
     "name": "stderr",
     "output_type": "stream",
     "text": [
      "Using TensorFlow backend.\n"
     ]
    }
   ],
   "source": [
    "import numpy as np # linear algebra\n",
    "import pandas as pd # data processing, CSV file I/O (e.g. pd.read_csv)\n",
    "\n",
    "\n",
    "import os\n",
    "import matplotlib.pyplot as plt\n",
    "from keras.preprocessing.image import ImageDataGenerator,load_img\n",
    "print(os.listdir(\"../input\"))\n",
    "import random\n",
    "\n",
    "import pickle\n",
    "import cv2\n",
    "import tensorflow as tf\n",
    "from tensorflow.keras.models import Sequential\n",
    "from tensorflow.keras.layers import Dense,Dropout,Activation,Flatten,Conv2D,MaxPooling2D\n",
    "from tensorflow.keras.callbacks import TensorBoard\n",
    "import time\n",
    "\n",
    "# Any results you write to the current directory are saved as output."
   ]
  },
  {
   "cell_type": "code",
   "execution_count": 6,
   "metadata": {},
   "outputs": [],
   "source": [
    "filenames = os.listdir(\"../input/train/train\")\n",
    "categories = []\n",
    "for filename in filenames:\n",
    "    category = filename.split('.')[0]\n",
    "    if category == 'dog':\n",
    "        categories.append(1)\n",
    "    else:\n",
    "        categories.append(0)\n",
    "\n",
    "df = pd.DataFrame({\n",
    "    'filename': filenames,\n",
    "    'category': categories\n",
    "})"
   ]
  },
  {
   "cell_type": "code",
   "execution_count": 7,
   "metadata": {},
   "outputs": [
    {
     "data": {
      "text/html": [
       "<div>\n",
       "<style scoped>\n",
       "    .dataframe tbody tr th:only-of-type {\n",
       "        vertical-align: middle;\n",
       "    }\n",
       "\n",
       "    .dataframe tbody tr th {\n",
       "        vertical-align: top;\n",
       "    }\n",
       "\n",
       "    .dataframe thead th {\n",
       "        text-align: right;\n",
       "    }\n",
       "</style>\n",
       "<table border=\"1\" class=\"dataframe\">\n",
       "  <thead>\n",
       "    <tr style=\"text-align: right;\">\n",
       "      <th></th>\n",
       "      <th>filename</th>\n",
       "      <th>category</th>\n",
       "    </tr>\n",
       "  </thead>\n",
       "  <tbody>\n",
       "    <tr>\n",
       "      <th>0</th>\n",
       "      <td>cat.11679.jpg</td>\n",
       "      <td>0</td>\n",
       "    </tr>\n",
       "    <tr>\n",
       "      <th>1</th>\n",
       "      <td>dog.2811.jpg</td>\n",
       "      <td>1</td>\n",
       "    </tr>\n",
       "    <tr>\n",
       "      <th>2</th>\n",
       "      <td>dog.2578.jpg</td>\n",
       "      <td>1</td>\n",
       "    </tr>\n",
       "    <tr>\n",
       "      <th>3</th>\n",
       "      <td>dog.9238.jpg</td>\n",
       "      <td>1</td>\n",
       "    </tr>\n",
       "    <tr>\n",
       "      <th>4</th>\n",
       "      <td>dog.7504.jpg</td>\n",
       "      <td>1</td>\n",
       "    </tr>\n",
       "  </tbody>\n",
       "</table>\n",
       "</div>"
      ],
      "text/plain": [
       "        filename  category\n",
       "0  cat.11679.jpg         0\n",
       "1   dog.2811.jpg         1\n",
       "2   dog.2578.jpg         1\n",
       "3   dog.9238.jpg         1\n",
       "4   dog.7504.jpg         1"
      ]
     },
     "execution_count": 7,
     "metadata": {},
     "output_type": "execute_result"
    }
   ],
   "source": [
    "df.head()"
   ]
  },
  {
   "cell_type": "code",
   "execution_count": 8,
   "metadata": {},
   "outputs": [
    {
     "data": {
      "text/plain": [
       "<matplotlib.image.AxesImage at 0x7f656744e898>"
      ]
     },
     "execution_count": 8,
     "metadata": {},
     "output_type": "execute_result"
    },
    {
     "data": {
      "image/png": "[encoded data removed]",
      "text/plain": [
       "<Figure size 432x288 with 1 Axes>"
      ]
     },
     "metadata": {
      "needs_background": "light"
     },
     "output_type": "display_data"
    }
   ],
   "source": [
    "sample = random.choice(filenames)\n",
    "image = load_img(\"../input/train/train/\"+sample)\n",
    "plt.imshow(image)"
   ]
  },
  {
   "cell_type": "code",
   "execution_count": 9,
   "metadata": {},
   "outputs": [
    {
     "name": "stdout",
     "output_type": "stream",
     "text": [
      "25000\n"
     ]
    }
   ],
   "source": [
    "#DATADIR='PetImages/'\n",
    "CATEGORIES=['Cat','Dog']\n",
    "IMG_SIZE=100\n",
    "training_data=[]\n",
    "for each in df['filename'].iteritems():\n",
    "    data_dir=\"../input/train/train\"\n",
    "    category = each[1].split('.')[0]\n",
    "    if category == 'dog':\n",
    "        class_num=1\n",
    "    else:\n",
    "        class_num=0\n",
    "    img_array=cv2.imread(os.path.join(data_dir,each[1]),cv2.IMREAD_GRAYSCALE)\n",
    "    new_array=cv2.resize(img_array,(IMG_SIZE,IMG_SIZE))\n",
    "    training_data.append([new_array,class_num])\n",
    "print(len(training_data))"
   ]
  },
  {
   "cell_type": "code",
   "execution_count": 10,
   "metadata": {},
   "outputs": [],
   "source": [
    "import random\n",
    "random.shuffle(training_data)"
   ]
  },
  {
   "cell_type": "code",
   "execution_count": 11,
   "metadata": {},
   "outputs": [],
   "source": [
    "X=[]\n",
    "y=[]\n",
    "for features,labels in training_data:\n",
    "    X.append(features)\n",
    "    y.append(labels)\n",
    "X=np.array(X).reshape(-1,IMG_SIZE,IMG_SIZE,1)"
   ]
  },
  {
   "cell_type": "code",
   "execution_count": 12,
   "metadata": {},
   "outputs": [],
   "source": [
    "#saving data\n",
    "pickle_out=open('X.pickle','wb')\n",
    "pickle.dump(X,pickle_out)\n",
    "pickle_out.close()\n",
    "\n",
    "pickle_out=open('y.pickle','wb')\n",
    "pickle.dump(y,pickle_out)\n",
    "pickle_out.close()"
   ]
  },
  {
   "cell_type": "code",
   "execution_count": 13,
   "metadata": {},
   "outputs": [],
   "source": [
    "pickle_in=open('X.pickle','rb')\n",
    "X=pickle.load(pickle_in)\n",
    "pickle_in=open('y.pickle','rb')\n",
    "y=pickle.load(pickle_in)"
   ]
  },
  {
   "cell_type": "code",
   "execution_count": 14,
   "metadata": {},
   "outputs": [
    {
     "name": "stdout",
     "output_type": "stream",
     "text": [
      "Train on 20000 samples, validate on 5000 samples\n",
      "Epoch 1/10\n",
      "20000/20000 [==============================] - 25s 1ms/sample - loss: 0.6854 - acc: 0.5617 - val_loss: 0.6777 - val_acc: 0.5772\n",
      "Epoch 2/10\n",
      "20000/20000 [==============================] - 22s 1ms/sample - loss: 0.6559 - acc: 0.6122 - val_loss: 0.6329 - val_acc: 0.6386\n",
      "Epoch 3/10\n",
      "20000/20000 [==============================] - 22s 1ms/sample - loss: 0.6343 - acc: 0.6456 - val_loss: 0.5993 - val_acc: 0.6810\n",
      "Epoch 4/10\n",
      "20000/20000 [==============================] - 22s 1ms/sample - loss: 0.5761 - acc: 0.7021 - val_loss: 0.5543 - val_acc: 0.7180\n",
      "Epoch 5/10\n",
      "20000/20000 [==============================] - 22s 1ms/sample - loss: 0.5332 - acc: 0.7344 - val_loss: 0.5268 - val_acc: 0.7418\n",
      "Epoch 6/10\n",
      "20000/20000 [==============================] - 22s 1ms/sample - loss: 0.5007 - acc: 0.7559 - val_loss: 0.5393 - val_acc: 0.7454\n",
      "Epoch 7/10\n",
      "20000/20000 [==============================] - 22s 1ms/sample - loss: 0.4806 - acc: 0.7666 - val_loss: 0.5062 - val_acc: 0.7616\n",
      "Epoch 8/10\n",
      "20000/20000 [==============================] - 22s 1ms/sample - loss: 0.4635 - acc: 0.7800 - val_loss: 0.5040 - val_acc: 0.7608\n",
      "Epoch 9/10\n",
      "20000/20000 [==============================] - 22s 1ms/sample - loss: 0.4462 - acc: 0.7905 - val_loss: 0.5034 - val_acc: 0.7572\n",
      "Epoch 10/10\n",
      "20000/20000 [==============================] - 22s 1ms/sample - loss: 0.4292 - acc: 0.8024 - val_loss: 0.4853 - val_acc: 0.7750\n"
     ]
    },
    {
     "data": {
      "text/plain": [
       "<tensorflow.python.keras.callbacks.History at 0x7f64c012efd0>"
      ]
     },
     "execution_count": 14,
     "metadata": {},
     "output_type": "execute_result"
    }
   ],
   "source": [
    "\n",
    "pickle_in = open(\"X.pickle\",\"rb\")\n",
    "X = pickle.load(pickle_in)\n",
    "\n",
    "pickle_in = open(\"y.pickle\",\"rb\")\n",
    "y = pickle.load(pickle_in)\n",
    "\n",
    "Name='cats_vs_dogs_CNN-{}'.format(int(time.time()))\n",
    "tensorboard=TensorBoard(log_dir='logs/{}'.format(Name))\n",
    "\n",
    "X=X/255.0\n",
    "model=Sequential()\n",
    "\n",
    "model.add(Conv2D(256,(3,3),input_shape=X.shape[1:]))\n",
    "model.add(Activation('relu'))\n",
    "model.add(MaxPooling2D(pool_size=(2,2)))\n",
    "\n",
    "model.add(Conv2D(256,(3,3),input_shape=X.shape[1:]))\n",
    "model.add(Activation('relu'))\n",
    "model.add(MaxPooling2D(pool_size=(2,2)))\n",
    "\n",
    "model.add(Flatten())\n",
    "#model.add(Dense(64))\n",
    "#model.add(Activation('relu'))\n",
    "\n",
    "model.add(Dense(1))\n",
    "model.add(Activation('sigmoid'))\n",
    "\n",
    "\n",
    "model.compile(loss='binary_crossentropy',\n",
    "             optimizer='adam',\n",
    "             metrics=['accuracy'])\n",
    "\n",
    "model.fit(X,y,batch_size=32,epochs=10,validation_split=0.2,callbacks=[tensorboard])"
   ]
  },
  {
   "cell_type": "code",
   "execution_count": 15,
   "metadata": {},
   "outputs": [
    {
     "data": {
      "text/html": [
       "\n",
       "<!-- JUPYTER_TENSORBOARD_TEST_MARKER -->\n",
       "<script>\n",
       "    const req = {\n",
       "        method: 'POST',\n",
       "        contentType: 'application/json',\n",
       "        body: JSON.stringify({ 'logdir': 'logs' }),\n",
       "        headers: { 'Content-Type': 'application/json' }\n",
       "    };\n",
       "\n",
       "    const baseUrl = Jupyter.notebook.base_url;\n",
       "\n",
       "    fetch(baseUrl + 'api/tensorboard', req)\n",
       "        .then(res => res.json())\n",
       "        .then(res => {\n",
       "            const iframe = document.getElementById('tensorboard-c08c188e-25d3-4be0-925a-4b833064725f');\n",
       "            iframe.src = baseUrl + 'tensorboard/' + res.name;\n",
       "            iframe.style.display = 'block';\n",
       "        });\n",
       "</script>\n",
       "\n",
       "<iframe\n",
       "    id=\"tensorboard-c08c188e-25d3-4be0-925a-4b833064725f\"\n",
       "    style=\"width: 100%; height: 620px; display: none;\"\n",
       "    frameBorder=\"0\">\n",
       "</iframe>\n"
      ],
      "text/plain": [
       "<IPython.core.display.HTML object>"
      ]
     },
     "metadata": {},
     "output_type": "display_data"
    }
   ],
   "source": [
    "#!tensorboard --logdir=logs/\n",
    "%reload_ext tensorboard.notebook\n",
    "%tensorboard --logdir logs"
   ]
  },
  {
   "cell_type": "code",
   "execution_count": 16,
   "metadata": {},
   "outputs": [
    {
     "name": "stdout",
     "output_type": "stream",
     "text": [
      "1-conv-32-nodes-1-dense-1571997787\n",
      "Train on 20000 samples, validate on 5000 samples\n",
      "Epoch 1/10\n",
      "20000/20000 [==============================] - 4s 219us/sample - loss: 0.6006 - acc: 0.6723 - val_loss: 0.5500 - val_acc: 0.7302\n",
      "Epoch 2/10\n",
      "20000/20000 [==============================] - 4s 207us/sample - loss: 0.5207 - acc: 0.7452 - val_loss: 0.5464 - val_acc: 0.7238\n",
      "Epoch 3/10\n",
      "20000/20000 [==============================] - 4s 206us/sample - loss: 0.4708 - acc: 0.7753 - val_loss: 0.5209 - val_acc: 0.7466\n",
      "Epoch 4/10\n",
      "20000/20000 [==============================] - 4s 206us/sample - loss: 0.4320 - acc: 0.8025 - val_loss: 0.5320 - val_acc: 0.7450\n",
      "Epoch 5/10\n",
      "20000/20000 [==============================] - 4s 206us/sample - loss: 0.3991 - acc: 0.8220 - val_loss: 0.5350 - val_acc: 0.7494\n",
      "Epoch 6/10\n",
      "20000/20000 [==============================] - 4s 207us/sample - loss: 0.3686 - acc: 0.8388 - val_loss: 0.5574 - val_acc: 0.7356\n",
      "Epoch 7/10\n",
      "20000/20000 [==============================] - 4s 209us/sample - loss: 0.3417 - acc: 0.8522 - val_loss: 0.5678 - val_acc: 0.7336\n",
      "Epoch 8/10\n",
      "20000/20000 [==============================] - 4s 209us/sample - loss: 0.3179 - acc: 0.8666 - val_loss: 0.5787 - val_acc: 0.7376\n",
      "Epoch 9/10\n",
      "20000/20000 [==============================] - 4s 207us/sample - loss: 0.2939 - acc: 0.8823 - val_loss: 0.5889 - val_acc: 0.7428\n",
      "Epoch 10/10\n",
      "20000/20000 [==============================] - 4s 207us/sample - loss: 0.2719 - acc: 0.8898 - val_loss: 0.6069 - val_acc: 0.7410\n",
      "2-conv-32-nodes-2-dense-1571997830\n",
      "Train on 20000 samples, validate on 5000 samples\n",
      "Epoch 1/10\n",
      "20000/20000 [==============================] - 5s 240us/sample - loss: 0.6226 - acc: 0.6434 - val_loss: 0.5417 - val_acc: 0.7358\n",
      "Epoch 2/10\n",
      "20000/20000 [==============================] - 5s 248us/sample - loss: 0.5206 - acc: 0.7405 - val_loss: 0.5241 - val_acc: 0.7480\n",
      "Epoch 3/10\n",
      "20000/20000 [==============================] - 5s 233us/sample - loss: 0.4720 - acc: 0.7750 - val_loss: 0.5086 - val_acc: 0.7564\n",
      "Epoch 4/10\n",
      "20000/20000 [==============================] - 5s 228us/sample - loss: 0.4425 - acc: 0.7936 - val_loss: 0.4544 - val_acc: 0.7922\n",
      "Epoch 5/10\n",
      "20000/20000 [==============================] - 5s 226us/sample - loss: 0.4092 - acc: 0.8121 - val_loss: 0.4570 - val_acc: 0.7942\n",
      "Epoch 6/10\n",
      "20000/20000 [==============================] - 5s 226us/sample - loss: 0.3869 - acc: 0.8263 - val_loss: 0.4541 - val_acc: 0.7950\n",
      "Epoch 7/10\n",
      "20000/20000 [==============================] - 4s 225us/sample - loss: 0.3627 - acc: 0.8395 - val_loss: 0.4688 - val_acc: 0.7938\n",
      "Epoch 8/10\n",
      "20000/20000 [==============================] - 5s 226us/sample - loss: 0.3411 - acc: 0.8516 - val_loss: 0.4571 - val_acc: 0.7988\n",
      "Epoch 9/10\n",
      "20000/20000 [==============================] - 5s 226us/sample - loss: 0.3195 - acc: 0.8597 - val_loss: 0.4790 - val_acc: 0.7928\n",
      "Epoch 10/10\n",
      "20000/20000 [==============================] - 5s 227us/sample - loss: 0.2994 - acc: 0.8719 - val_loss: 0.4634 - val_acc: 0.8074\n",
      "3-conv-32-nodes-3-dense-1571997877\n",
      "Train on 20000 samples, validate on 5000 samples\n",
      "Epoch 1/10\n",
      "20000/20000 [==============================] - 5s 254us/sample - loss: 0.6199 - acc: 0.6424 - val_loss: 0.5295 - val_acc: 0.7340\n",
      "Epoch 2/10\n",
      "20000/20000 [==============================] - 5s 240us/sample - loss: 0.5177 - acc: 0.7454 - val_loss: 0.4869 - val_acc: 0.7714\n",
      "Epoch 3/10\n",
      "20000/20000 [==============================] - 5s 239us/sample - loss: 0.4632 - acc: 0.7812 - val_loss: 0.4274 - val_acc: 0.8078\n",
      "Epoch 4/10\n",
      "20000/20000 [==============================] - 5s 238us/sample - loss: 0.4267 - acc: 0.8023 - val_loss: 0.4080 - val_acc: 0.8172\n",
      "Epoch 5/10\n",
      "20000/20000 [==============================] - 5s 240us/sample - loss: 0.3997 - acc: 0.8188 - val_loss: 0.4085 - val_acc: 0.8170\n",
      "Epoch 6/10\n",
      "20000/20000 [==============================] - 5s 237us/sample - loss: 0.3734 - acc: 0.8335 - val_loss: 0.3785 - val_acc: 0.8318\n",
      "Epoch 7/10\n",
      "20000/20000 [==============================] - 5s 239us/sample - loss: 0.3527 - acc: 0.8439 - val_loss: 0.3872 - val_acc: 0.8314\n",
      "Epoch 8/10\n",
      "20000/20000 [==============================] - 5s 237us/sample - loss: 0.3284 - acc: 0.8575 - val_loss: 0.3851 - val_acc: 0.8256\n",
      "Epoch 9/10\n",
      "20000/20000 [==============================] - 5s 238us/sample - loss: 0.3094 - acc: 0.8672 - val_loss: 0.3427 - val_acc: 0.8520\n",
      "Epoch 10/10\n",
      "20000/20000 [==============================] - 5s 238us/sample - loss: 0.2967 - acc: 0.8724 - val_loss: 0.3654 - val_acc: 0.8382\n",
      "1-conv-64-nodes-1-dense-1571997926\n",
      "Train on 20000 samples, validate on 5000 samples\n",
      "Epoch 1/10\n",
      "20000/20000 [==============================] - 6s 307us/sample - loss: 0.6214 - acc: 0.6593 - val_loss: 0.5599 - val_acc: 0.7196\n",
      "Epoch 2/10\n",
      "20000/20000 [==============================] - 6s 295us/sample - loss: 0.5141 - acc: 0.7497 - val_loss: 0.5338 - val_acc: 0.7432\n",
      "Epoch 3/10\n",
      "20000/20000 [==============================] - 6s 294us/sample - loss: 0.4572 - acc: 0.7872 - val_loss: 0.5258 - val_acc: 0.7474\n",
      "Epoch 4/10\n",
      "20000/20000 [==============================] - 6s 294us/sample - loss: 0.4115 - acc: 0.8128 - val_loss: 0.5401 - val_acc: 0.7444\n",
      "Epoch 5/10\n",
      "20000/20000 [==============================] - 6s 292us/sample - loss: 0.3738 - acc: 0.8346 - val_loss: 0.5609 - val_acc: 0.7362\n",
      "Epoch 6/10\n",
      "20000/20000 [==============================] - 6s 292us/sample - loss: 0.3345 - acc: 0.8571 - val_loss: 0.5758 - val_acc: 0.7430\n",
      "Epoch 7/10\n",
      "20000/20000 [==============================] - 6s 293us/sample - loss: 0.2987 - acc: 0.8770 - val_loss: 0.6208 - val_acc: 0.7316\n",
      "Epoch 8/10\n",
      "20000/20000 [==============================] - 6s 300us/sample - loss: 0.2611 - acc: 0.8956 - val_loss: 0.6282 - val_acc: 0.7342\n",
      "Epoch 9/10\n",
      "20000/20000 [==============================] - 6s 300us/sample - loss: 0.2308 - acc: 0.9121 - val_loss: 0.6508 - val_acc: 0.7370\n",
      "Epoch 10/10\n",
      "20000/20000 [==============================] - 6s 298us/sample - loss: 0.2025 - acc: 0.9270 - val_loss: 0.7234 - val_acc: 0.7236\n",
      "2-conv-64-nodes-2-dense-1571997986\n",
      "Train on 20000 samples, validate on 5000 samples\n",
      "Epoch 1/10\n",
      "20000/20000 [==============================] - 7s 358us/sample - loss: 0.6459 - acc: 0.6190 - val_loss: 0.5697 - val_acc: 0.7100\n",
      "Epoch 2/10\n",
      "20000/20000 [==============================] - 7s 339us/sample - loss: 0.5473 - acc: 0.7229 - val_loss: 0.5259 - val_acc: 0.7386\n",
      "Epoch 3/10\n",
      "20000/20000 [==============================] - 7s 340us/sample - loss: 0.4864 - acc: 0.7641 - val_loss: 0.4753 - val_acc: 0.7824\n",
      "Epoch 4/10\n",
      "20000/20000 [==============================] - 7s 340us/sample - loss: 0.4482 - acc: 0.7920 - val_loss: 0.4576 - val_acc: 0.7958\n",
      "Epoch 5/10\n",
      "20000/20000 [==============================] - 7s 339us/sample - loss: 0.4140 - acc: 0.8133 - val_loss: 0.4639 - val_acc: 0.7860\n",
      "Epoch 6/10\n",
      "20000/20000 [==============================] - 7s 338us/sample - loss: 0.3863 - acc: 0.8271 - val_loss: 0.4632 - val_acc: 0.7972\n",
      "Epoch 7/10\n",
      "20000/20000 [==============================] - 7s 335us/sample - loss: 0.3614 - acc: 0.8408 - val_loss: 0.4583 - val_acc: 0.7944\n",
      "Epoch 8/10\n",
      "20000/20000 [==============================] - 7s 338us/sample - loss: 0.3363 - acc: 0.8548 - val_loss: 0.4526 - val_acc: 0.8046\n",
      "Epoch 9/10\n",
      "20000/20000 [==============================] - 7s 338us/sample - loss: 0.3135 - acc: 0.8656 - val_loss: 0.4775 - val_acc: 0.7872\n",
      "Epoch 10/10\n",
      "20000/20000 [==============================] - 7s 339us/sample - loss: 0.2918 - acc: 0.8763 - val_loss: 0.4784 - val_acc: 0.7962\n",
      "3-conv-64-nodes-3-dense-1571998055\n",
      "Train on 20000 samples, validate on 5000 samples\n",
      "Epoch 1/10\n",
      "20000/20000 [==============================] - 8s 380us/sample - loss: 0.6287 - acc: 0.6384 - val_loss: 0.6594 - val_acc: 0.6450\n",
      "Epoch 2/10\n",
      "20000/20000 [==============================] - 7s 358us/sample - loss: 0.5274 - acc: 0.7367 - val_loss: 0.4824 - val_acc: 0.7688\n",
      "Epoch 3/10\n",
      "20000/20000 [==============================] - 7s 355us/sample - loss: 0.4620 - acc: 0.7812 - val_loss: 0.4357 - val_acc: 0.7968\n",
      "Epoch 4/10\n",
      "20000/20000 [==============================] - 7s 356us/sample - loss: 0.4118 - acc: 0.8117 - val_loss: 0.4181 - val_acc: 0.8084\n",
      "Epoch 5/10\n",
      "20000/20000 [==============================] - 7s 358us/sample - loss: 0.3660 - acc: 0.8362 - val_loss: 0.4504 - val_acc: 0.8074\n",
      "Epoch 6/10\n",
      "20000/20000 [==============================] - 7s 353us/sample - loss: 0.3384 - acc: 0.8532 - val_loss: 0.3689 - val_acc: 0.8394\n",
      "Epoch 7/10\n",
      "20000/20000 [==============================] - 7s 354us/sample - loss: 0.3064 - acc: 0.8670 - val_loss: 0.3493 - val_acc: 0.8506\n",
      "Epoch 8/10\n",
      "20000/20000 [==============================] - 7s 355us/sample - loss: 0.2814 - acc: 0.8812 - val_loss: 0.3504 - val_acc: 0.8490\n",
      "Epoch 9/10\n",
      "20000/20000 [==============================] - 7s 361us/sample - loss: 0.2457 - acc: 0.8976 - val_loss: 0.3466 - val_acc: 0.8566\n",
      "Epoch 10/10\n",
      "20000/20000 [==============================] - 7s 358us/sample - loss: 0.2272 - acc: 0.9059 - val_loss: 0.3668 - val_acc: 0.8512\n",
      "1-conv-128-nodes-1-dense-1571998128\n",
      "Train on 20000 samples, validate on 5000 samples\n",
      "Epoch 1/10\n",
      "20000/20000 [==============================] - 10s 486us/sample - loss: 0.6284 - acc: 0.6564 - val_loss: 0.5506 - val_acc: 0.7268\n",
      "Epoch 2/10\n",
      "20000/20000 [==============================] - 10s 485us/sample - loss: 0.5166 - acc: 0.7457 - val_loss: 0.5366 - val_acc: 0.7416\n",
      "Epoch 3/10\n",
      "20000/20000 [==============================] - 9s 465us/sample - loss: 0.4543 - acc: 0.7907 - val_loss: 0.5914 - val_acc: 0.7084\n",
      "Epoch 4/10\n",
      "20000/20000 [==============================] - 9s 467us/sample - loss: 0.4019 - acc: 0.8162 - val_loss: 0.5467 - val_acc: 0.7402\n",
      "Epoch 5/10\n",
      "20000/20000 [==============================] - 9s 468us/sample - loss: 0.3565 - acc: 0.8438 - val_loss: 0.5834 - val_acc: 0.7322\n",
      "Epoch 6/10\n",
      "20000/20000 [==============================] - 9s 469us/sample - loss: 0.3066 - acc: 0.8732 - val_loss: 0.6025 - val_acc: 0.7316\n",
      "Epoch 7/10\n",
      "20000/20000 [==============================] - 9s 468us/sample - loss: 0.2654 - acc: 0.8912 - val_loss: 0.6144 - val_acc: 0.7372\n",
      "Epoch 8/10\n",
      "20000/20000 [==============================] - 9s 466us/sample - loss: 0.2257 - acc: 0.9161 - val_loss: 0.6600 - val_acc: 0.7344\n",
      "Epoch 9/10\n",
      "20000/20000 [==============================] - 9s 467us/sample - loss: 0.1871 - acc: 0.9344 - val_loss: 0.6903 - val_acc: 0.7302\n",
      "Epoch 10/10\n",
      "20000/20000 [==============================] - 10s 475us/sample - loss: 0.1587 - acc: 0.9477 - val_loss: 0.7749 - val_acc: 0.7252\n",
      "2-conv-128-nodes-2-dense-1571998224\n",
      "Train on 20000 samples, validate on 5000 samples\n",
      "Epoch 1/10\n",
      "20000/20000 [==============================] - 12s 600us/sample - loss: 0.6148 - acc: 0.6550 - val_loss: 0.5460 - val_acc: 0.7342\n",
      "Epoch 2/10\n",
      "20000/20000 [==============================] - 11s 570us/sample - loss: 0.5214 - acc: 0.7413 - val_loss: 0.5010 - val_acc: 0.7614\n",
      "Epoch 3/10\n",
      "20000/20000 [==============================] - 11s 557us/sample - loss: 0.4726 - acc: 0.7771 - val_loss: 0.4842 - val_acc: 0.7720\n",
      "Epoch 4/10\n",
      "20000/20000 [==============================] - 11s 551us/sample - loss: 0.4276 - acc: 0.8027 - val_loss: 0.4803 - val_acc: 0.7748\n",
      "Epoch 5/10\n",
      "20000/20000 [==============================] - 11s 547us/sample - loss: 0.3970 - acc: 0.8203 - val_loss: 0.4489 - val_acc: 0.7980\n",
      "Epoch 6/10\n",
      "20000/20000 [==============================] - 11s 561us/sample - loss: 0.3637 - acc: 0.8381 - val_loss: 0.4509 - val_acc: 0.7920\n",
      "Epoch 7/10\n",
      "20000/20000 [==============================] - 11s 552us/sample - loss: 0.3380 - acc: 0.8529 - val_loss: 0.4644 - val_acc: 0.7906\n",
      "Epoch 8/10\n",
      "20000/20000 [==============================] - 11s 549us/sample - loss: 0.3126 - acc: 0.8637 - val_loss: 0.4834 - val_acc: 0.7984\n",
      "Epoch 9/10\n",
      "20000/20000 [==============================] - 11s 549us/sample - loss: 0.2886 - acc: 0.8760 - val_loss: 0.4967 - val_acc: 0.7916\n",
      "Epoch 10/10\n",
      "20000/20000 [==============================] - 11s 546us/sample - loss: 0.2652 - acc: 0.8875 - val_loss: 0.5819 - val_acc: 0.7600\n",
      "3-conv-128-nodes-3-dense-1571998337\n",
      "Train on 20000 samples, validate on 5000 samples\n",
      "Epoch 1/10\n",
      "20000/20000 [==============================] - 12s 601us/sample - loss: 0.6475 - acc: 0.6076 - val_loss: 0.5676 - val_acc: 0.6988\n",
      "Epoch 2/10\n",
      "20000/20000 [==============================] - 12s 582us/sample - loss: 0.5119 - acc: 0.7476 - val_loss: 0.5075 - val_acc: 0.7608\n",
      "Epoch 3/10\n",
      "20000/20000 [==============================] - 12s 580us/sample - loss: 0.4447 - acc: 0.7940 - val_loss: 0.4415 - val_acc: 0.7968\n",
      "Epoch 4/10\n",
      "20000/20000 [==============================] - 12s 585us/sample - loss: 0.3853 - acc: 0.8264 - val_loss: 0.3967 - val_acc: 0.8246\n",
      "Epoch 5/10\n",
      "20000/20000 [==============================] - 12s 578us/sample - loss: 0.3333 - acc: 0.8539 - val_loss: 0.3457 - val_acc: 0.8520\n",
      "Epoch 6/10\n",
      "20000/20000 [==============================] - 12s 578us/sample - loss: 0.2848 - acc: 0.8779 - val_loss: 0.3748 - val_acc: 0.8392\n",
      "Epoch 7/10\n",
      "20000/20000 [==============================] - 11s 568us/sample - loss: 0.2369 - acc: 0.9010 - val_loss: 0.3721 - val_acc: 0.8566\n",
      "Epoch 8/10\n",
      "20000/20000 [==============================] - 11s 568us/sample - loss: 0.2029 - acc: 0.9171 - val_loss: 0.3764 - val_acc: 0.8482\n",
      "Epoch 9/10\n",
      "20000/20000 [==============================] - 11s 568us/sample - loss: 0.1610 - acc: 0.9360 - val_loss: 0.4150 - val_acc: 0.8456\n",
      "Epoch 10/10\n",
      "20000/20000 [==============================] - 12s 583us/sample - loss: 0.1370 - acc: 0.9455 - val_loss: 0.4293 - val_acc: 0.8476\n",
      "1-conv-32-nodes-1-dense-1571998454\n",
      "Train on 20000 samples, validate on 5000 samples\n",
      "Epoch 1/10\n",
      "20000/20000 [==============================] - 5s 228us/sample - loss: 0.6199 - acc: 0.6566 - val_loss: 0.5476 - val_acc: 0.7312\n",
      "Epoch 2/10\n",
      "20000/20000 [==============================] - 4s 207us/sample - loss: 0.5279 - acc: 0.7372 - val_loss: 0.5449 - val_acc: 0.7326\n",
      "Epoch 3/10\n",
      "20000/20000 [==============================] - 4s 205us/sample - loss: 0.4792 - acc: 0.7710 - val_loss: 0.5278 - val_acc: 0.7420\n",
      "Epoch 4/10\n",
      "20000/20000 [==============================] - 4s 204us/sample - loss: 0.4305 - acc: 0.8018 - val_loss: 0.5336 - val_acc: 0.7494\n",
      "Epoch 5/10\n",
      "20000/20000 [==============================] - 4s 203us/sample - loss: 0.3886 - acc: 0.8251 - val_loss: 0.5531 - val_acc: 0.7410\n",
      "Epoch 6/10\n",
      "20000/20000 [==============================] - 4s 203us/sample - loss: 0.3472 - acc: 0.8465 - val_loss: 0.5722 - val_acc: 0.7392\n",
      "Epoch 7/10\n",
      "20000/20000 [==============================] - 4s 201us/sample - loss: 0.3062 - acc: 0.8668 - val_loss: 0.6181 - val_acc: 0.7348\n",
      "Epoch 8/10\n",
      "20000/20000 [==============================] - 4s 205us/sample - loss: 0.2682 - acc: 0.8863 - val_loss: 0.6453 - val_acc: 0.7370\n",
      "Epoch 9/10\n",
      "20000/20000 [==============================] - 4s 204us/sample - loss: 0.2291 - acc: 0.9044 - val_loss: 0.7192 - val_acc: 0.7258\n",
      "Epoch 10/10\n",
      "20000/20000 [==============================] - 4s 203us/sample - loss: 0.1930 - acc: 0.9219 - val_loss: 0.7896 - val_acc: 0.7296\n",
      "2-conv-32-nodes-2-dense-1571998497\n",
      "Train on 20000 samples, validate on 5000 samples\n",
      "Epoch 1/10\n",
      "20000/20000 [==============================] - 5s 258us/sample - loss: 0.5987 - acc: 0.6669 - val_loss: 0.5159 - val_acc: 0.7538\n",
      "Epoch 2/10\n",
      "20000/20000 [==============================] - 5s 233us/sample - loss: 0.4898 - acc: 0.7650 - val_loss: 0.5075 - val_acc: 0.7552\n",
      "Epoch 3/10\n",
      "20000/20000 [==============================] - 5s 234us/sample - loss: 0.4372 - acc: 0.7954 - val_loss: 0.4648 - val_acc: 0.7846\n",
      "Epoch 4/10\n",
      "20000/20000 [==============================] - 5s 233us/sample - loss: 0.3921 - acc: 0.8235 - val_loss: 0.4455 - val_acc: 0.7976\n",
      "Epoch 5/10\n",
      "20000/20000 [==============================] - 5s 234us/sample - loss: 0.3528 - acc: 0.8460 - val_loss: 0.4578 - val_acc: 0.7972\n",
      "Epoch 6/10\n",
      "20000/20000 [==============================] - 5s 232us/sample - loss: 0.3214 - acc: 0.8615 - val_loss: 0.5038 - val_acc: 0.7808\n",
      "Epoch 7/10\n",
      "20000/20000 [==============================] - 5s 234us/sample - loss: 0.2929 - acc: 0.8737 - val_loss: 0.4624 - val_acc: 0.8104\n",
      "Epoch 8/10\n",
      "15040/20000 [=====================>........] - ETA: 1s - loss: 0.2517 - acc: 0.8965"
     ]
    }
   ],
   "source": [
    "#doing sort of grid search\n",
    "dense_layers=[0,1,2]\n",
    "layer_sizes=[32,64,128]\n",
    "conv_layers=[1,2,3]\n",
    "\n",
    "pickle_in = open(\"X.pickle\",\"rb\")\n",
    "X = pickle.load(pickle_in)\n",
    "\n",
    "pickle_in = open(\"y.pickle\",\"rb\")\n",
    "y = pickle.load(pickle_in)\n",
    "\n",
    "X=X/255.0\n",
    "\n",
    "for dense_layer in dense_layers:\n",
    "    for layer_size in layer_sizes:\n",
    "        for conv_layer in conv_layers:\n",
    "            Name=\"{}-conv-{}-nodes-{}-dense-{}\".format(conv_layer,layer_size,conv_layer,int(time.time()))\n",
    "            print(Name)\n",
    "            tensorboard=TensorBoard(log_dir='logs/{}'.format(Name))\n",
    "\n",
    "            \n",
    "            model=Sequential()\n",
    "\n",
    "            model.add(Conv2D(layer_size,(3,3),input_shape=X.shape[1:]))\n",
    "            model.add(Activation('relu'))\n",
    "            model.add(MaxPooling2D(pool_size=(2,2)))\n",
    "            \n",
    "            for l in range(conv_layer-1):\n",
    "                model.add(Conv2D(layer_size,(3,3),input_shape=X.shape[1:]))\n",
    "                model.add(Activation('relu'))\n",
    "                model.add(MaxPooling2D(pool_size=(2,2)))\n",
    "\n",
    "            model.add(Flatten())\n",
    "            \n",
    "            for _ in range(dense_layer):\n",
    "                    model.add(Dense(layer_size))\n",
    "                    model.add(Activation('relu'))\n",
    "                    \n",
    "            model.add(Dense(1))\n",
    "            model.add(Activation('sigmoid'))\n",
    "\n",
    "\n",
    "            model.compile(loss='binary_crossentropy',\n",
    "                         optimizer='adam',\n",
    "                         metrics=['accuracy'])\n",
    "\n",
    "            model.fit(X,y,batch_size=32,epochs=10,validation_split=0.2,callbacks=[tensorboard])"
   ]
  },
  {
   "cell_type": "code",
   "execution_count": 17,
   "metadata": {},
   "outputs": [
    {
     "name": "stdout",
     "output_type": "stream",
     "text": [
      "3-conv-64-nodes-0-dense-1571999913\n",
      "Train on 17500 samples, validate on 7500 samples\n",
      "Epoch 1/10\n",
      "17500/17500 [==============================] - 8s 448us/sample - loss: 0.6400 - acc: 0.6217 - val_loss: 0.6262 - val_acc: 0.6520\n",
      "Epoch 2/10\n",
      "17500/17500 [==============================] - 7s 388us/sample - loss: 0.5210 - acc: 0.7450 - val_loss: 0.4737 - val_acc: 0.7749\n",
      "Epoch 3/10\n",
      "17500/17500 [==============================] - 7s 388us/sample - loss: 0.4601 - acc: 0.7837 - val_loss: 0.4227 - val_acc: 0.8075\n",
      "Epoch 4/10\n",
      "17500/17500 [==============================] - 7s 390us/sample - loss: 0.4113 - acc: 0.8114 - val_loss: 0.4082 - val_acc: 0.8157\n",
      "Epoch 5/10\n",
      "17500/17500 [==============================] - 7s 391us/sample - loss: 0.3777 - acc: 0.8314 - val_loss: 0.3988 - val_acc: 0.8163\n",
      "Epoch 6/10\n",
      "17500/17500 [==============================] - 7s 389us/sample - loss: 0.3474 - acc: 0.8458 - val_loss: 0.3756 - val_acc: 0.8321\n",
      "Epoch 7/10\n",
      "17500/17500 [==============================] - 7s 411us/sample - loss: 0.3142 - acc: 0.8618 - val_loss: 0.3774 - val_acc: 0.8319\n",
      "Epoch 8/10\n",
      "17500/17500 [==============================] - 7s 390us/sample - loss: 0.2863 - acc: 0.8767 - val_loss: 0.3587 - val_acc: 0.8408\n",
      "Epoch 9/10\n",
      "17500/17500 [==============================] - 7s 387us/sample - loss: 0.2675 - acc: 0.8905 - val_loss: 0.4139 - val_acc: 0.8189\n",
      "Epoch 10/10\n",
      "17500/17500 [==============================] - 7s 390us/sample - loss: 0.2410 - acc: 0.8983 - val_loss: 0.3929 - val_acc: 0.8376\n"
     ]
    }
   ],
   "source": [
    "#prepraring final model\n",
    "\n",
    "#dense_layers = [0]\n",
    "#layer_sizes = [64]\n",
    "#conv_layers = [3]\n",
    "\n",
    "\n",
    "pickle_in = open(\"X.pickle\",\"rb\")\n",
    "X = pickle.load(pickle_in)\n",
    "\n",
    "pickle_in = open(\"y.pickle\",\"rb\")\n",
    "y = pickle.load(pickle_in)\n",
    "\n",
    "X = X/255.0\n",
    "\n",
    "dense_layers = [0]\n",
    "layer_sizes = [64]\n",
    "conv_layers = [3]\n",
    "\n",
    "for dense_layer in dense_layers:\n",
    "    for layer_size in layer_sizes:\n",
    "        for conv_layer in conv_layers:\n",
    "            NAME = \"{}-conv-{}-nodes-{}-dense-{}\".format(conv_layer, layer_size, dense_layer, int(time.time()))\n",
    "            print(NAME)\n",
    "\n",
    "            model = Sequential()\n",
    "\n",
    "            model.add(Conv2D(layer_size, (3, 3), input_shape=X.shape[1:]))\n",
    "            model.add(Activation('relu'))\n",
    "            model.add(MaxPooling2D(pool_size=(2, 2)))\n",
    "\n",
    "            for l in range(conv_layer-1):\n",
    "                model.add(Conv2D(layer_size, (3, 3)))\n",
    "                model.add(Activation('relu'))\n",
    "                model.add(MaxPooling2D(pool_size=(2, 2)))\n",
    "\n",
    "            model.add(Flatten())\n",
    "\n",
    "            for _ in range(dense_layer):\n",
    "                model.add(Dense(layer_size))\n",
    "                model.add(Activation('relu'))\n",
    "\n",
    "            model.add(Dense(1))\n",
    "            model.add(Activation('sigmoid'))\n",
    "\n",
    "            tensorboard = TensorBoard(log_dir=\"logs/{}\".format(NAME))\n",
    "\n",
    "            model.compile(loss='binary_crossentropy',\n",
    "                          optimizer='adam',\n",
    "                          metrics=['accuracy'],\n",
    "                          )\n",
    "\n",
    "            model.fit(X, y,\n",
    "                      batch_size=32,\n",
    "                      epochs=10,\n",
    "                      validation_split=0.3,\n",
    "                      callbacks=[tensorboard])\n",
    "\n",
    "model.save('64x3-CNN.model')"
   ]
  },
  {
   "cell_type": "code",
   "execution_count": 18,
   "metadata": {},
   "outputs": [
    {
     "name": "stdout",
     "output_type": "stream",
     "text": [
      "../input/train/train/dog.8472.jpg\n",
      "Dog\n"
     ]
    }
   ],
   "source": [
    "\n",
    "CATEGORIES = [\"Cat\",'Dog']  # will use this to convert prediction num to string value\n",
    "\n",
    "\n",
    "def prepare(file):\n",
    "    filepath=\"../input/train/train/\"+file\n",
    "    print(filepath)\n",
    "    IMG_SIZE = 100 \n",
    "    img_array = cv2.imread(filepath, cv2.IMREAD_GRAYSCALE)  # read in the image, convert to grayscale\n",
    "    new_array = cv2.resize(img_array, (IMG_SIZE, IMG_SIZE))  # resize image to match model's expected sizing\n",
    "    return new_array.reshape(-1, IMG_SIZE, IMG_SIZE, 1)  # return the image with shaping that TF wants.\n",
    "model=tf.keras.models.load_model('64x3-CNN.model')\n",
    "#prediction=model.predict([prepare('cat.10632.jpg')])\n",
    "prediction=model.predict([prepare('dog.8472.jpg')])\n",
    "print(CATEGORIES[int(prediction[0][0])])"
   ]
  }
 ],
 "metadata": {
  "kernelspec": {
   "display_name": "Python 3",
   "language": "python",
   "name": "python3"
  },
  "language_info": {
   "codemirror_mode": {
    "name": "ipython",
    "version": 3
   },
   "file_extension": ".py",
   "mimetype": "text/x-python",
   "name": "python",
   "nbconvert_exporter": "python",
   "pygments_lexer": "ipython3",
   "version": "3.6.6"
  }
 },
 "nbformat": 4,
 "nbformat_minor": 1
}
