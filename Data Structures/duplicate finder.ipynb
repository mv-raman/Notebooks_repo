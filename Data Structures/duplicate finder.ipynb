{
 "cells": [
  {
   "cell_type": "code",
   "execution_count": 40,
   "metadata": {},
   "outputs": [
    {
     "name": "stdout",
     "output_type": "stream",
     "text": [
      "[1, 2, 3, 4, 5, 6, 7]\n",
      "[1, 2, 3, 4, 6, 7]\n"
     ]
    },
    {
     "data": {
      "text/plain": [
       "5"
      ]
     },
     "execution_count": 40,
     "metadata": {},
     "output_type": "execute_result"
    }
   ],
   "source": [
    "def finder(arr1,arr2):\n",
    "    arr1=sorted(arr1)\n",
    "    arr2=sorted(arr2)\n",
    "    print(arr1)\n",
    "    print(arr2)\n",
    "    for i in range(len(arr2)):\n",
    "        if arr1[i]!=arr2[i]:\n",
    "            return arr1[i]\n",
    "            \n",
    "finder([1,2,3,4,5,6,7],[3,7,2,1,4,6])"
   ]
  },
  {
   "cell_type": "code",
   "execution_count": 41,
   "metadata": {},
   "outputs": [
    {
     "data": {
      "text/plain": [
       "5"
      ]
     },
     "execution_count": 41,
     "metadata": {},
     "output_type": "execute_result"
    }
   ],
   "source": [
    "def finder(arr1,arr2):\n",
    "    counter={}\n",
    "    for each in arr1:\n",
    "        if each in counter:\n",
    "            counter[each]+=1\n",
    "        else:\n",
    "            counter[each]=1\n",
    "    for each in arr2:\n",
    "        if each in counter:\n",
    "            counter[each]-=1\n",
    "        else:\n",
    "            counter[each]=1\n",
    "    \n",
    "    for each in counter:\n",
    "        if counter[each]!=0:\n",
    "            return each\n",
    "            \n",
    "finder([5,5,7,7],[5,7,7])"
   ]
  },
  {
   "cell_type": "code",
   "execution_count": 44,
   "metadata": {},
   "outputs": [
    {
     "data": {
      "text/plain": [
       "5"
      ]
     },
     "execution_count": 44,
     "metadata": {},
     "output_type": "execute_result"
    }
   ],
   "source": [
    "from collections import defaultdict\n",
    "def finder(arr1,arr2):\n",
    "    counter=defaultdict(int)\n",
    "    \n",
    "    for each in arr2:\n",
    "        counter[each]+=1\n",
    "\n",
    "    for each in arr1:\n",
    "        if counter[each]!=0:\n",
    "            counter[each]-=1\n",
    "        else:\n",
    "            return each\n",
    "            \n",
    "finder([5,5,7,7],[5,7,7])"
   ]
  },
  {
   "cell_type": "code",
   "execution_count": 50,
   "metadata": {},
   "outputs": [
    {
     "data": {
      "text/plain": [
       "5"
      ]
     },
     "execution_count": 50,
     "metadata": {},
     "output_type": "execute_result"
    }
   ],
   "source": [
    "def finder(arr1,arr2):\n",
    "    result=0\n",
    "    \n",
    "    for num in arr1+arr2:\n",
    "        #print(num)\n",
    "        result^=num\n",
    "        #print(result)\n",
    "    return result\n",
    "finder([5,5,7,7],[5,7,7])"
   ]
  },
  {
   "cell_type": "code",
   "execution_count": 51,
   "metadata": {},
   "outputs": [
    {
     "name": "stdout",
     "output_type": "stream",
     "text": [
      "ALL TEST CASES PASSED\n"
     ]
    }
   ],
   "source": [
    "\"\"\"RUN THIS CELL TO TEST YOUR SOLUTION\n",
    "\"\"\"\n",
    "from nose.tools import assert_equal\n",
    "\n",
    "class TestFinder(object):\n",
    "    \n",
    "    def test(self,sol):\n",
    "        assert_equal(sol([5,5,7,7],[5,7,7]),5)\n",
    "        assert_equal(sol([1,2,3,4,5,6,7],[3,7,2,1,4,6]),5)\n",
    "        assert_equal(sol([9,8,7,6,5,4,3,2,1],[9,8,7,5,4,3,2,1]),6)\n",
    "        print('ALL TEST CASES PASSED')\n",
    "\n",
    "# Run test\n",
    "t = TestFinder()\n",
    "t.test(finder)"
   ]
  },
  {
   "cell_type": "code",
   "execution_count": null,
   "metadata": {},
   "outputs": [],
   "source": []
  }
 ],
 "metadata": {
  "kernelspec": {
   "display_name": "Python 3",
   "language": "python",
   "name": "python3"
  },
  "language_info": {
   "codemirror_mode": {
    "name": "ipython",
    "version": 3
   },
   "file_extension": ".py",
   "mimetype": "text/x-python",
   "name": "python",
   "nbconvert_exporter": "python",
   "pygments_lexer": "ipython3",
   "version": "3.6.8"
  }
 },
 "nbformat": 4,
 "nbformat_minor": 2
}
