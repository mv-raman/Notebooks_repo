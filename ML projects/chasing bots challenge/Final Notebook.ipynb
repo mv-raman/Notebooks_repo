{
 "cells": [
  {
   "cell_type": "markdown",
   "metadata": {},
   "source": [
    "# Importing libraries"
   ]
  },
  {
   "cell_type": "code",
   "execution_count": 1,
   "metadata": {},
   "outputs": [],
   "source": [
    "import pandas as pd\n",
    "import numpy as np\n",
    "import matplotlib.pyplot as plt\n",
    "from matplotlib import pyplot\n",
    "import warnings\n",
    "warnings.filterwarnings(\"ignore\")\n",
    "import seaborn as sns\n",
    "from IPython.core.pylabtools import figsize\n",
    "from sklearn.preprocessing import LabelEncoder\n",
    "from sklearn.ensemble import RandomForestClassifier,GradientBoostingClassifier\n",
    "from sklearn.metrics import accuracy_score,roc_curve,auc,roc_auc_score\n",
    "from sklearn.model_selection import train_test_split\n",
    "from sklearn.linear_model import LogisticRegression\n",
    "from sklearn.preprocessing import StandardScaler\n",
    "from sklearn.metrics import accuracy_score,confusion_matrix,precision_score,recall_score,f1_score\n",
    "plt.rcParams['figure.figsize'] = [10, 5]\n",
    "from sklearn.model_selection import GridSearchCV,RandomizedSearchCV"
   ]
  },
  {
   "cell_type": "markdown",
   "metadata": {},
   "source": [
    "# Reading Datasets"
   ]
  },
  {
   "cell_type": "code",
   "execution_count": 2,
   "metadata": {},
   "outputs": [],
   "source": [
    "#reading dataset\n",
    "df_train=pd.read_csv('./train.csv')\n",
    "bid=pd.read_csv('./bids.csv')\n",
    "df_test=pd.read_csv('./test.csv')"
   ]
  },
  {
   "cell_type": "code",
   "execution_count": 3,
   "metadata": {},
   "outputs": [
    {
     "data": {
      "text/html": [
       "<div>\n",
       "<style scoped>\n",
       "    .dataframe tbody tr th:only-of-type {\n",
       "        vertical-align: middle;\n",
       "    }\n",
       "\n",
       "    .dataframe tbody tr th {\n",
       "        vertical-align: top;\n",
       "    }\n",
       "\n",
       "    .dataframe thead th {\n",
       "        text-align: right;\n",
       "    }\n",
       "</style>\n",
       "<table border=\"1\" class=\"dataframe\">\n",
       "  <thead>\n",
       "    <tr style=\"text-align: right;\">\n",
       "      <th></th>\n",
       "      <th>bidder_id</th>\n",
       "      <th>payment_account</th>\n",
       "      <th>address</th>\n",
       "      <th>outcome</th>\n",
       "    </tr>\n",
       "  </thead>\n",
       "  <tbody>\n",
       "    <tr>\n",
       "      <th>0</th>\n",
       "      <td>91a3c57b13234af24875c56fb7e2b2f4rb56a</td>\n",
       "      <td>a3d2de7675556553a5f08e4c88d2c228754av</td>\n",
       "      <td>a3d2de7675556553a5f08e4c88d2c228vt0u4</td>\n",
       "      <td>0</td>\n",
       "    </tr>\n",
       "    <tr>\n",
       "      <th>1</th>\n",
       "      <td>624f258b49e77713fc34034560f93fb3hu3jo</td>\n",
       "      <td>a3d2de7675556553a5f08e4c88d2c228v1sga</td>\n",
       "      <td>ae87054e5a97a8f840a3991d12611fdcrfbq3</td>\n",
       "      <td>0</td>\n",
       "    </tr>\n",
       "    <tr>\n",
       "      <th>2</th>\n",
       "      <td>1c5f4fc669099bfbfac515cd26997bd12ruaj</td>\n",
       "      <td>a3d2de7675556553a5f08e4c88d2c2280cybl</td>\n",
       "      <td>92520288b50f03907041887884ba49c0cl0pd</td>\n",
       "      <td>0</td>\n",
       "    </tr>\n",
       "    <tr>\n",
       "      <th>3</th>\n",
       "      <td>4bee9aba2abda51bf43d639013d6efe12iycd</td>\n",
       "      <td>51d80e233f7b6a7dfdee484a3c120f3b2ita8</td>\n",
       "      <td>4cb9717c8ad7e88a9a284989dd79b98dbevyi</td>\n",
       "      <td>0</td>\n",
       "    </tr>\n",
       "    <tr>\n",
       "      <th>4</th>\n",
       "      <td>4ab12bc61c82ddd9c2d65e60555808acqgos1</td>\n",
       "      <td>a3d2de7675556553a5f08e4c88d2c22857ddh</td>\n",
       "      <td>2a96c3ce94b3be921e0296097b88b56a7x1ji</td>\n",
       "      <td>0</td>\n",
       "    </tr>\n",
       "  </tbody>\n",
       "</table>\n",
       "</div>"
      ],
      "text/plain": [
       "                               bidder_id  \\\n",
       "0  91a3c57b13234af24875c56fb7e2b2f4rb56a   \n",
       "1  624f258b49e77713fc34034560f93fb3hu3jo   \n",
       "2  1c5f4fc669099bfbfac515cd26997bd12ruaj   \n",
       "3  4bee9aba2abda51bf43d639013d6efe12iycd   \n",
       "4  4ab12bc61c82ddd9c2d65e60555808acqgos1   \n",
       "\n",
       "                         payment_account  \\\n",
       "0  a3d2de7675556553a5f08e4c88d2c228754av   \n",
       "1  a3d2de7675556553a5f08e4c88d2c228v1sga   \n",
       "2  a3d2de7675556553a5f08e4c88d2c2280cybl   \n",
       "3  51d80e233f7b6a7dfdee484a3c120f3b2ita8   \n",
       "4  a3d2de7675556553a5f08e4c88d2c22857ddh   \n",
       "\n",
       "                                 address  outcome  \n",
       "0  a3d2de7675556553a5f08e4c88d2c228vt0u4        0  \n",
       "1  ae87054e5a97a8f840a3991d12611fdcrfbq3        0  \n",
       "2  92520288b50f03907041887884ba49c0cl0pd        0  \n",
       "3  4cb9717c8ad7e88a9a284989dd79b98dbevyi        0  \n",
       "4  2a96c3ce94b3be921e0296097b88b56a7x1ji        0  "
      ]
     },
     "execution_count": 3,
     "metadata": {},
     "output_type": "execute_result"
    }
   ],
   "source": [
    "df_train.head()"
   ]
  },
  {
   "cell_type": "code",
   "execution_count": 4,
   "metadata": {
    "scrolled": false
   },
   "outputs": [
    {
     "data": {
      "text/html": [
       "<div>\n",
       "<style scoped>\n",
       "    .dataframe tbody tr th:only-of-type {\n",
       "        vertical-align: middle;\n",
       "    }\n",
       "\n",
       "    .dataframe tbody tr th {\n",
       "        vertical-align: top;\n",
       "    }\n",
       "\n",
       "    .dataframe thead th {\n",
       "        text-align: right;\n",
       "    }\n",
       "</style>\n",
       "<table border=\"1\" class=\"dataframe\">\n",
       "  <thead>\n",
       "    <tr style=\"text-align: right;\">\n",
       "      <th></th>\n",
       "      <th>bid_id</th>\n",
       "      <th>bidder_id</th>\n",
       "      <th>auction</th>\n",
       "      <th>merchandise</th>\n",
       "      <th>device</th>\n",
       "      <th>time</th>\n",
       "      <th>country</th>\n",
       "      <th>ip</th>\n",
       "      <th>url</th>\n",
       "    </tr>\n",
       "  </thead>\n",
       "  <tbody>\n",
       "    <tr>\n",
       "      <th>0</th>\n",
       "      <td>0</td>\n",
       "      <td>8dac2b259fd1c6d1120e519fb1ac14fbqvax8</td>\n",
       "      <td>ewmzr</td>\n",
       "      <td>jewelry</td>\n",
       "      <td>phone0</td>\n",
       "      <td>9759243157894736</td>\n",
       "      <td>us</td>\n",
       "      <td>69.166.231.58</td>\n",
       "      <td>vasstdc27m7nks3</td>\n",
       "    </tr>\n",
       "    <tr>\n",
       "      <th>1</th>\n",
       "      <td>1</td>\n",
       "      <td>668d393e858e8126275433046bbd35c6tywop</td>\n",
       "      <td>aeqok</td>\n",
       "      <td>furniture</td>\n",
       "      <td>phone1</td>\n",
       "      <td>9759243157894736</td>\n",
       "      <td>in</td>\n",
       "      <td>50.201.125.84</td>\n",
       "      <td>jmqlhflrzwuay9c</td>\n",
       "    </tr>\n",
       "    <tr>\n",
       "      <th>2</th>\n",
       "      <td>2</td>\n",
       "      <td>aa5f360084278b35d746fa6af3a7a1a5ra3xe</td>\n",
       "      <td>wa00e</td>\n",
       "      <td>home goods</td>\n",
       "      <td>phone2</td>\n",
       "      <td>9759243157894736</td>\n",
       "      <td>py</td>\n",
       "      <td>112.54.208.157</td>\n",
       "      <td>vasstdc27m7nks3</td>\n",
       "    </tr>\n",
       "    <tr>\n",
       "      <th>3</th>\n",
       "      <td>3</td>\n",
       "      <td>3939ac3ef7d472a59a9c5f893dd3e39fh9ofi</td>\n",
       "      <td>jefix</td>\n",
       "      <td>jewelry</td>\n",
       "      <td>phone4</td>\n",
       "      <td>9759243157894736</td>\n",
       "      <td>in</td>\n",
       "      <td>18.99.175.133</td>\n",
       "      <td>vasstdc27m7nks3</td>\n",
       "    </tr>\n",
       "    <tr>\n",
       "      <th>4</th>\n",
       "      <td>4</td>\n",
       "      <td>8393c48eaf4b8fa96886edc7cf27b372dsibi</td>\n",
       "      <td>jefix</td>\n",
       "      <td>jewelry</td>\n",
       "      <td>phone5</td>\n",
       "      <td>9759243157894736</td>\n",
       "      <td>in</td>\n",
       "      <td>145.138.5.37</td>\n",
       "      <td>vasstdc27m7nks3</td>\n",
       "    </tr>\n",
       "  </tbody>\n",
       "</table>\n",
       "</div>"
      ],
      "text/plain": [
       "   bid_id                              bidder_id auction merchandise  device  \\\n",
       "0       0  8dac2b259fd1c6d1120e519fb1ac14fbqvax8   ewmzr     jewelry  phone0   \n",
       "1       1  668d393e858e8126275433046bbd35c6tywop   aeqok   furniture  phone1   \n",
       "2       2  aa5f360084278b35d746fa6af3a7a1a5ra3xe   wa00e  home goods  phone2   \n",
       "3       3  3939ac3ef7d472a59a9c5f893dd3e39fh9ofi   jefix     jewelry  phone4   \n",
       "4       4  8393c48eaf4b8fa96886edc7cf27b372dsibi   jefix     jewelry  phone5   \n",
       "\n",
       "               time country              ip              url  \n",
       "0  9759243157894736      us   69.166.231.58  vasstdc27m7nks3  \n",
       "1  9759243157894736      in   50.201.125.84  jmqlhflrzwuay9c  \n",
       "2  9759243157894736      py  112.54.208.157  vasstdc27m7nks3  \n",
       "3  9759243157894736      in   18.99.175.133  vasstdc27m7nks3  \n",
       "4  9759243157894736      in    145.138.5.37  vasstdc27m7nks3  "
      ]
     },
     "execution_count": 4,
     "metadata": {},
     "output_type": "execute_result"
    }
   ],
   "source": [
    "bid.head()"
   ]
  },
  {
   "cell_type": "code",
   "execution_count": 5,
   "metadata": {},
   "outputs": [
    {
     "name": "stdout",
     "output_type": "stream",
     "text": [
      "(1465818, 12)\n",
      "<class 'pandas.core.frame.DataFrame'>\n",
      "Int64Index: 1465818 entries, 0 to 1465817\n",
      "Data columns (total 12 columns):\n",
      "bidder_id          1465818 non-null object\n",
      "payment_account    1465818 non-null object\n",
      "address            1465818 non-null object\n",
      "outcome            1465818 non-null int64\n",
      "bid_id             1465794 non-null float64\n",
      "auction            1465794 non-null object\n",
      "merchandise        1465794 non-null object\n",
      "device             1465794 non-null object\n",
      "time               1465794 non-null float64\n",
      "country            1463674 non-null object\n",
      "ip                 1465794 non-null object\n",
      "url                1465794 non-null object\n",
      "dtypes: float64(2), int64(1), object(9)\n",
      "memory usage: 145.4+ MB\n"
     ]
    }
   ],
   "source": [
    "#merging Datasets\n",
    "def mergeDF(df):\n",
    "    df_ans=df.merge(bid,how='left')\n",
    "    return df_ans\n",
    "df=mergeDF(df_train)\n",
    "test=mergeDF(df_test)\n",
    "print(df.shape)\n",
    "df.info()"
   ]
  },
  {
   "cell_type": "code",
   "execution_count": 6,
   "metadata": {
    "scrolled": true
   },
   "outputs": [
    {
     "data": {
      "text/html": [
       "<div>\n",
       "<style scoped>\n",
       "    .dataframe tbody tr th:only-of-type {\n",
       "        vertical-align: middle;\n",
       "    }\n",
       "\n",
       "    .dataframe tbody tr th {\n",
       "        vertical-align: top;\n",
       "    }\n",
       "\n",
       "    .dataframe thead th {\n",
       "        text-align: right;\n",
       "    }\n",
       "</style>\n",
       "<table border=\"1\" class=\"dataframe\">\n",
       "  <thead>\n",
       "    <tr style=\"text-align: right;\">\n",
       "      <th></th>\n",
       "      <th>bidder_id</th>\n",
       "      <th>payment_account</th>\n",
       "      <th>address</th>\n",
       "      <th>outcome</th>\n",
       "      <th>bid_id</th>\n",
       "      <th>auction</th>\n",
       "      <th>merchandise</th>\n",
       "      <th>device</th>\n",
       "      <th>time</th>\n",
       "      <th>country</th>\n",
       "      <th>ip</th>\n",
       "      <th>url</th>\n",
       "    </tr>\n",
       "  </thead>\n",
       "  <tbody>\n",
       "    <tr>\n",
       "      <th>0</th>\n",
       "      <td>91a3c57b13234af24875c56fb7e2b2f4rb56a</td>\n",
       "      <td>a3d2de7675556553a5f08e4c88d2c228754av</td>\n",
       "      <td>a3d2de7675556553a5f08e4c88d2c228vt0u4</td>\n",
       "      <td>0</td>\n",
       "      <td>85371.0</td>\n",
       "      <td>yitr4</td>\n",
       "      <td>home goods</td>\n",
       "      <td>phone35</td>\n",
       "      <td>9.759489e+15</td>\n",
       "      <td>ke</td>\n",
       "      <td>82.34.177.248</td>\n",
       "      <td>vasstdc27m7nks3</td>\n",
       "    </tr>\n",
       "    <tr>\n",
       "      <th>1</th>\n",
       "      <td>91a3c57b13234af24875c56fb7e2b2f4rb56a</td>\n",
       "      <td>a3d2de7675556553a5f08e4c88d2c228754av</td>\n",
       "      <td>a3d2de7675556553a5f08e4c88d2c228vt0u4</td>\n",
       "      <td>0</td>\n",
       "      <td>274487.0</td>\n",
       "      <td>btpyy</td>\n",
       "      <td>home goods</td>\n",
       "      <td>phone1004</td>\n",
       "      <td>9.760249e+15</td>\n",
       "      <td>zm</td>\n",
       "      <td>202.130.71.167</td>\n",
       "      <td>vasstdc27m7nks3</td>\n",
       "    </tr>\n",
       "    <tr>\n",
       "      <th>2</th>\n",
       "      <td>91a3c57b13234af24875c56fb7e2b2f4rb56a</td>\n",
       "      <td>a3d2de7675556553a5f08e4c88d2c228754av</td>\n",
       "      <td>a3d2de7675556553a5f08e4c88d2c228vt0u4</td>\n",
       "      <td>0</td>\n",
       "      <td>527436.0</td>\n",
       "      <td>kj2ko</td>\n",
       "      <td>home goods</td>\n",
       "      <td>phone4</td>\n",
       "      <td>9.762261e+15</td>\n",
       "      <td>ke</td>\n",
       "      <td>22.54.76.225</td>\n",
       "      <td>vasstdc27m7nks3</td>\n",
       "    </tr>\n",
       "    <tr>\n",
       "      <th>3</th>\n",
       "      <td>91a3c57b13234af24875c56fb7e2b2f4rb56a</td>\n",
       "      <td>a3d2de7675556553a5f08e4c88d2c228754av</td>\n",
       "      <td>a3d2de7675556553a5f08e4c88d2c228vt0u4</td>\n",
       "      <td>0</td>\n",
       "      <td>554135.0</td>\n",
       "      <td>1m5t8</td>\n",
       "      <td>home goods</td>\n",
       "      <td>phone4</td>\n",
       "      <td>9.762431e+15</td>\n",
       "      <td>ke</td>\n",
       "      <td>32.13.237.126</td>\n",
       "      <td>vasstdc27m7nks3</td>\n",
       "    </tr>\n",
       "    <tr>\n",
       "      <th>4</th>\n",
       "      <td>91a3c57b13234af24875c56fb7e2b2f4rb56a</td>\n",
       "      <td>a3d2de7675556553a5f08e4c88d2c228754av</td>\n",
       "      <td>a3d2de7675556553a5f08e4c88d2c228vt0u4</td>\n",
       "      <td>0</td>\n",
       "      <td>607628.0</td>\n",
       "      <td>btpyy</td>\n",
       "      <td>home goods</td>\n",
       "      <td>phone4</td>\n",
       "      <td>9.762789e+15</td>\n",
       "      <td>ke</td>\n",
       "      <td>202.236.188.240</td>\n",
       "      <td>vasstdc27m7nks3</td>\n",
       "    </tr>\n",
       "  </tbody>\n",
       "</table>\n",
       "</div>"
      ],
      "text/plain": [
       "                               bidder_id  \\\n",
       "0  91a3c57b13234af24875c56fb7e2b2f4rb56a   \n",
       "1  91a3c57b13234af24875c56fb7e2b2f4rb56a   \n",
       "2  91a3c57b13234af24875c56fb7e2b2f4rb56a   \n",
       "3  91a3c57b13234af24875c56fb7e2b2f4rb56a   \n",
       "4  91a3c57b13234af24875c56fb7e2b2f4rb56a   \n",
       "\n",
       "                         payment_account  \\\n",
       "0  a3d2de7675556553a5f08e4c88d2c228754av   \n",
       "1  a3d2de7675556553a5f08e4c88d2c228754av   \n",
       "2  a3d2de7675556553a5f08e4c88d2c228754av   \n",
       "3  a3d2de7675556553a5f08e4c88d2c228754av   \n",
       "4  a3d2de7675556553a5f08e4c88d2c228754av   \n",
       "\n",
       "                                 address  outcome    bid_id auction  \\\n",
       "0  a3d2de7675556553a5f08e4c88d2c228vt0u4        0   85371.0   yitr4   \n",
       "1  a3d2de7675556553a5f08e4c88d2c228vt0u4        0  274487.0   btpyy   \n",
       "2  a3d2de7675556553a5f08e4c88d2c228vt0u4        0  527436.0   kj2ko   \n",
       "3  a3d2de7675556553a5f08e4c88d2c228vt0u4        0  554135.0   1m5t8   \n",
       "4  a3d2de7675556553a5f08e4c88d2c228vt0u4        0  607628.0   btpyy   \n",
       "\n",
       "  merchandise     device          time country               ip  \\\n",
       "0  home goods    phone35  9.759489e+15      ke    82.34.177.248   \n",
       "1  home goods  phone1004  9.760249e+15      zm   202.130.71.167   \n",
       "2  home goods     phone4  9.762261e+15      ke     22.54.76.225   \n",
       "3  home goods     phone4  9.762431e+15      ke    32.13.237.126   \n",
       "4  home goods     phone4  9.762789e+15      ke  202.236.188.240   \n",
       "\n",
       "               url  \n",
       "0  vasstdc27m7nks3  \n",
       "1  vasstdc27m7nks3  \n",
       "2  vasstdc27m7nks3  \n",
       "3  vasstdc27m7nks3  \n",
       "4  vasstdc27m7nks3  "
      ]
     },
     "execution_count": 6,
     "metadata": {},
     "output_type": "execute_result"
    }
   ],
   "source": [
    "df.head()"
   ]
  },
  {
   "cell_type": "markdown",
   "metadata": {},
   "source": [
    "# Missing Value treatment and Encoding"
   ]
  },
  {
   "cell_type": "code",
   "execution_count": 11,
   "metadata": {},
   "outputs": [
    {
     "data": {
      "text/html": [
       "<div>\n",
       "<style scoped>\n",
       "    .dataframe tbody tr th:only-of-type {\n",
       "        vertical-align: middle;\n",
       "    }\n",
       "\n",
       "    .dataframe tbody tr th {\n",
       "        vertical-align: top;\n",
       "    }\n",
       "\n",
       "    .dataframe thead th {\n",
       "        text-align: right;\n",
       "    }\n",
       "</style>\n",
       "<table border=\"1\" class=\"dataframe\">\n",
       "  <thead>\n",
       "    <tr style=\"text-align: right;\">\n",
       "      <th></th>\n",
       "      <th>miss_val</th>\n",
       "      <th>% missing</th>\n",
       "    </tr>\n",
       "  </thead>\n",
       "  <tbody>\n",
       "    <tr>\n",
       "      <th>country</th>\n",
       "      <td>2144</td>\n",
       "      <td>0.1</td>\n",
       "    </tr>\n",
       "    <tr>\n",
       "      <th>bid_id</th>\n",
       "      <td>24</td>\n",
       "      <td>0.0</td>\n",
       "    </tr>\n",
       "    <tr>\n",
       "      <th>auction</th>\n",
       "      <td>24</td>\n",
       "      <td>0.0</td>\n",
       "    </tr>\n",
       "    <tr>\n",
       "      <th>merchandise</th>\n",
       "      <td>24</td>\n",
       "      <td>0.0</td>\n",
       "    </tr>\n",
       "    <tr>\n",
       "      <th>device</th>\n",
       "      <td>24</td>\n",
       "      <td>0.0</td>\n",
       "    </tr>\n",
       "    <tr>\n",
       "      <th>time</th>\n",
       "      <td>24</td>\n",
       "      <td>0.0</td>\n",
       "    </tr>\n",
       "    <tr>\n",
       "      <th>ip</th>\n",
       "      <td>24</td>\n",
       "      <td>0.0</td>\n",
       "    </tr>\n",
       "    <tr>\n",
       "      <th>url</th>\n",
       "      <td>24</td>\n",
       "      <td>0.0</td>\n",
       "    </tr>\n",
       "    <tr>\n",
       "      <th>bidder_id</th>\n",
       "      <td>0</td>\n",
       "      <td>0.0</td>\n",
       "    </tr>\n",
       "    <tr>\n",
       "      <th>payment_account</th>\n",
       "      <td>0</td>\n",
       "      <td>0.0</td>\n",
       "    </tr>\n",
       "    <tr>\n",
       "      <th>address</th>\n",
       "      <td>0</td>\n",
       "      <td>0.0</td>\n",
       "    </tr>\n",
       "    <tr>\n",
       "      <th>outcome</th>\n",
       "      <td>0</td>\n",
       "      <td>0.0</td>\n",
       "    </tr>\n",
       "  </tbody>\n",
       "</table>\n",
       "</div>"
      ],
      "text/plain": [
       "                 miss_val  % missing\n",
       "country              2144        0.1\n",
       "bid_id                 24        0.0\n",
       "auction                24        0.0\n",
       "merchandise            24        0.0\n",
       "device                 24        0.0\n",
       "time                   24        0.0\n",
       "ip                     24        0.0\n",
       "url                    24        0.0\n",
       "bidder_id               0        0.0\n",
       "payment_account         0        0.0\n",
       "address                 0        0.0\n",
       "outcome                 0        0.0"
      ]
     },
     "execution_count": 11,
     "metadata": {},
     "output_type": "execute_result"
    }
   ],
   "source": [
    "#missing values calculation\n",
    "def missingStats(df):\n",
    "    missing_df=df.isnull().sum()\n",
    "    missing_df_percent=df.isnull().sum().sort_values(ascending=False)/df.shape[0]*100\n",
    "    miss_val=pd.concat([missing_df,missing_df_percent],axis=1,sort=False)\n",
    "    miss_val=miss_val.rename(columns={0:'miss_val',1:\"% missing\"})\n",
    "    miss_val=miss_val.sort_values('% missing',ascending=False).round(1)\n",
    "    return miss_val\n",
    "miss_val_train=missingStats(df)\n",
    "miss_val_train"
   ]
  },
  {
   "cell_type": "code",
   "execution_count": 12,
   "metadata": {
    "scrolled": true
   },
   "outputs": [
    {
     "data": {
      "text/plain": [
       "object     9\n",
       "float64    2\n",
       "int64      1\n",
       "dtype: int64"
      ]
     },
     "execution_count": 12,
     "metadata": {},
     "output_type": "execute_result"
    }
   ],
   "source": [
    "#column types\n",
    "df.dtypes.value_counts()"
   ]
  },
  {
   "cell_type": "code",
   "execution_count": 13,
   "metadata": {},
   "outputs": [
    {
     "data": {
      "text/plain": [
       "bidder_id            1498\n",
       "payment_account      1498\n",
       "address              1498\n",
       "auction             11688\n",
       "merchandise            10\n",
       "device               4858\n",
       "country               187\n",
       "ip                 536924\n",
       "url                378704\n",
       "dtype: int64"
      ]
     },
     "execution_count": 13,
     "metadata": {},
     "output_type": "execute_result"
    }
   ],
   "source": [
    "# Number of unique classes in each object column\n",
    "df.select_dtypes('object').apply(pd.Series.nunique, axis = 0)"
   ]
  },
  {
   "cell_type": "code",
   "execution_count": 14,
   "metadata": {},
   "outputs": [
    {
     "data": {
      "text/plain": [
       "bidder_id             0\n",
       "payment_account       0\n",
       "address               0\n",
       "outcome               0\n",
       "bid_id               24\n",
       "auction              24\n",
       "merchandise          24\n",
       "device               24\n",
       "time                 24\n",
       "country            2144\n",
       "ip                   24\n",
       "url                  24\n",
       "dtype: int64"
      ]
     },
     "execution_count": 14,
     "metadata": {},
     "output_type": "execute_result"
    }
   ],
   "source": [
    "df.isnull().sum()"
   ]
  },
  {
   "cell_type": "markdown",
   "metadata": {},
   "source": [
    "## Sorting the data frame with bidder_id and time "
   ]
  },
  {
   "cell_type": "code",
   "execution_count": 15,
   "metadata": {},
   "outputs": [],
   "source": [
    "df = df.sort_values(['bidder_id', 'time'], ascending = [True, True])\n",
    "test = test.sort_values(['bidder_id', 'time'], ascending = [True, True])"
   ]
  },
  {
   "cell_type": "code",
   "execution_count": 16,
   "metadata": {},
   "outputs": [],
   "source": [
    "bidder_id_train=df['bidder_id']\n",
    "bidder_id_test=test['bidder_id']"
   ]
  },
  {
   "cell_type": "code",
   "execution_count": 17,
   "metadata": {},
   "outputs": [
    {
     "name": "stdout",
     "output_type": "stream",
     "text": [
      "columns which are encoded:  bidder_id\n",
      "columns which are encoded:  payment_account\n",
      "columns which are encoded:  address\n",
      "columns which are encoded:  auction\n",
      "columns which are encoded:  merchandise\n",
      "columns which are encoded:  device\n",
      "columns which are encoded:  country\n",
      "columns which are encoded:  ip\n",
      "columns which are encoded:  url\n",
      "9 columns were label encoded.\n"
     ]
    }
   ],
   "source": [
    "# Create a label encoder object\n",
    "\n",
    "def encoder(train,test):\n",
    "    le = LabelEncoder()\n",
    "    le_count = 0\n",
    "    # Iterate through the columns\n",
    "    for col in df:\n",
    "        if df[col].dtype == 'object':\n",
    "            print('columns which are encoded: ',col)\n",
    "            # Train on the training data\n",
    "            le.fit(pd.concat([train[col].astype(str),test[col].astype(str)], axis=0,sort=False))\n",
    "            # Transform both training and testing data\n",
    "            df[col] = le.transform(df[col].astype(str))\n",
    "            test[col] = le.transform(test[col].astype(str))\n",
    "            # Keep track of how many columns were label encoded\n",
    "            le_count += 1\n",
    "\n",
    "    print('%d columns were label encoded.' % le_count)\n",
    "    return train,test\n",
    "df,test=encoder(df,test)"
   ]
  },
  {
   "cell_type": "code",
   "execution_count": 18,
   "metadata": {},
   "outputs": [],
   "source": [
    "#replacing missing value with median value for bid id and ffill for time\n",
    "df['time']=df['time'].fillna(method='ffill')\n",
    "df['bid_id']=df['bid_id'].fillna(np.median(df['bid_id'].dropna()))             "
   ]
  },
  {
   "cell_type": "markdown",
   "metadata": {},
   "source": [
    "# Exploratory Data Analysis"
   ]
  },
  {
   "cell_type": "code",
   "execution_count": 19,
   "metadata": {},
   "outputs": [
    {
     "data": {
      "text/plain": [
       "<matplotlib.axes._subplots.AxesSubplot at 0x7f354a5192e8>"
      ]
     },
     "execution_count": 19,
     "metadata": {},
     "output_type": "execute_result"
    },
    {
     "data": {
      "image/png": "[encoded data removed]",
      "text/plain": [
       "<Figure size 432x288 with 1 Axes>"
      ]
     },
     "metadata": {
      "needs_background": "light"
     },
     "output_type": "display_data"
    }
   ],
   "source": [
    "#target distribution\n",
    "#outcome variable\n",
    "df['outcome'].value_counts().plot.bar()"
   ]
  },
  {
   "cell_type": "code",
   "execution_count": 20,
   "metadata": {
    "scrolled": true
   },
   "outputs": [
    {
     "data": {
      "text/plain": [
       "Index(['bidder_id', 'payment_account', 'address', 'outcome', 'bid_id',\n",
       "       'auction', 'merchandise', 'device', 'time', 'country', 'ip', 'url'],\n",
       "      dtype='object')"
      ]
     },
     "execution_count": 20,
     "metadata": {},
     "output_type": "execute_result"
    }
   ],
   "source": [
    "df.columns"
   ]
  },
  {
   "cell_type": "code",
   "execution_count": 21,
   "metadata": {},
   "outputs": [
    {
     "name": "stdout",
     "output_type": "stream",
     "text": [
      "total no of unique urls 378705\n",
      "no of url hit once 312754\n",
      "no of url not hit only once 65951\n"
     ]
    }
   ],
   "source": [
    "#url variable\n",
    "urls=df['url'].value_counts()\n",
    "print('total no of unique urls',len(urls))\n",
    "print('no of url hit once',len(urls[urls.values==1]))\n",
    "print('no of url not hit only once',len(urls)-len(urls[urls.values==1]))"
   ]
  },
  {
   "cell_type": "code",
   "execution_count": 22,
   "metadata": {},
   "outputs": [
    {
     "name": "stdout",
     "output_type": "stream",
     "text": [
      "total no of unique ip 536925\n",
      "no of ip hit once 415955\n",
      "no of ip not hit only once 120970\n"
     ]
    }
   ],
   "source": [
    "#ip variable\n",
    "urls=df['ip'].value_counts()\n",
    "print('total no of unique ip',len(urls))\n",
    "print('no of ip hit once',len(urls[urls.values==1]))\n",
    "print('no of ip not hit only once',len(urls)-len(urls[urls.values==1]))"
   ]
  },
  {
   "cell_type": "code",
   "execution_count": 23,
   "metadata": {},
   "outputs": [
    {
     "name": "stdout",
     "output_type": "stream",
     "text": [
      "total no of unique country 188\n"
     ]
    },
    {
     "data": {
      "text/plain": [
       "Text(0.5, 1.0, 'country distribution')"
      ]
     },
     "execution_count": 23,
     "metadata": {},
     "output_type": "execute_result"
    },
    {
     "data": {
      "image/png": "[encoded data removed]",
      "text/plain": [
       "<Figure size 432x288 with 1 Axes>"
      ]
     },
     "metadata": {
      "needs_background": "light"
     },
     "output_type": "display_data"
    }
   ],
   "source": [
    "#country variable\n",
    "urls=df['country'].value_counts()\n",
    "print('total no of unique country',len(urls))\n",
    "#top country kde plot\n",
    "sns.kdeplot(df.loc[df['outcome']==0,'country'],label='outcome == 0')\n",
    "sns.kdeplot(df.loc[df['outcome']==1,'country'],label='outcome == 1')\n",
    "plt.title('country distribution')"
   ]
  },
  {
   "cell_type": "code",
   "execution_count": 24,
   "metadata": {},
   "outputs": [
    {
     "data": {
      "text/html": [
       "<div>\n",
       "<style scoped>\n",
       "    .dataframe tbody tr th:only-of-type {\n",
       "        vertical-align: middle;\n",
       "    }\n",
       "\n",
       "    .dataframe tbody tr th {\n",
       "        vertical-align: top;\n",
       "    }\n",
       "\n",
       "    .dataframe thead th {\n",
       "        text-align: right;\n",
       "    }\n",
       "</style>\n",
       "<table border=\"1\" class=\"dataframe\">\n",
       "  <thead>\n",
       "    <tr style=\"text-align: right;\">\n",
       "      <th></th>\n",
       "      <th>bidder_id</th>\n",
       "      <th>payment_account</th>\n",
       "      <th>address</th>\n",
       "      <th>outcome</th>\n",
       "      <th>bid_id</th>\n",
       "      <th>auction</th>\n",
       "      <th>merchandise</th>\n",
       "      <th>device</th>\n",
       "      <th>time</th>\n",
       "      <th>country</th>\n",
       "      <th>ip</th>\n",
       "      <th>url</th>\n",
       "    </tr>\n",
       "  </thead>\n",
       "  <tbody>\n",
       "    <tr>\n",
       "      <th>count</th>\n",
       "      <td>1.465818e+06</td>\n",
       "      <td>1.465818e+06</td>\n",
       "      <td>1.465818e+06</td>\n",
       "      <td>1.465818e+06</td>\n",
       "      <td>1.465818e+06</td>\n",
       "      <td>1.465818e+06</td>\n",
       "      <td>1.465818e+06</td>\n",
       "      <td>1.465818e+06</td>\n",
       "      <td>1.465818e+06</td>\n",
       "      <td>1.465818e+06</td>\n",
       "      <td>1.465818e+06</td>\n",
       "      <td>1.465818e+06</td>\n",
       "    </tr>\n",
       "    <tr>\n",
       "      <th>mean</th>\n",
       "      <td>1.064406e+03</td>\n",
       "      <td>9.490372e+02</td>\n",
       "      <td>1.073521e+03</td>\n",
       "      <td>1.025230e-01</td>\n",
       "      <td>3.884529e+06</td>\n",
       "      <td>6.381897e+03</td>\n",
       "      <td>6.796649e+00</td>\n",
       "      <td>2.598760e+03</td>\n",
       "      <td>9.696016e+15</td>\n",
       "      <td>1.082903e+02</td>\n",
       "      <td>5.137755e+05</td>\n",
       "      <td>4.337192e+05</td>\n",
       "    </tr>\n",
       "    <tr>\n",
       "      <th>std</th>\n",
       "      <td>5.493068e+02</td>\n",
       "      <td>6.161004e+02</td>\n",
       "      <td>5.852905e+02</td>\n",
       "      <td>3.033349e-01</td>\n",
       "      <td>2.187957e+06</td>\n",
       "      <td>3.371638e+03</td>\n",
       "      <td>1.848516e+00</td>\n",
       "      <td>1.742248e+03</td>\n",
       "      <td>5.193014e+13</td>\n",
       "      <td>4.972428e+01</td>\n",
       "      <td>2.982389e+05</td>\n",
       "      <td>1.885656e+05</td>\n",
       "    </tr>\n",
       "    <tr>\n",
       "      <th>min</th>\n",
       "      <td>0.000000e+00</td>\n",
       "      <td>0.000000e+00</td>\n",
       "      <td>0.000000e+00</td>\n",
       "      <td>0.000000e+00</td>\n",
       "      <td>1.000000e+00</td>\n",
       "      <td>0.000000e+00</td>\n",
       "      <td>0.000000e+00</td>\n",
       "      <td>0.000000e+00</td>\n",
       "      <td>9.631917e+15</td>\n",
       "      <td>0.000000e+00</td>\n",
       "      <td>6.000000e+00</td>\n",
       "      <td>0.000000e+00</td>\n",
       "    </tr>\n",
       "    <tr>\n",
       "      <th>25%</th>\n",
       "      <td>6.390000e+02</td>\n",
       "      <td>4.290000e+02</td>\n",
       "      <td>4.530000e+02</td>\n",
       "      <td>0.000000e+00</td>\n",
       "      <td>2.031426e+06</td>\n",
       "      <td>3.783000e+03</td>\n",
       "      <td>6.000000e+00</td>\n",
       "      <td>1.086000e+03</td>\n",
       "      <td>9.640932e+15</td>\n",
       "      <td>8.400000e+01</td>\n",
       "      <td>2.523040e+05</td>\n",
       "      <td>2.836475e+05</td>\n",
       "    </tr>\n",
       "    <tr>\n",
       "      <th>50%</th>\n",
       "      <td>1.137000e+03</td>\n",
       "      <td>8.250000e+02</td>\n",
       "      <td>1.159000e+03</td>\n",
       "      <td>0.000000e+00</td>\n",
       "      <td>3.912860e+06</td>\n",
       "      <td>6.917000e+03</td>\n",
       "      <td>7.000000e+00</td>\n",
       "      <td>2.620000e+03</td>\n",
       "      <td>9.700176e+15</td>\n",
       "      <td>8.400000e+01</td>\n",
       "      <td>5.181930e+05</td>\n",
       "      <td>5.643580e+05</td>\n",
       "    </tr>\n",
       "    <tr>\n",
       "      <th>75%</th>\n",
       "      <td>1.582000e+03</td>\n",
       "      <td>1.552000e+03</td>\n",
       "      <td>1.578000e+03</td>\n",
       "      <td>0.000000e+00</td>\n",
       "      <td>5.768388e+06</td>\n",
       "      <td>8.922000e+03</td>\n",
       "      <td>7.000000e+00</td>\n",
       "      <td>3.951000e+03</td>\n",
       "      <td>9.760517e+15</td>\n",
       "      <td>1.460000e+02</td>\n",
       "      <td>7.753860e+05</td>\n",
       "      <td>5.772850e+05</td>\n",
       "    </tr>\n",
       "    <tr>\n",
       "      <th>max</th>\n",
       "      <td>2.011000e+03</td>\n",
       "      <td>2.012000e+03</td>\n",
       "      <td>2.012000e+03</td>\n",
       "      <td>1.000000e+00</td>\n",
       "      <td>7.656326e+06</td>\n",
       "      <td>1.274000e+04</td>\n",
       "      <td>1.000000e+01</td>\n",
       "      <td>5.729000e+03</td>\n",
       "      <td>9.772885e+15</td>\n",
       "      <td>1.980000e+02</td>\n",
       "      <td>1.030950e+06</td>\n",
       "      <td>6.638710e+05</td>\n",
       "    </tr>\n",
       "  </tbody>\n",
       "</table>\n",
       "</div>"
      ],
      "text/plain": [
       "          bidder_id  payment_account       address       outcome  \\\n",
       "count  1.465818e+06     1.465818e+06  1.465818e+06  1.465818e+06   \n",
       "mean   1.064406e+03     9.490372e+02  1.073521e+03  1.025230e-01   \n",
       "std    5.493068e+02     6.161004e+02  5.852905e+02  3.033349e-01   \n",
       "min    0.000000e+00     0.000000e+00  0.000000e+00  0.000000e+00   \n",
       "25%    6.390000e+02     4.290000e+02  4.530000e+02  0.000000e+00   \n",
       "50%    1.137000e+03     8.250000e+02  1.159000e+03  0.000000e+00   \n",
       "75%    1.582000e+03     1.552000e+03  1.578000e+03  0.000000e+00   \n",
       "max    2.011000e+03     2.012000e+03  2.012000e+03  1.000000e+00   \n",
       "\n",
       "             bid_id       auction   merchandise        device          time  \\\n",
       "count  1.465818e+06  1.465818e+06  1.465818e+06  1.465818e+06  1.465818e+06   \n",
       "mean   3.884529e+06  6.381897e+03  6.796649e+00  2.598760e+03  9.696016e+15   \n",
       "std    2.187957e+06  3.371638e+03  1.848516e+00  1.742248e+03  5.193014e+13   \n",
       "min    1.000000e+00  0.000000e+00  0.000000e+00  0.000000e+00  9.631917e+15   \n",
       "25%    2.031426e+06  3.783000e+03  6.000000e+00  1.086000e+03  9.640932e+15   \n",
       "50%    3.912860e+06  6.917000e+03  7.000000e+00  2.620000e+03  9.700176e+15   \n",
       "75%    5.768388e+06  8.922000e+03  7.000000e+00  3.951000e+03  9.760517e+15   \n",
       "max    7.656326e+06  1.274000e+04  1.000000e+01  5.729000e+03  9.772885e+15   \n",
       "\n",
       "            country            ip           url  \n",
       "count  1.465818e+06  1.465818e+06  1.465818e+06  \n",
       "mean   1.082903e+02  5.137755e+05  4.337192e+05  \n",
       "std    4.972428e+01  2.982389e+05  1.885656e+05  \n",
       "min    0.000000e+00  6.000000e+00  0.000000e+00  \n",
       "25%    8.400000e+01  2.523040e+05  2.836475e+05  \n",
       "50%    8.400000e+01  5.181930e+05  5.643580e+05  \n",
       "75%    1.460000e+02  7.753860e+05  5.772850e+05  \n",
       "max    1.980000e+02  1.030950e+06  6.638710e+05  "
      ]
     },
     "execution_count": 24,
     "metadata": {},
     "output_type": "execute_result"
    }
   ],
   "source": [
    "df.describe()"
   ]
  },
  {
   "cell_type": "code",
   "execution_count": 25,
   "metadata": {},
   "outputs": [
    {
     "data": {
      "text/plain": [
       "<matplotlib.axes._subplots.AxesSubplot at 0x7f3549f7db00>"
      ]
     },
     "execution_count": 25,
     "metadata": {},
     "output_type": "execute_result"
    },
    {
     "data": {
      "image/png": "[encoded data removed]",
      "text/plain": [
       "<Figure size 432x288 with 1 Axes>"
      ]
     },
     "metadata": {
      "needs_background": "light"
     },
     "output_type": "display_data"
    }
   ],
   "source": [
    "df['time'].sort_values().dropna().plot()"
   ]
  },
  {
   "cell_type": "code",
   "execution_count": 26,
   "metadata": {
    "scrolled": true
   },
   "outputs": [
    {
     "name": "stdout",
     "output_type": "stream",
     "text": [
      "total no of bidders 1498\n",
      "no of bidders identified as robots 70\n"
     ]
    }
   ],
   "source": [
    "#bidders variable\n",
    "bidcross=pd.crosstab(df['bidder_id'],df['outcome'])\n",
    "print('total no of bidders',len(bidcross))\n",
    "print('no of bidders identified as robots',len(bidcross[bidcross[1]>0].index))"
   ]
  },
  {
   "cell_type": "code",
   "execution_count": 27,
   "metadata": {},
   "outputs": [
    {
     "name": "stdout",
     "output_type": "stream",
     "text": [
      "total no of auctions 11689\n",
      "no of auctions identified as robots 4356\n"
     ]
    }
   ],
   "source": [
    "#auctions variable\n",
    "bidcross=pd.crosstab(df['auction'],df['outcome'])\n",
    "print('total no of auctions',len(bidcross))\n",
    "print('no of auctions identified as robots',len(bidcross[bidcross[1]>0].index))"
   ]
  },
  {
   "cell_type": "code",
   "execution_count": 28,
   "metadata": {
    "scrolled": false
   },
   "outputs": [
    {
     "name": "stdout",
     "output_type": "stream",
     "text": [
      "no of url not hit only once 11\n"
     ]
    },
    {
     "data": {
      "text/plain": [
       "<matplotlib.axes._subplots.AxesSubplot at 0x7f3544081ba8>"
      ]
     },
     "execution_count": 28,
     "metadata": {},
     "output_type": "execute_result"
    },
    {
     "data": {
      "image/png": "[encoded data removed]",
      "text/plain": [
       "<Figure size 432x288 with 1 Axes>"
      ]
     },
     "metadata": {
      "needs_background": "light"
     },
     "output_type": "display_data"
    }
   ],
   "source": [
    "#merchandise plot\n",
    "urls=df['merchandise'].value_counts()\n",
    "print('no of url not hit only once',len(urls)-len(urls[urls.values==1]))\n",
    "sns.kdeplot(df.loc[df['outcome']==0,'merchandise'],label='outcome == 0')\n",
    "plt.title('Merchandise Distributions')\n",
    "sns.kdeplot(df.loc[df['outcome']==1,'merchandise'],label='outcome == 1')"
   ]
  },
  {
   "cell_type": "code",
   "execution_count": 29,
   "metadata": {},
   "outputs": [
    {
     "name": "stdout",
     "output_type": "stream",
     "text": [
      "no of url not hit only once 3916\n"
     ]
    },
    {
     "data": {
      "text/plain": [
       "Text(0.5, 1.0, 'Device Distribution')"
      ]
     },
     "execution_count": 29,
     "metadata": {},
     "output_type": "execute_result"
    },
    {
     "data": {
      "image/png": "[encoded data removed]",
      "text/plain": [
       "<Figure size 432x288 with 1 Axes>"
      ]
     },
     "metadata": {
      "needs_background": "light"
     },
     "output_type": "display_data"
    }
   ],
   "source": [
    "#device plot\n",
    "urls=df['device'].value_counts()\n",
    "print('no of url not hit only once',len(urls)-len(urls[urls.values==1]))\n",
    "sns.kdeplot(df.loc[df['outcome']==0,'device'],label='outcome == 0')\n",
    "sns.kdeplot(df.loc[df['outcome']==1,'device'],label='outcome == 1')\n",
    "plt.title('Device Distribution')"
   ]
  },
  {
   "cell_type": "code",
   "execution_count": 30,
   "metadata": {},
   "outputs": [
    {
     "name": "stdout",
     "output_type": "stream",
     "text": [
      "Index(['bidder_id', 'payment_account', 'address', 'outcome', 'bid_id',\n",
      "       'auction', 'merchandise', 'device', 'time', 'country', 'ip', 'url'],\n",
      "      dtype='object')\n",
      "(1465818, 12)\n"
     ]
    }
   ],
   "source": [
    "print(df.columns)\n",
    "print(df.shape)"
   ]
  },
  {
   "cell_type": "markdown",
   "metadata": {},
   "source": [
    "# Feature Creation"
   ]
  },
  {
   "cell_type": "code",
   "execution_count": 31,
   "metadata": {},
   "outputs": [],
   "source": [
    "def featureCreation(df):\n",
    "    df['countOfBids']=df.groupby('bidder_id')['bidder_id'].transform('count')\n",
    "    df['countOfBidsPerAuction']=df.groupby(['bidder_id','auction'])['auction'].transform('count')\n",
    "    df['timeDiffEachBids']=df.groupby(['bidder_id'])['time'].transform(lambda x: x.diff()) \n",
    "    df['timeDiffEachBidsPerAuction']=df.groupby(['bidder_id','auction'])['time'].transform(lambda x: x.diff())\n",
    "    df['hour']=pd.to_datetime(df['time']).dt.hour\n",
    "    df['day']=pd.to_datetime(df['time']).dt.day\n",
    "    df['dayOfWeek']=pd.to_datetime(df['time']).dt.dayofweek\n",
    "    df['countBids_CountBidsAuction']=df.groupby(['bidder_id','auction'])['auction'].transform('count')/df.groupby('bidder_id')['bidder_id'].transform('count')\n",
    "    df['timeDiffEachBidsPerAuctionMax']=df.groupby(['bidder_id'])['timeDiffEachBidsPerAuction'].transform(np.max)\n",
    "    df['timeDiffEachBidsPerAuctionMin']=df.groupby(['bidder_id'])['timeDiffEachBidsPerAuction'].transform(np.min)\n",
    "    df['timeDiffEachBidsPerAuctionAvg']=df.groupby(['bidder_id'])['timeDiffEachBidsPerAuction'].transform(np.min)\n",
    "    df['timeDiffEachBidsMax']=df.groupby(['bidder_id'])['timeDiffEachBids'].transform(np.max)\n",
    "    df['timeDiffEachBidsMin']=df.groupby(['bidder_id'])['timeDiffEachBids'].transform(np.min)\n",
    "    df['timeDiffEachBidsAvg']=df.groupby(['bidder_id'])['timeDiffEachBids'].transform(np.min)\n",
    "    newFeatures=['countOfBids','countOfBidsPerAuction','timeDiffEachBids','timeDiffEachBidsPerAuction','hour','day','dayOfWeek','countBids_CountBidsAuction','timeDiffEachBidsPerAuctionMax','timeDiffEachBidsPerAuctionMin','timeDiffEachBidsPerAuctionAvg','timeDiffEachBidsMax','timeDiffEachBidsMin','timeDiffEachBidsAvg']\n",
    "    for col in newFeatures:\n",
    "        df[col]=df[col].replace(np.nan,0)\n",
    "    return df"
   ]
  },
  {
   "cell_type": "code",
   "execution_count": 32,
   "metadata": {},
   "outputs": [],
   "source": [
    "df=featureCreation(df)\n",
    "test=featureCreation(test)"
   ]
  },
  {
   "cell_type": "markdown",
   "metadata": {},
   "source": [
    "# Correlation analysis"
   ]
  },
  {
   "cell_type": "code",
   "execution_count": 33,
   "metadata": {},
   "outputs": [
    {
     "name": "stdout",
     "output_type": "stream",
     "text": [
      "countOfBids                     -0.185735\n",
      "timeDiffEachBidsPerAuctionMax   -0.132250\n",
      "timeDiffEachBidsMax             -0.126721\n",
      "bidder_id                       -0.099460\n",
      "countOfBidsPerAuction           -0.089715\n",
      "bid_id                          -0.071501\n",
      "countBids_CountBidsAuction      -0.046430\n",
      "device                          -0.017893\n",
      "timeDiffEachBidsPerAuction      -0.012792\n",
      "timeDiffEachBids                -0.005899\n",
      "hour                            -0.004459\n",
      "timeDiffEachBidsPerAuctionMin   -0.004438\n",
      "timeDiffEachBidsPerAuctionAvg   -0.004438\n",
      "timeDiffEachBidsMin             -0.002539\n",
      "timeDiffEachBidsAvg             -0.002539\n",
      "ip                              -0.002487\n",
      "auction                          0.027070\n",
      "country                          0.037916\n",
      "url                              0.040229\n",
      "day                              0.085228\n",
      "dayOfWeek                        0.085228\n",
      "time                             0.103397\n",
      "address                          0.111076\n",
      "merchandise                      0.111138\n",
      "payment_account                  0.200651\n",
      "outcome                          1.000000\n",
      "Name: outcome, dtype: float64\n"
     ]
    },
    {
     "data": {
      "text/plain": [
       "<matplotlib.axes._subplots.AxesSubplot at 0x7f3493db3be0>"
      ]
     },
     "execution_count": 33,
     "metadata": {},
     "output_type": "execute_result"
    },
    {
     "data": {
      "image/png": "[encoded data removed]",
      "text/plain": [
       "<Figure size 432x288 with 2 Axes>"
      ]
     },
     "metadata": {
      "needs_background": "light"
     },
     "output_type": "display_data"
    }
   ],
   "source": [
    "# Find correlations with the target and sort\n",
    "correlations = df.corr()['outcome'].sort_values()\n",
    "\n",
    "# Display correlations\n",
    "print(correlations)\n",
    "sns.heatmap(df.corr())"
   ]
  },
  {
   "cell_type": "code",
   "execution_count": 34,
   "metadata": {
    "scrolled": true
   },
   "outputs": [
    {
     "data": {
      "text/html": [
       "<div>\n",
       "<style scoped>\n",
       "    .dataframe tbody tr th:only-of-type {\n",
       "        vertical-align: middle;\n",
       "    }\n",
       "\n",
       "    .dataframe tbody tr th {\n",
       "        vertical-align: top;\n",
       "    }\n",
       "\n",
       "    .dataframe thead th {\n",
       "        text-align: right;\n",
       "    }\n",
       "</style>\n",
       "<table border=\"1\" class=\"dataframe\">\n",
       "  <thead>\n",
       "    <tr style=\"text-align: right;\">\n",
       "      <th></th>\n",
       "      <th>bidder_id</th>\n",
       "      <th>payment_account</th>\n",
       "      <th>address</th>\n",
       "      <th>outcome</th>\n",
       "      <th>bid_id</th>\n",
       "      <th>auction</th>\n",
       "      <th>merchandise</th>\n",
       "      <th>device</th>\n",
       "      <th>time</th>\n",
       "      <th>country</th>\n",
       "      <th>...</th>\n",
       "      <th>hour</th>\n",
       "      <th>day</th>\n",
       "      <th>dayOfWeek</th>\n",
       "      <th>countBids_CountBidsAuction</th>\n",
       "      <th>timeDiffEachBidsPerAuctionMax</th>\n",
       "      <th>timeDiffEachBidsPerAuctionMin</th>\n",
       "      <th>timeDiffEachBidsPerAuctionAvg</th>\n",
       "      <th>timeDiffEachBidsMax</th>\n",
       "      <th>timeDiffEachBidsMin</th>\n",
       "      <th>timeDiffEachBidsAvg</th>\n",
       "    </tr>\n",
       "  </thead>\n",
       "  <tbody>\n",
       "    <tr>\n",
       "      <th>60142</th>\n",
       "      <td>0</td>\n",
       "      <td>1148</td>\n",
       "      <td>1064</td>\n",
       "      <td>0</td>\n",
       "      <td>7179832.0</td>\n",
       "      <td>1526</td>\n",
       "      <td>6</td>\n",
       "      <td>4397</td>\n",
       "      <td>9.706345e+15</td>\n",
       "      <td>23</td>\n",
       "      <td>...</td>\n",
       "      <td>8</td>\n",
       "      <td>23</td>\n",
       "      <td>3</td>\n",
       "      <td>1.000000</td>\n",
       "      <td>0.000000e+00</td>\n",
       "      <td>0.0</td>\n",
       "      <td>0.0</td>\n",
       "      <td>0.000000e+00</td>\n",
       "      <td>0.0</td>\n",
       "      <td>0.0</td>\n",
       "    </tr>\n",
       "    <tr>\n",
       "      <th>1019431</th>\n",
       "      <td>2</td>\n",
       "      <td>320</td>\n",
       "      <td>754</td>\n",
       "      <td>0</td>\n",
       "      <td>2501797.0</td>\n",
       "      <td>7484</td>\n",
       "      <td>1</td>\n",
       "      <td>3549</td>\n",
       "      <td>9.632300e+15</td>\n",
       "      <td>19</td>\n",
       "      <td>...</td>\n",
       "      <td>11</td>\n",
       "      <td>22</td>\n",
       "      <td>2</td>\n",
       "      <td>0.007092</td>\n",
       "      <td>6.524574e+13</td>\n",
       "      <td>526315790.0</td>\n",
       "      <td>526315790.0</td>\n",
       "      <td>5.012521e+13</td>\n",
       "      <td>526315790.0</td>\n",
       "      <td>526315790.0</td>\n",
       "    </tr>\n",
       "    <tr>\n",
       "      <th>1019432</th>\n",
       "      <td>2</td>\n",
       "      <td>320</td>\n",
       "      <td>754</td>\n",
       "      <td>0</td>\n",
       "      <td>2724778.0</td>\n",
       "      <td>4856</td>\n",
       "      <td>1</td>\n",
       "      <td>189</td>\n",
       "      <td>9.633185e+15</td>\n",
       "      <td>180</td>\n",
       "      <td>...</td>\n",
       "      <td>11</td>\n",
       "      <td>22</td>\n",
       "      <td>2</td>\n",
       "      <td>0.028369</td>\n",
       "      <td>6.524574e+13</td>\n",
       "      <td>526315790.0</td>\n",
       "      <td>526315790.0</td>\n",
       "      <td>5.012521e+13</td>\n",
       "      <td>526315790.0</td>\n",
       "      <td>526315790.0</td>\n",
       "    </tr>\n",
       "    <tr>\n",
       "      <th>1019433</th>\n",
       "      <td>2</td>\n",
       "      <td>320</td>\n",
       "      <td>754</td>\n",
       "      <td>0</td>\n",
       "      <td>2742648.0</td>\n",
       "      <td>11664</td>\n",
       "      <td>1</td>\n",
       "      <td>660</td>\n",
       "      <td>9.633287e+15</td>\n",
       "      <td>84</td>\n",
       "      <td>...</td>\n",
       "      <td>11</td>\n",
       "      <td>22</td>\n",
       "      <td>2</td>\n",
       "      <td>0.007092</td>\n",
       "      <td>6.524574e+13</td>\n",
       "      <td>526315790.0</td>\n",
       "      <td>526315790.0</td>\n",
       "      <td>5.012521e+13</td>\n",
       "      <td>526315790.0</td>\n",
       "      <td>526315790.0</td>\n",
       "    </tr>\n",
       "    <tr>\n",
       "      <th>1019434</th>\n",
       "      <td>2</td>\n",
       "      <td>320</td>\n",
       "      <td>754</td>\n",
       "      <td>0</td>\n",
       "      <td>2852666.0</td>\n",
       "      <td>5805</td>\n",
       "      <td>1</td>\n",
       "      <td>13</td>\n",
       "      <td>9.634158e+15</td>\n",
       "      <td>81</td>\n",
       "      <td>...</td>\n",
       "      <td>12</td>\n",
       "      <td>22</td>\n",
       "      <td>2</td>\n",
       "      <td>0.007092</td>\n",
       "      <td>6.524574e+13</td>\n",
       "      <td>526315790.0</td>\n",
       "      <td>526315790.0</td>\n",
       "      <td>5.012521e+13</td>\n",
       "      <td>526315790.0</td>\n",
       "      <td>526315790.0</td>\n",
       "    </tr>\n",
       "  </tbody>\n",
       "</table>\n",
       "<p>5 rows × 26 columns</p>\n",
       "</div>"
      ],
      "text/plain": [
       "         bidder_id  payment_account  address  outcome     bid_id  auction  \\\n",
       "60142            0             1148     1064        0  7179832.0     1526   \n",
       "1019431          2              320      754        0  2501797.0     7484   \n",
       "1019432          2              320      754        0  2724778.0     4856   \n",
       "1019433          2              320      754        0  2742648.0    11664   \n",
       "1019434          2              320      754        0  2852666.0     5805   \n",
       "\n",
       "         merchandise  device          time  country  ...  hour  day  \\\n",
       "60142              6    4397  9.706345e+15       23  ...     8   23   \n",
       "1019431            1    3549  9.632300e+15       19  ...    11   22   \n",
       "1019432            1     189  9.633185e+15      180  ...    11   22   \n",
       "1019433            1     660  9.633287e+15       84  ...    11   22   \n",
       "1019434            1      13  9.634158e+15       81  ...    12   22   \n",
       "\n",
       "         dayOfWeek  countBids_CountBidsAuction  timeDiffEachBidsPerAuctionMax  \\\n",
       "60142            3                    1.000000                   0.000000e+00   \n",
       "1019431          2                    0.007092                   6.524574e+13   \n",
       "1019432          2                    0.028369                   6.524574e+13   \n",
       "1019433          2                    0.007092                   6.524574e+13   \n",
       "1019434          2                    0.007092                   6.524574e+13   \n",
       "\n",
       "         timeDiffEachBidsPerAuctionMin  timeDiffEachBidsPerAuctionAvg  \\\n",
       "60142                              0.0                            0.0   \n",
       "1019431                    526315790.0                    526315790.0   \n",
       "1019432                    526315790.0                    526315790.0   \n",
       "1019433                    526315790.0                    526315790.0   \n",
       "1019434                    526315790.0                    526315790.0   \n",
       "\n",
       "         timeDiffEachBidsMax  timeDiffEachBidsMin  timeDiffEachBidsAvg  \n",
       "60142           0.000000e+00                  0.0                  0.0  \n",
       "1019431         5.012521e+13          526315790.0          526315790.0  \n",
       "1019432         5.012521e+13          526315790.0          526315790.0  \n",
       "1019433         5.012521e+13          526315790.0          526315790.0  \n",
       "1019434         5.012521e+13          526315790.0          526315790.0  \n",
       "\n",
       "[5 rows x 26 columns]"
      ]
     },
     "execution_count": 34,
     "metadata": {},
     "output_type": "execute_result"
    }
   ],
   "source": [
    "df.head()"
   ]
  },
  {
   "cell_type": "markdown",
   "metadata": {},
   "source": [
    "## Dropping Features"
   ]
  },
  {
   "cell_type": "code",
   "execution_count": 35,
   "metadata": {},
   "outputs": [],
   "source": [
    "def dropFeatures(df):\n",
    "    copy_bidder=df['bidder_id']\n",
    "    df=df.drop('bidder_id',axis=1)\n",
    "    df=df.drop('bid_id',axis=1)\n",
    "    df=df.drop('payment_account',axis=1)\n",
    "    df=df.drop('address',axis=1)\n",
    "    return df,copy_bidder\n",
    "df,_=dropFeatures(df)\n",
    "test,_=dropFeatures(test)"
   ]
  },
  {
   "cell_type": "markdown",
   "metadata": {},
   "source": [
    "# initial LR model"
   ]
  },
  {
   "cell_type": "code",
   "execution_count": 33,
   "metadata": {
    "scrolled": false
   },
   "outputs": [
    {
     "name": "stderr",
     "output_type": "stream",
     "text": [
      "/home/user/anaconda3/lib/python3.6/site-packages/sklearn/preprocessing/data.py:645: DataConversionWarning: Data with input dtype int64, float64 were all converted to float64 by StandardScaler.\n",
      "  return self.partial_fit(X, y)\n",
      "/home/user/anaconda3/lib/python3.6/site-packages/sklearn/base.py:464: DataConversionWarning: Data with input dtype int64, float64 were all converted to float64 by StandardScaler.\n",
      "  return self.fit(X, **fit_params).transform(X)\n",
      "/home/user/.local/lib/python3.6/site-packages/ipykernel_launcher.py:6: DataConversionWarning: Data with input dtype int64, float64 were all converted to float64 by StandardScaler.\n",
      "  \n"
     ]
    },
    {
     "name": "stdout",
     "output_type": "stream",
     "text": [
      "0.8974908242485434\n"
     ]
    },
    {
     "name": "stderr",
     "output_type": "stream",
     "text": [
      "/home/user/anaconda3/lib/python3.6/site-packages/sklearn/linear_model/logistic.py:758: ConvergenceWarning: lbfgs failed to converge. Increase the number of iterations.\n",
      "  \"of iterations.\", ConvergenceWarning)\n"
     ]
    }
   ],
   "source": [
    "#Train Test split\n",
    "X_train, X_test, y_train, y_test = train_test_split(df.drop('outcome',axis=1), df['outcome'], test_size=0.30, random_state=42,stratify=df['outcome'])\n",
    "#scaling features\n",
    "scaler=StandardScaler()\n",
    "X_train=scaler.fit_transform(X_train)\n",
    "X_test=scaler.transform(X_test)\n",
    "#Logistic Regression model\n",
    "model = LogisticRegression(solver='lbfgs',C=0.1)\n",
    "model.fit(X_train, y_train)\n",
    "y_pred = model.predict(X_test)\n",
    "print(accuracy_score(y_test, y_pred))"
   ]
  },
  {
   "cell_type": "markdown",
   "metadata": {},
   "source": [
    "# Random Forest model"
   ]
  },
  {
   "cell_type": "code",
   "execution_count": 36,
   "metadata": {},
   "outputs": [],
   "source": [
    "#Train Test split\n",
    "X_train, X_test, y_train, y_test = train_test_split(df.drop('outcome',axis=1), df['outcome'], test_size=0.30, random_state=42,stratify=df['outcome'])\n",
    "cols=df.columns"
   ]
  },
  {
   "cell_type": "code",
   "execution_count": 35,
   "metadata": {},
   "outputs": [
    {
     "data": {
      "text/plain": [
       "RandomForestClassifier(bootstrap=True, class_weight=None, criterion='gini',\n",
       "            max_depth=None, max_features='auto', max_leaf_nodes=None,\n",
       "            min_impurity_decrease=0.0, min_impurity_split=None,\n",
       "            min_samples_leaf=1, min_samples_split=2,\n",
       "            min_weight_fraction_leaf=0.0, n_estimators=100, n_jobs=None,\n",
       "            oob_score=False, random_state=None, verbose=0,\n",
       "            warm_start=False)"
      ]
     },
     "execution_count": 35,
     "metadata": {},
     "output_type": "execute_result"
    }
   ],
   "source": [
    "model = RandomForestClassifier(n_estimators=100,)\n",
    "model.fit(X_train, y_train)"
   ]
  },
  {
   "cell_type": "markdown",
   "metadata": {},
   "source": [
    "# Model Metrics : Random Forest"
   ]
  },
  {
   "cell_type": "code",
   "execution_count": 37,
   "metadata": {},
   "outputs": [],
   "source": [
    "def metricsModel(model):\n",
    "    y_pred = model.predict(X_test)\n",
    "    print('f1_score :',f1_score(y_test, y_pred))\n",
    "\n",
    "    #feature importance\n",
    "    print('feature importances:')\n",
    "    for name, importance in zip(cols, model.feature_importances_):\n",
    "        print(name, \"=\", importance)\n",
    "    features =cols\n",
    "    importances = model.feature_importances_\n",
    "    indices = np.argsort(importances)\n",
    "\n",
    "    plt.title('Feature Importances')\n",
    "    plt.barh(range(len(indices)), importances[indices], color='b', align='center')\n",
    "    plt.yticks(range(len(indices)), [features[i] for i in indices])\n",
    "    plt.xlabel('Relative Importance')\n",
    "    plt.show()\n",
    "    #confusion matrix\n",
    "    df_cm = pd.DataFrame(confusion_matrix(y_test, y_pred), range(2),range(2))\n",
    "    plt.figure(figsize = (10,7))\n",
    "    sns.set(font_scale=1)#for label size\n",
    "    sns.heatmap(df_cm, annot=True,annot_kws={\"size\": 16}, fmt='d')# font size\n",
    "    plt.show()"
   ]
  },
  {
   "cell_type": "code",
   "execution_count": 38,
   "metadata": {},
   "outputs": [],
   "source": [
    "def rocauc(model):\n",
    "    # predict probabilities & keep probabilities for the positive outcome only\n",
    "    y_probs = model.predict_proba(X_test)[:,1]\n",
    "    auc = roc_auc_score(y_test, y_probs)\n",
    "\n",
    "    print('Random Forest: ROC AUC=%.3f' % (auc))\n",
    "    #roc auc curve\n",
    "    lr_fpr, lr_tpr, _ = roc_curve(y_test, y_probs)\n",
    "    pyplot.plot(lr_fpr, lr_tpr, marker='.', label='RF')\n",
    "    # axis labels\n",
    "    pyplot.xlabel('False Positive Rate')\n",
    "    pyplot.ylabel('True Positive Rate')\n",
    "    # show the legend\n",
    "    pyplot.legend()\n",
    "    # show the plot\n",
    "    pyplot.show()"
   ]
  },
  {
   "cell_type": "markdown",
   "metadata": {},
   "source": [
    "# Gradient Boosting Trees"
   ]
  },
  {
   "cell_type": "code",
   "execution_count": 39,
   "metadata": {
    "scrolled": true
   },
   "outputs": [
    {
     "name": "stdout",
     "output_type": "stream",
     "text": [
      "f1_score : 0.9022217895992017\n",
      "feature importances:\n",
      "outcome = 0.0002297415525225077\n",
      "auction = 0.037185271016707544\n",
      "merchandise = 6.203561396785328e-07\n",
      "device = 0.0014175023499647188\n",
      "time = 0.008569103964746558\n",
      "country = 0.0\n",
      "ip = 0.0\n",
      "url = 0.49692753646194965\n",
      "countOfBids = 0.007791571864515911\n",
      "countOfBidsPerAuction = 0.0\n",
      "timeDiffEachBids = 0.0\n",
      "timeDiffEachBidsPerAuction = 1.2670505321121198e-07\n",
      "hour = 5.6559676379177615e-08\n",
      "day = 0.0\n",
      "dayOfWeek = 0.013232677201621197\n",
      "countBids_CountBidsAuction = 0.24811131540179154\n",
      "timeDiffEachBidsPerAuctionMax = 0.005021980737753339\n",
      "timeDiffEachBidsPerAuctionMin = 0.002686484037906104\n",
      "timeDiffEachBidsPerAuctionAvg = 0.1723103621734156\n",
      "timeDiffEachBidsMax = 0.003733336851792548\n",
      "timeDiffEachBidsMin = 0.0027823127644435114\n"
     ]
    },
    {
     "data": {
      "image/png": "[encoded data removed]",
      "text/plain": [
       "<Figure size 432x288 with 1 Axes>"
      ]
     },
     "metadata": {},
     "output_type": "display_data"
    },
    {
     "data": {
      "image/png": "[encoded data removed]",
      "text/plain": [
       "<Figure size 720x504 with 2 Axes>"
      ]
     },
     "metadata": {},
     "output_type": "display_data"
    },
    {
     "name": "stdout",
     "output_type": "stream",
     "text": [
      "Random Forest: ROC AUC=0.999\n"
     ]
    },
    {
     "data": {
      "image/png": "[encoded data removed]",
      "text/plain": [
       "<Figure size 432x288 with 1 Axes>"
      ]
     },
     "metadata": {},
     "output_type": "display_data"
    }
   ],
   "source": [
    "gb=GradientBoostingClassifier(random_state=60,n_estimators=100)\n",
    "gb.fit(X_train, y_train)\n",
    "metricsModel(gb)\n",
    "rocauc(gb)"
   ]
  },
  {
   "cell_type": "markdown",
   "metadata": {},
   "source": [
    "# Gradient Boosting Trees : Grid Search"
   ]
  },
  {
   "cell_type": "code",
   "execution_count": 57,
   "metadata": {
    "scrolled": true
   },
   "outputs": [
    {
     "name": "stdout",
     "output_type": "stream",
     "text": [
      "Fitting 3 folds for each of 48 candidates, totalling 144 fits\n"
     ]
    },
    {
     "name": "stderr",
     "output_type": "stream",
     "text": [
      "[Parallel(n_jobs=2)]: Using backend LokyBackend with 2 concurrent workers.\n",
      "/home/user/anaconda3/lib/python3.6/site-packages/sklearn/externals/joblib/externals/loky/process_executor.py:706: UserWarning: A worker stopped while some jobs were given to the executor. This can be caused by a too short worker timeout or by a memory leak.\n",
      "  \"timeout or by a memory leak.\", UserWarning\n",
      "/home/user/anaconda3/lib/python3.6/site-packages/sklearn/externals/joblib/externals/loky/process_executor.py:706: UserWarning: A worker stopped while some jobs were given to the executor. This can be caused by a too short worker timeout or by a memory leak.\n",
      "  \"timeout or by a memory leak.\", UserWarning\n",
      "/home/user/anaconda3/lib/python3.6/site-packages/sklearn/externals/joblib/externals/loky/process_executor.py:706: UserWarning: A worker stopped while some jobs were given to the executor. This can be caused by a too short worker timeout or by a memory leak.\n",
      "  \"timeout or by a memory leak.\", UserWarning\n",
      "/home/user/anaconda3/lib/python3.6/site-packages/sklearn/externals/joblib/externals/loky/process_executor.py:706: UserWarning: A worker stopped while some jobs were given to the executor. This can be caused by a too short worker timeout or by a memory leak.\n",
      "  \"timeout or by a memory leak.\", UserWarning\n",
      "/home/user/anaconda3/lib/python3.6/site-packages/sklearn/externals/joblib/externals/loky/process_executor.py:706: UserWarning: A worker stopped while some jobs were given to the executor. This can be caused by a too short worker timeout or by a memory leak.\n",
      "  \"timeout or by a memory leak.\", UserWarning\n",
      "/home/user/anaconda3/lib/python3.6/site-packages/sklearn/externals/joblib/externals/loky/process_executor.py:706: UserWarning: A worker stopped while some jobs were given to the executor. This can be caused by a too short worker timeout or by a memory leak.\n",
      "  \"timeout or by a memory leak.\", UserWarning\n",
      "/home/user/anaconda3/lib/python3.6/site-packages/sklearn/externals/joblib/externals/loky/process_executor.py:706: UserWarning: A worker stopped while some jobs were given to the executor. This can be caused by a too short worker timeout or by a memory leak.\n",
      "  \"timeout or by a memory leak.\", UserWarning\n",
      "/home/user/anaconda3/lib/python3.6/site-packages/sklearn/externals/joblib/externals/loky/process_executor.py:706: UserWarning: A worker stopped while some jobs were given to the executor. This can be caused by a too short worker timeout or by a memory leak.\n",
      "  \"timeout or by a memory leak.\", UserWarning\n",
      "/home/user/anaconda3/lib/python3.6/site-packages/sklearn/externals/joblib/externals/loky/process_executor.py:706: UserWarning: A worker stopped while some jobs were given to the executor. This can be caused by a too short worker timeout or by a memory leak.\n",
      "  \"timeout or by a memory leak.\", UserWarning\n",
      "/home/user/anaconda3/lib/python3.6/site-packages/sklearn/externals/joblib/externals/loky/process_executor.py:706: UserWarning: A worker stopped while some jobs were given to the executor. This can be caused by a too short worker timeout or by a memory leak.\n",
      "  \"timeout or by a memory leak.\", UserWarning\n",
      "/home/user/anaconda3/lib/python3.6/site-packages/sklearn/externals/joblib/externals/loky/process_executor.py:706: UserWarning: A worker stopped while some jobs were given to the executor. This can be caused by a too short worker timeout or by a memory leak.\n",
      "  \"timeout or by a memory leak.\", UserWarning\n",
      "/home/user/anaconda3/lib/python3.6/site-packages/sklearn/externals/joblib/externals/loky/process_executor.py:706: UserWarning: A worker stopped while some jobs were given to the executor. This can be caused by a too short worker timeout or by a memory leak.\n",
      "  \"timeout or by a memory leak.\", UserWarning\n",
      "/home/user/anaconda3/lib/python3.6/site-packages/sklearn/externals/joblib/externals/loky/process_executor.py:706: UserWarning: A worker stopped while some jobs were given to the executor. This can be caused by a too short worker timeout or by a memory leak.\n",
      "  \"timeout or by a memory leak.\", UserWarning\n",
      "/home/user/anaconda3/lib/python3.6/site-packages/sklearn/externals/joblib/externals/loky/process_executor.py:706: UserWarning: A worker stopped while some jobs were given to the executor. This can be caused by a too short worker timeout or by a memory leak.\n",
      "  \"timeout or by a memory leak.\", UserWarning\n",
      "/home/user/anaconda3/lib/python3.6/site-packages/sklearn/externals/joblib/externals/loky/process_executor.py:706: UserWarning: A worker stopped while some jobs were given to the executor. This can be caused by a too short worker timeout or by a memory leak.\n",
      "  \"timeout or by a memory leak.\", UserWarning\n",
      "/home/user/anaconda3/lib/python3.6/site-packages/sklearn/externals/joblib/externals/loky/process_executor.py:706: UserWarning: A worker stopped while some jobs were given to the executor. This can be caused by a too short worker timeout or by a memory leak.\n",
      "  \"timeout or by a memory leak.\", UserWarning\n",
      "/home/user/anaconda3/lib/python3.6/site-packages/sklearn/externals/joblib/externals/loky/process_executor.py:706: UserWarning: A worker stopped while some jobs were given to the executor. This can be caused by a too short worker timeout or by a memory leak.\n",
      "  \"timeout or by a memory leak.\", UserWarning\n",
      "[Parallel(n_jobs=2)]: Done  37 tasks      | elapsed: 53.1min\n",
      "/home/user/anaconda3/lib/python3.6/site-packages/sklearn/externals/joblib/externals/loky/process_executor.py:706: UserWarning: A worker stopped while some jobs were given to the executor. This can be caused by a too short worker timeout or by a memory leak.\n",
      "  \"timeout or by a memory leak.\", UserWarning\n",
      "/home/user/anaconda3/lib/python3.6/site-packages/sklearn/externals/joblib/externals/loky/process_executor.py:706: UserWarning: A worker stopped while some jobs were given to the executor. This can be caused by a too short worker timeout or by a memory leak.\n",
      "  \"timeout or by a memory leak.\", UserWarning\n",
      "/home/user/anaconda3/lib/python3.6/site-packages/sklearn/externals/joblib/externals/loky/process_executor.py:706: UserWarning: A worker stopped while some jobs were given to the executor. This can be caused by a too short worker timeout or by a memory leak.\n",
      "  \"timeout or by a memory leak.\", UserWarning\n",
      "/home/user/anaconda3/lib/python3.6/site-packages/sklearn/externals/joblib/externals/loky/process_executor.py:706: UserWarning: A worker stopped while some jobs were given to the executor. This can be caused by a too short worker timeout or by a memory leak.\n",
      "  \"timeout or by a memory leak.\", UserWarning\n",
      "/home/user/anaconda3/lib/python3.6/site-packages/sklearn/externals/joblib/externals/loky/process_executor.py:706: UserWarning: A worker stopped while some jobs were given to the executor. This can be caused by a too short worker timeout or by a memory leak.\n",
      "  \"timeout or by a memory leak.\", UserWarning\n",
      "/home/user/anaconda3/lib/python3.6/site-packages/sklearn/externals/joblib/externals/loky/process_executor.py:706: UserWarning: A worker stopped while some jobs were given to the executor. This can be caused by a too short worker timeout or by a memory leak.\n",
      "  \"timeout or by a memory leak.\", UserWarning\n",
      "/home/user/anaconda3/lib/python3.6/site-packages/sklearn/externals/joblib/externals/loky/process_executor.py:706: UserWarning: A worker stopped while some jobs were given to the executor. This can be caused by a too short worker timeout or by a memory leak.\n",
      "  \"timeout or by a memory leak.\", UserWarning\n",
      "/home/user/anaconda3/lib/python3.6/site-packages/sklearn/externals/joblib/externals/loky/process_executor.py:706: UserWarning: A worker stopped while some jobs were given to the executor. This can be caused by a too short worker timeout or by a memory leak.\n",
      "  \"timeout or by a memory leak.\", UserWarning\n",
      "/home/user/anaconda3/lib/python3.6/site-packages/sklearn/externals/joblib/externals/loky/process_executor.py:706: UserWarning: A worker stopped while some jobs were given to the executor. This can be caused by a too short worker timeout or by a memory leak.\n",
      "  \"timeout or by a memory leak.\", UserWarning\n",
      "/home/user/anaconda3/lib/python3.6/site-packages/sklearn/externals/joblib/externals/loky/process_executor.py:706: UserWarning: A worker stopped while some jobs were given to the executor. This can be caused by a too short worker timeout or by a memory leak.\n",
      "  \"timeout or by a memory leak.\", UserWarning\n"
     ]
    },
    {
     "name": "stderr",
     "output_type": "stream",
     "text": [
      "/home/user/anaconda3/lib/python3.6/site-packages/sklearn/externals/joblib/externals/loky/process_executor.py:706: UserWarning: A worker stopped while some jobs were given to the executor. This can be caused by a too short worker timeout or by a memory leak.\n",
      "  \"timeout or by a memory leak.\", UserWarning\n",
      "/home/user/anaconda3/lib/python3.6/site-packages/sklearn/externals/joblib/externals/loky/process_executor.py:706: UserWarning: A worker stopped while some jobs were given to the executor. This can be caused by a too short worker timeout or by a memory leak.\n",
      "  \"timeout or by a memory leak.\", UserWarning\n",
      "/home/user/anaconda3/lib/python3.6/site-packages/sklearn/externals/joblib/externals/loky/process_executor.py:706: UserWarning: A worker stopped while some jobs were given to the executor. This can be caused by a too short worker timeout or by a memory leak.\n",
      "  \"timeout or by a memory leak.\", UserWarning\n",
      "/home/user/anaconda3/lib/python3.6/site-packages/sklearn/externals/joblib/externals/loky/process_executor.py:706: UserWarning: A worker stopped while some jobs were given to the executor. This can be caused by a too short worker timeout or by a memory leak.\n",
      "  \"timeout or by a memory leak.\", UserWarning\n",
      "/home/user/anaconda3/lib/python3.6/site-packages/sklearn/externals/joblib/externals/loky/process_executor.py:706: UserWarning: A worker stopped while some jobs were given to the executor. This can be caused by a too short worker timeout or by a memory leak.\n",
      "  \"timeout or by a memory leak.\", UserWarning\n",
      "/home/user/anaconda3/lib/python3.6/site-packages/sklearn/externals/joblib/externals/loky/process_executor.py:706: UserWarning: A worker stopped while some jobs were given to the executor. This can be caused by a too short worker timeout or by a memory leak.\n",
      "  \"timeout or by a memory leak.\", UserWarning\n",
      "/home/user/anaconda3/lib/python3.6/site-packages/sklearn/externals/joblib/externals/loky/process_executor.py:706: UserWarning: A worker stopped while some jobs were given to the executor. This can be caused by a too short worker timeout or by a memory leak.\n",
      "  \"timeout or by a memory leak.\", UserWarning\n",
      "/home/user/anaconda3/lib/python3.6/site-packages/sklearn/externals/joblib/externals/loky/process_executor.py:706: UserWarning: A worker stopped while some jobs were given to the executor. This can be caused by a too short worker timeout or by a memory leak.\n",
      "  \"timeout or by a memory leak.\", UserWarning\n",
      "/home/user/anaconda3/lib/python3.6/site-packages/sklearn/externals/joblib/externals/loky/process_executor.py:706: UserWarning: A worker stopped while some jobs were given to the executor. This can be caused by a too short worker timeout or by a memory leak.\n",
      "  \"timeout or by a memory leak.\", UserWarning\n",
      "/home/user/anaconda3/lib/python3.6/site-packages/sklearn/externals/joblib/externals/loky/process_executor.py:706: UserWarning: A worker stopped while some jobs were given to the executor. This can be caused by a too short worker timeout or by a memory leak.\n",
      "  \"timeout or by a memory leak.\", UserWarning\n",
      "/home/user/anaconda3/lib/python3.6/site-packages/sklearn/externals/joblib/externals/loky/process_executor.py:706: UserWarning: A worker stopped while some jobs were given to the executor. This can be caused by a too short worker timeout or by a memory leak.\n",
      "  \"timeout or by a memory leak.\", UserWarning\n",
      "/home/user/anaconda3/lib/python3.6/site-packages/sklearn/externals/joblib/externals/loky/process_executor.py:706: UserWarning: A worker stopped while some jobs were given to the executor. This can be caused by a too short worker timeout or by a memory leak.\n",
      "  \"timeout or by a memory leak.\", UserWarning\n",
      "/home/user/anaconda3/lib/python3.6/site-packages/sklearn/externals/joblib/externals/loky/process_executor.py:706: UserWarning: A worker stopped while some jobs were given to the executor. This can be caused by a too short worker timeout or by a memory leak.\n",
      "  \"timeout or by a memory leak.\", UserWarning\n",
      "/home/user/anaconda3/lib/python3.6/site-packages/sklearn/externals/joblib/externals/loky/process_executor.py:706: UserWarning: A worker stopped while some jobs were given to the executor. This can be caused by a too short worker timeout or by a memory leak.\n",
      "  \"timeout or by a memory leak.\", UserWarning\n",
      "/home/user/anaconda3/lib/python3.6/site-packages/sklearn/externals/joblib/externals/loky/process_executor.py:706: UserWarning: A worker stopped while some jobs were given to the executor. This can be caused by a too short worker timeout or by a memory leak.\n",
      "  \"timeout or by a memory leak.\", UserWarning\n",
      "/home/user/anaconda3/lib/python3.6/site-packages/sklearn/externals/joblib/externals/loky/process_executor.py:706: UserWarning: A worker stopped while some jobs were given to the executor. This can be caused by a too short worker timeout or by a memory leak.\n",
      "  \"timeout or by a memory leak.\", UserWarning\n",
      "/home/user/anaconda3/lib/python3.6/site-packages/sklearn/externals/joblib/externals/loky/process_executor.py:706: UserWarning: A worker stopped while some jobs were given to the executor. This can be caused by a too short worker timeout or by a memory leak.\n",
      "  \"timeout or by a memory leak.\", UserWarning\n",
      "/home/user/anaconda3/lib/python3.6/site-packages/sklearn/externals/joblib/externals/loky/process_executor.py:706: UserWarning: A worker stopped while some jobs were given to the executor. This can be caused by a too short worker timeout or by a memory leak.\n",
      "  \"timeout or by a memory leak.\", UserWarning\n",
      "/home/user/anaconda3/lib/python3.6/site-packages/sklearn/externals/joblib/externals/loky/process_executor.py:706: UserWarning: A worker stopped while some jobs were given to the executor. This can be caused by a too short worker timeout or by a memory leak.\n",
      "  \"timeout or by a memory leak.\", UserWarning\n",
      "/home/user/anaconda3/lib/python3.6/site-packages/sklearn/externals/joblib/externals/loky/process_executor.py:706: UserWarning: A worker stopped while some jobs were given to the executor. This can be caused by a too short worker timeout or by a memory leak.\n",
      "  \"timeout or by a memory leak.\", UserWarning\n",
      "/home/user/anaconda3/lib/python3.6/site-packages/sklearn/externals/joblib/externals/loky/process_executor.py:706: UserWarning: A worker stopped while some jobs were given to the executor. This can be caused by a too short worker timeout or by a memory leak.\n",
      "  \"timeout or by a memory leak.\", UserWarning\n",
      "/home/user/anaconda3/lib/python3.6/site-packages/sklearn/externals/joblib/externals/loky/process_executor.py:706: UserWarning: A worker stopped while some jobs were given to the executor. This can be caused by a too short worker timeout or by a memory leak.\n",
      "  \"timeout or by a memory leak.\", UserWarning\n",
      "/home/user/anaconda3/lib/python3.6/site-packages/sklearn/externals/joblib/externals/loky/process_executor.py:706: UserWarning: A worker stopped while some jobs were given to the executor. This can be caused by a too short worker timeout or by a memory leak.\n",
      "  \"timeout or by a memory leak.\", UserWarning\n",
      "/home/user/anaconda3/lib/python3.6/site-packages/sklearn/externals/joblib/externals/loky/process_executor.py:706: UserWarning: A worker stopped while some jobs were given to the executor. This can be caused by a too short worker timeout or by a memory leak.\n",
      "  \"timeout or by a memory leak.\", UserWarning\n",
      "/home/user/anaconda3/lib/python3.6/site-packages/sklearn/externals/joblib/externals/loky/process_executor.py:706: UserWarning: A worker stopped while some jobs were given to the executor. This can be caused by a too short worker timeout or by a memory leak.\n",
      "  \"timeout or by a memory leak.\", UserWarning\n",
      "/home/user/anaconda3/lib/python3.6/site-packages/sklearn/externals/joblib/externals/loky/process_executor.py:706: UserWarning: A worker stopped while some jobs were given to the executor. This can be caused by a too short worker timeout or by a memory leak.\n",
      "  \"timeout or by a memory leak.\", UserWarning\n",
      "/home/user/anaconda3/lib/python3.6/site-packages/sklearn/externals/joblib/externals/loky/process_executor.py:706: UserWarning: A worker stopped while some jobs were given to the executor. This can be caused by a too short worker timeout or by a memory leak.\n",
      "  \"timeout or by a memory leak.\", UserWarning\n"
     ]
    },
    {
     "name": "stderr",
     "output_type": "stream",
     "text": [
      "/home/user/anaconda3/lib/python3.6/site-packages/sklearn/externals/joblib/externals/loky/process_executor.py:706: UserWarning: A worker stopped while some jobs were given to the executor. This can be caused by a too short worker timeout or by a memory leak.\n",
      "  \"timeout or by a memory leak.\", UserWarning\n",
      "/home/user/anaconda3/lib/python3.6/site-packages/sklearn/externals/joblib/externals/loky/process_executor.py:706: UserWarning: A worker stopped while some jobs were given to the executor. This can be caused by a too short worker timeout or by a memory leak.\n",
      "  \"timeout or by a memory leak.\", UserWarning\n",
      "/home/user/anaconda3/lib/python3.6/site-packages/sklearn/externals/joblib/externals/loky/process_executor.py:706: UserWarning: A worker stopped while some jobs were given to the executor. This can be caused by a too short worker timeout or by a memory leak.\n",
      "  \"timeout or by a memory leak.\", UserWarning\n",
      "/home/user/anaconda3/lib/python3.6/site-packages/sklearn/externals/joblib/externals/loky/process_executor.py:706: UserWarning: A worker stopped while some jobs were given to the executor. This can be caused by a too short worker timeout or by a memory leak.\n",
      "  \"timeout or by a memory leak.\", UserWarning\n",
      "/home/user/anaconda3/lib/python3.6/site-packages/sklearn/externals/joblib/externals/loky/process_executor.py:706: UserWarning: A worker stopped while some jobs were given to the executor. This can be caused by a too short worker timeout or by a memory leak.\n",
      "  \"timeout or by a memory leak.\", UserWarning\n",
      "/home/user/anaconda3/lib/python3.6/site-packages/sklearn/externals/joblib/externals/loky/process_executor.py:706: UserWarning: A worker stopped while some jobs were given to the executor. This can be caused by a too short worker timeout or by a memory leak.\n",
      "  \"timeout or by a memory leak.\", UserWarning\n",
      "/home/user/anaconda3/lib/python3.6/site-packages/sklearn/externals/joblib/externals/loky/process_executor.py:706: UserWarning: A worker stopped while some jobs were given to the executor. This can be caused by a too short worker timeout or by a memory leak.\n",
      "  \"timeout or by a memory leak.\", UserWarning\n",
      "/home/user/anaconda3/lib/python3.6/site-packages/sklearn/externals/joblib/externals/loky/process_executor.py:706: UserWarning: A worker stopped while some jobs were given to the executor. This can be caused by a too short worker timeout or by a memory leak.\n",
      "  \"timeout or by a memory leak.\", UserWarning\n",
      "/home/user/anaconda3/lib/python3.6/site-packages/sklearn/externals/joblib/externals/loky/process_executor.py:706: UserWarning: A worker stopped while some jobs were given to the executor. This can be caused by a too short worker timeout or by a memory leak.\n",
      "  \"timeout or by a memory leak.\", UserWarning\n",
      "/home/user/anaconda3/lib/python3.6/site-packages/sklearn/externals/joblib/externals/loky/process_executor.py:706: UserWarning: A worker stopped while some jobs were given to the executor. This can be caused by a too short worker timeout or by a memory leak.\n",
      "  \"timeout or by a memory leak.\", UserWarning\n",
      "/home/user/anaconda3/lib/python3.6/site-packages/sklearn/externals/joblib/externals/loky/process_executor.py:706: UserWarning: A worker stopped while some jobs were given to the executor. This can be caused by a too short worker timeout or by a memory leak.\n",
      "  \"timeout or by a memory leak.\", UserWarning\n",
      "/home/user/anaconda3/lib/python3.6/site-packages/sklearn/externals/joblib/externals/loky/process_executor.py:706: UserWarning: A worker stopped while some jobs were given to the executor. This can be caused by a too short worker timeout or by a memory leak.\n",
      "  \"timeout or by a memory leak.\", UserWarning\n",
      "/home/user/anaconda3/lib/python3.6/site-packages/sklearn/externals/joblib/externals/loky/process_executor.py:706: UserWarning: A worker stopped while some jobs were given to the executor. This can be caused by a too short worker timeout or by a memory leak.\n",
      "  \"timeout or by a memory leak.\", UserWarning\n",
      "/home/user/anaconda3/lib/python3.6/site-packages/sklearn/externals/joblib/externals/loky/process_executor.py:706: UserWarning: A worker stopped while some jobs were given to the executor. This can be caused by a too short worker timeout or by a memory leak.\n",
      "  \"timeout or by a memory leak.\", UserWarning\n",
      "[Parallel(n_jobs=2)]: Done 144 out of 144 | elapsed: 911.1min finished\n"
     ]
    }
   ],
   "source": [
    "# Create the parameter grid based on the results of random search \n",
    "param_grid = {\n",
    "    'max_depth': [2,5, 10],\n",
    "    'max_features': ['auto','sqrt'],\n",
    "    'min_samples_leaf': [2,6],\n",
    "    'min_samples_split': [2,6],\n",
    "    'n_estimators': [100, 200]\n",
    "}\n",
    "# Create a based model\n",
    "gradB = GradientBoostingClassifier(random_state=60)\n",
    "# Instantiate the grid search model\n",
    "gsb = GridSearchCV(estimator = gradB, param_grid= param_grid, cv = 3, n_jobs = 2, verbose = 2,refit=True,scoring='f1')\n",
    "gsb.fit(X_train, y_train)\n",
    "final_model_gsb=gsb.best_estimator_"
   ]
  },
  {
   "cell_type": "code",
   "execution_count": 62,
   "metadata": {},
   "outputs": [],
   "source": [
    "ans=pd.DataFrame(gsb.cv_results_)\n",
    "ans"
   ]
  },
  {
   "cell_type": "code",
   "execution_count": 35,
   "metadata": {},
   "outputs": [
    {
     "name": "stdout",
     "output_type": "stream",
     "text": [
      "f1_score : 0.9742761616667045\n",
      "feature importances:\n",
      "outcome = 0.003995912213863645\n",
      "auction = 0.08603099899878977\n",
      "merchandise = 0.0033816580545108954\n",
      "device = 0.009681751406519098\n",
      "time = 0.021809216195461188\n",
      "country = 0.0025006359920431093\n",
      "ip = 0.006167478989575988\n",
      "url = 0.2500176465295808\n",
      "countOfBids = 0.03591309319834412\n",
      "countOfBidsPerAuction = 0.005792869041937142\n",
      "timeDiffEachBids = 0.001134300212854384\n",
      "timeDiffEachBidsPerAuction = 0.008682301481629429\n",
      "hour = 0.003666857801013832\n",
      "day = 0.007437448399681002\n",
      "dayOfWeek = 0.0389181016255345\n",
      "countBids_CountBidsAuction = 0.20138221451873314\n",
      "timeDiffEachBidsPerAuctionMax = 0.015492087161075092\n",
      "timeDiffEachBidsPerAuctionMin = 0.012619808026737378\n",
      "timeDiffEachBidsPerAuctionAvg = 0.2693156343534911\n",
      "timeDiffEachBidsMax = 0.009513316926007655\n",
      "timeDiffEachBidsMin = 0.0065466688726167266\n"
     ]
    },
    {
     "data": {
      "image/png": "[encoded data removed]",
      "text/plain": [
       "<Figure size 432x288 with 1 Axes>"
      ]
     },
     "metadata": {
      "needs_background": "light"
     },
     "output_type": "display_data"
    },
    {
     "data": {
      "image/png": "[encoded data removed]",
      "text/plain": [
       "<Figure size 720x504 with 2 Axes>"
      ]
     },
     "metadata": {
      "needs_background": "light"
     },
     "output_type": "display_data"
    },
    {
     "name": "stdout",
     "output_type": "stream",
     "text": [
      "Random Forest: ROC AUC=1.000\n"
     ]
    },
    {
     "data": {
      "image/png": "[encoded data removed]",
      "text/plain": [
       "<Figure size 432x288 with 1 Axes>"
      ]
     },
     "metadata": {},
     "output_type": "display_data"
    }
   ],
   "source": [
    "gbdt=GradientBoostingClassifier(random_state=60,n_estimators=100,max_depth=5,max_features='sqrt',min_samples_leaf=4,min_samples_split=4)\n",
    "gbdt.fit(X_train, y_train)\n",
    "metricsModel(gbdt)\n",
    "rocauc(gbdt)"
   ]
  },
  {
   "cell_type": "markdown",
   "metadata": {},
   "source": [
    "# refitting the model on entire data"
   ]
  },
  {
   "cell_type": "code",
   "execution_count": 39,
   "metadata": {},
   "outputs": [
    {
     "name": "stdout",
     "output_type": "stream",
     "text": [
      "f1_score : 0.978783144261033\n",
      "feature importances:\n",
      "outcome = 0.004074201180945076\n",
      "auction = 0.08767120727096206\n",
      "merchandise = 0.0034273773065398487\n",
      "device = 0.01434412579859304\n",
      "time = 0.02214731151637618\n",
      "country = 0.0018327583616274561\n",
      "ip = 0.005277155037225306\n",
      "url = 0.22289741912684077\n",
      "countOfBids = 0.03552821522563074\n",
      "countOfBidsPerAuction = 0.01024361759236103\n",
      "timeDiffEachBids = 0.0014349037855615546\n",
      "timeDiffEachBidsPerAuction = 0.011723248007188228\n",
      "hour = 0.004741226285145554\n",
      "day = 0.0073866193741737906\n",
      "dayOfWeek = 0.04105693080292957\n",
      "countBids_CountBidsAuction = 0.19421152937324368\n",
      "timeDiffEachBidsPerAuctionMax = 0.016676005104756152\n",
      "timeDiffEachBidsPerAuctionMin = 0.01246120998074977\n",
      "timeDiffEachBidsPerAuctionAvg = 0.28854458835067565\n",
      "timeDiffEachBidsMax = 0.007061847016807946\n",
      "timeDiffEachBidsMin = 0.007258503501666531\n"
     ]
    },
    {
     "data": {
      "image/png": "[encoded data removed]",
      "text/plain": [
       "<Figure size 432x288 with 1 Axes>"
      ]
     },
     "metadata": {
      "needs_background": "light"
     },
     "output_type": "display_data"
    },
    {
     "data": {
      "image/png": "[encoded data removed]",
      "text/plain": [
       "<Figure size 720x504 with 2 Axes>"
      ]
     },
     "metadata": {
      "needs_background": "light"
     },
     "output_type": "display_data"
    },
    {
     "name": "stdout",
     "output_type": "stream",
     "text": [
      "Random Forest: ROC AUC=1.000\n"
     ]
    },
    {
     "data": {
      "image/png": "[encoded data removed]",
      "text/plain": [
       "<Figure size 432x288 with 1 Axes>"
      ]
     },
     "metadata": {},
     "output_type": "display_data"
    }
   ],
   "source": [
    "gbdt=GradientBoostingClassifier(random_state=60,n_estimators=100,max_depth=5,max_features='sqrt',min_samples_leaf=4,min_samples_split=4)\n",
    "gbdt.fit(df.drop('outcome',axis=1), df['outcome'])\n",
    "metricsModel(gbdt)\n",
    "rocauc(gbdt)"
   ]
  },
  {
   "cell_type": "code",
   "execution_count": 40,
   "metadata": {},
   "outputs": [
    {
     "data": {
      "text/plain": [
       "(1605435, 21)"
      ]
     },
     "execution_count": 40,
     "metadata": {},
     "output_type": "execute_result"
    }
   ],
   "source": [
    "test.loc[test['time'].isnull(),'time']=np.median(test['time'].dropna())\n",
    "test.shape"
   ]
  },
  {
   "cell_type": "code",
   "execution_count": 49,
   "metadata": {},
   "outputs": [],
   "source": [
    "test.drop('bidder_id',axis=1,inplace=True)"
   ]
  },
  {
   "cell_type": "code",
   "execution_count": 50,
   "metadata": {
    "scrolled": true
   },
   "outputs": [
    {
     "data": {
      "text/plain": [
       "0    1599248\n",
       "1       6187\n",
       "Name: prediction, dtype: int64"
      ]
     },
     "execution_count": 50,
     "metadata": {},
     "output_type": "execute_result"
    }
   ],
   "source": [
    "test['prediction']=gbdt.predict(test)\n",
    "test['prediction'].value_counts()"
   ]
  },
  {
   "cell_type": "code",
   "execution_count": 53,
   "metadata": {},
   "outputs": [],
   "source": [
    "test['bidder_id']=bidder_id_test"
   ]
  },
  {
   "cell_type": "code",
   "execution_count": 57,
   "metadata": {},
   "outputs": [],
   "source": [
    "test[['bidder_id','prediction']].to_csv('submission_file.csv')"
   ]
  },
  {
   "cell_type": "code",
   "execution_count": 58,
   "metadata": {},
   "outputs": [
    {
     "data": {
      "text/plain": [
       "(1605435, 23)"
      ]
     },
     "execution_count": 58,
     "metadata": {},
     "output_type": "execute_result"
    }
   ],
   "source": [
    "test.shape"
   ]
  },
  {
   "cell_type": "code",
   "execution_count": 59,
   "metadata": {},
   "outputs": [
    {
     "data": {
      "text/plain": [
       "(515, 3)"
      ]
     },
     "execution_count": 59,
     "metadata": {},
     "output_type": "execute_result"
    }
   ],
   "source": [
    "df_test.shape"
   ]
  },
  {
   "cell_type": "code",
   "execution_count": 60,
   "metadata": {},
   "outputs": [
    {
     "data": {
      "text/plain": [
       "(1498, 4)"
      ]
     },
     "execution_count": 60,
     "metadata": {},
     "output_type": "execute_result"
    }
   ],
   "source": [
    "df_train.shape"
   ]
  },
  {
   "cell_type": "code",
   "execution_count": 95,
   "metadata": {},
   "outputs": [],
   "source": [
    "ans=test.groupby('bidder_id')[['bidder_id','prediction']].agg(sum)"
   ]
  },
  {
   "cell_type": "code",
   "execution_count": 90,
   "metadata": {},
   "outputs": [],
   "source": [
    "ans=ans.reset_index()"
   ]
  },
  {
   "cell_type": "code",
   "execution_count": 91,
   "metadata": {},
   "outputs": [],
   "source": [
    "ans.loc[ans['prediction']>=1,'prediction']=1"
   ]
  },
  {
   "cell_type": "code",
   "execution_count": 92,
   "metadata": {},
   "outputs": [
    {
     "data": {
      "text/plain": [
       "0    503\n",
       "1     12\n",
       "Name: prediction, dtype: int64"
      ]
     },
     "execution_count": 92,
     "metadata": {},
     "output_type": "execute_result"
    }
   ],
   "source": [
    "ans.prediction.value_counts()"
   ]
  },
  {
   "cell_type": "code",
   "execution_count": 94,
   "metadata": {},
   "outputs": [],
   "source": [
    "ans.to_csv('submission_file.csv')"
   ]
  },
  {
   "cell_type": "code",
   "execution_count": 96,
   "metadata": {},
   "outputs": [
    {
     "data": {
      "text/plain": [
       "0       503\n",
       "601       1\n",
       "600       1\n",
       "4548      1\n",
       "299       1\n",
       "43        1\n",
       "31        1\n",
       "24        1\n",
       "14        1\n",
       "12        1\n",
       "11        1\n",
       "3         1\n",
       "1         1\n",
       "Name: prediction, dtype: int64"
      ]
     },
     "execution_count": 96,
     "metadata": {},
     "output_type": "execute_result"
    }
   ],
   "source": [
    "ans.prediction.value_counts()"
   ]
  },
  {
   "cell_type": "code",
   "execution_count": null,
   "metadata": {},
   "outputs": [],
   "source": []
  }
 ],
 "metadata": {
  "kernelspec": {
   "display_name": "Python 3",
   "language": "python",
   "name": "python3"
  },
  "language_info": {
   "codemirror_mode": {
    "name": "ipython",
    "version": 3
   },
   "file_extension": ".py",
   "mimetype": "text/x-python",
   "name": "python",
   "nbconvert_exporter": "python",
   "pygments_lexer": "ipython3",
   "version": "3.6.8"
  }
 },
 "nbformat": 4,
 "nbformat_minor": 2
}
