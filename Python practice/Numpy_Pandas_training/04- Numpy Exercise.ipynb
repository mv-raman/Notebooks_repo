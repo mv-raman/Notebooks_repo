{
 "cells": [
  {
   "cell_type": "markdown",
   "metadata": {},
   "source": [
    "## Exercise"
   ]
  },
  {
   "cell_type": "markdown",
   "metadata": {},
   "source": [
    "**Q1- Write a NumPy code to calculate the missing sum row wise and column wise in below data matrix**"
   ]
  },
  {
   "cell_type": "code",
   "execution_count": 1,
   "metadata": {},
   "outputs": [
    {
     "data": {
      "text/plain": [
       "array([[ 0.49671415, -0.1382643 ,  0.64768854,  1.52302986, -0.23415337],\n",
       "       [-0.23413696,  1.57921282,  0.76743473, -0.46947439,  0.54256004],\n",
       "       [-0.46341769, -0.46572975,  0.24196227,         nan,         nan],\n",
       "       [-0.56228753,         nan,  0.31424733, -0.90802408,         nan],\n",
       "       [ 1.46564877, -0.2257763 ,  0.0675282 ,         nan, -0.54438272],\n",
       "       [ 0.11092259,         nan,  0.37569802, -0.60063869, -0.29169375],\n",
       "       [-0.60170661,  1.85227818, -0.01349722,         nan,  0.82254491],\n",
       "       [        nan,  0.2088636 ,         nan,         nan,  0.19686124],\n",
       "       [ 0.73846658,  0.17136828, -0.11564828, -0.3011037 ,         nan],\n",
       "       [-0.71984421, -0.46063877,  1.05712223,  0.34361829,         nan]])"
      ]
     },
     "execution_count": 1,
     "metadata": {},
     "output_type": "execute_result"
    }
   ],
   "source": [
    "#Write your code here\n",
    "import numpy as np\n",
    "np.random.seed(42)\n",
    "data=np.random.randn(10,5)\n",
    "data[data<-1]=np.nan\n",
    "data"
   ]
  },
  {
   "cell_type": "code",
   "execution_count": 2,
   "metadata": {},
   "outputs": [],
   "source": [
    "#write ans here"
   ]
  },
  {
   "cell_type": "markdown",
   "metadata": {},
   "source": [
    "**Q2- Create a 5X2 integer array from a range between 100 to 200 such that the difference between each element is 10** <br>\n",
    "\n",
    "Output-  <br>\n",
    " [[100 110] <br>\n",
    " [120 130] <br>\n",
    " [140 150] <br>\n",
    " [160 170] <br>\n",
    " [180 190]]"
   ]
  },
  {
   "cell_type": "code",
   "execution_count": 3,
   "metadata": {},
   "outputs": [],
   "source": [
    "##Write your code here"
   ]
  },
  {
   "cell_type": "markdown",
   "metadata": {},
   "source": [
    "**Q3- Sort the following array**\n",
    "- arr = array([[5,6,4],[2,5,1],[9,4,1]]).reshape(3,3)\n",
    "\n",
    "**Output** - \n",
    "array(<br>[[4, 5, 6], <br>[1, 2, 5], <br>     [1, 4, 9]])"
   ]
  },
  {
   "cell_type": "code",
   "execution_count": 4,
   "metadata": {},
   "outputs": [],
   "source": [
    "##Write your code here"
   ]
  },
  {
   "cell_type": "markdown",
   "metadata": {},
   "source": [
    "**Q4- Create and array and replace all the odd numbers in arr with −1 without changing arr:**"
   ]
  },
  {
   "cell_type": "code",
   "execution_count": 5,
   "metadata": {},
   "outputs": [],
   "source": [
    "##Write your code here"
   ]
  },
  {
   "cell_type": "markdown",
   "metadata": {},
   "source": [
    "**Q5- Given an array** <br>\n",
    "arr = np.arange(10) <br>\n",
    "Use slicing to find elements **4,5,6**. Define it in an array called arr_subset."
   ]
  },
  {
   "cell_type": "code",
   "execution_count": 51,
   "metadata": {},
   "outputs": [],
   "source": [
    "##Write your code here"
   ]
  },
  {
   "cell_type": "markdown",
   "metadata": {},
   "source": [
    "**Q6- Using the previous result, 2nd element of arr_subset to 65. What is the effect on the original array “arr”?**"
   ]
  },
  {
   "cell_type": "code",
   "execution_count": 52,
   "metadata": {},
   "outputs": [],
   "source": [
    "##Write your code here"
   ]
  },
  {
   "cell_type": "markdown",
   "metadata": {},
   "source": [
    "**Q7- What will be the output of “arr” if** <br>\n",
    "arr_subset[:] = 99\n",
    "\n",
    "PLEASE DON'T CODE"
   ]
  },
  {
   "cell_type": "code",
   "execution_count": 53,
   "metadata": {},
   "outputs": [],
   "source": [
    "#Write your answer here:"
   ]
  },
  {
   "cell_type": "markdown",
   "metadata": {},
   "source": [
    "**Q8- Given an array** <br>\n",
    "arr = np.array([[[1,2,3],[4,5,6]],[7,8,9]])\n",
    "\n",
    "What will be the output of arr[0][0]?\n",
    "\n",
    "PLEASE DON'T CODE"
   ]
  },
  {
   "cell_type": "code",
   "execution_count": 54,
   "metadata": {},
   "outputs": [],
   "source": [
    "#Write your answer here:"
   ]
  },
  {
   "cell_type": "markdown",
   "metadata": {},
   "source": [
    "**Q9: Add the following two NumPy arrays and Modify a result array by calculating the square of each element** <br>\n",
    "\n",
    "arr1 = numpy.array([[5, 6, 9], [21 ,18, 27]]) <br>\n",
    "arr2 = numpy.array([[15 ,33, 24], [4 ,7, 1]]) <br>\n",
    "\n",
    "Output - <br>\n",
    "[[ 400 1521 1089] <br>\n",
    " [ 625  625  784]]"
   ]
  },
  {
   "cell_type": "code",
   "execution_count": 55,
   "metadata": {},
   "outputs": [],
   "source": [
    "#Write your code here:"
   ]
  },
  {
   "cell_type": "markdown",
   "metadata": {},
   "source": [
    "**Q10- Given the arrays** <br>\n",
    "\n",
    "arr1 = np.arange(5,10,1) <br>\n",
    "arr2 = np.arange(-5,0,1) <br>\n",
    "cond = np.array([True,False,False,False,True]) <br>\n",
    "\n",
    "Create a new array called arr3 and input the value of arr1 wherever cond = True else input arr2. <br>\n",
    "\n",
    "Output - array([ 5, -4, -3, -2,  9])"
   ]
  },
  {
   "cell_type": "code",
   "execution_count": 56,
   "metadata": {},
   "outputs": [],
   "source": [
    "#Write your code here:"
   ]
  },
  {
   "cell_type": "markdown",
   "metadata": {},
   "source": [
    "**Q11- Find the duplicate entries (2nd occurrence onwards) in the given numpy array and mark them as True. First time occurrences should be False.**\n",
    "\n",
    "arr = np.array([0 0 3 0 2 4 2 2 2 2])\n",
    "\n",
    "Desired output- \n",
    "\n",
    "array([False  True False  True False False  True  True  True  True])"
   ]
  },
  {
   "cell_type": "code",
   "execution_count": 57,
   "metadata": {},
   "outputs": [],
   "source": [
    "#Write your code here:"
   ]
  },
  {
   "cell_type": "markdown",
   "metadata": {},
   "source": [
    "### Additional Exercises"
   ]
  },
  {
   "cell_type": "markdown",
   "metadata": {},
   "source": [
    "**Q1- Given two arrays:**\n",
    "\n",
    "arr1 = np.array([range(9)]).reshape(2,-1) <br>\n",
    "arr2 = np.repeat(1,10).reshape(2,-1) <br>\n",
    "\n",
    "Concatenate the two arrays by rows."
   ]
  },
  {
   "cell_type": "code",
   "execution_count": 58,
   "metadata": {},
   "outputs": [],
   "source": [
    "#Write your code here:"
   ]
  },
  {
   "cell_type": "markdown",
   "metadata": {},
   "source": [
    "**Q2- What will be the output?**\n",
    "\n",
    "arr1 = np.arange(9) <br>\n",
    "arr1_copy = arr1.copy() <br>\n",
    "arr2 = arr1_copy[4:7] <br>\n",
    "arr2[1]=45 <br>\n",
    "arr1 <br>\n",
    "\n",
    "PLEASE DON'T CODE"
   ]
  },
  {
   "cell_type": "code",
   "execution_count": 59,
   "metadata": {},
   "outputs": [],
   "source": [
    "#Write your answer here:"
   ]
  },
  {
   "cell_type": "markdown",
   "metadata": {},
   "source": [
    "**Q3- What is the output?**\n",
    "\n",
    "arr1 = np.arange(5) <br>\n",
    "arr2 = np.array([[1,2,3],[4,5,6],[2,3,4],[7,8,0],[0,0,0]]) <br>\n",
    "arr2[arr1 == 1]\n",
    "\n",
    "PLEAESE DON'T CODE"
   ]
  },
  {
   "cell_type": "code",
   "execution_count": 60,
   "metadata": {},
   "outputs": [],
   "source": [
    "#Write your answer here:"
   ]
  },
  {
   "cell_type": "markdown",
   "metadata": {},
   "source": [
    "**Q4- Given an array**\n",
    "\n",
    "arr = np.randon.randn(4,4)\n",
    "Calculate the following:\n",
    "\n",
    "1. Mean\n",
    "2. Max\n",
    "3. Sum\n",
    "4. Standard Deviation\n",
    "5. cumsum"
   ]
  },
  {
   "cell_type": "code",
   "execution_count": 61,
   "metadata": {},
   "outputs": [],
   "source": [
    "#Write your code here:"
   ]
  },
  {
   "cell_type": "markdown",
   "metadata": {},
   "source": [
    "**Q5- Get the common items between a and b:**\n",
    "\n",
    "Input:\n",
    "\n",
    "a = np.array([1,2,3,2,3,4,3,4,5,6]) <br>\n",
    "b = np.array([7,2,10,2,7,4,9,4,9,8])<br>\n",
    "\n",
    "Desired output:\n",
    "\n",
    "array([2, 4])"
   ]
  },
  {
   "cell_type": "code",
   "execution_count": 62,
   "metadata": {},
   "outputs": [],
   "source": [
    "#Write your code here:"
   ]
  }
 ],
 "metadata": {
  "kernelspec": {
   "display_name": "Python 3",
   "language": "python",
   "name": "python3"
  },
  "language_info": {
   "codemirror_mode": {
    "name": "ipython",
    "version": 3
   },
   "file_extension": ".py",
   "mimetype": "text/x-python",
   "name": "python",
   "nbconvert_exporter": "python",
   "pygments_lexer": "ipython3",
   "version": "3.6.8"
  }
 },
 "nbformat": 4,
 "nbformat_minor": 2
}
