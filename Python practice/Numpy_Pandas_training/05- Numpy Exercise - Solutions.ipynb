{
 "cells": [
  {
   "cell_type": "markdown",
   "metadata": {},
   "source": [
    "## Exercise"
   ]
  },
  {
   "cell_type": "markdown",
   "metadata": {},
   "source": [
    "**Q1- Write a NumPy code to calculate the missing sum row wise and column wise in below data matrix**"
   ]
  },
  {
   "cell_type": "code",
   "execution_count": 84,
   "metadata": {},
   "outputs": [
    {
     "data": {
      "text/plain": [
       "array([[ 0.49671415, -0.1382643 ,  0.64768854,  1.52302986, -0.23415337],\n",
       "       [-0.23413696,  1.57921282,  0.76743473, -0.46947439,  0.54256004],\n",
       "       [-0.46341769, -0.46572975,  0.24196227,         nan,         nan],\n",
       "       [-0.56228753,         nan,  0.31424733, -0.90802408,         nan],\n",
       "       [ 1.46564877, -0.2257763 ,  0.0675282 ,         nan, -0.54438272],\n",
       "       [ 0.11092259,         nan,  0.37569802, -0.60063869, -0.29169375],\n",
       "       [-0.60170661,  1.85227818, -0.01349722,         nan,  0.82254491],\n",
       "       [        nan,  0.2088636 ,         nan,         nan,  0.19686124],\n",
       "       [ 0.73846658,  0.17136828, -0.11564828, -0.3011037 ,         nan],\n",
       "       [-0.71984421, -0.46063877,  1.05712223,  0.34361829,         nan]])"
      ]
     },
     "execution_count": 84,
     "metadata": {},
     "output_type": "execute_result"
    }
   ],
   "source": [
    "#Write your code here\n",
    "import numpy as np\n",
    "np.random.seed(42)\n",
    "data=np.random.randn(10,5)\n",
    "data[data<-1]=np.nan\n",
    "data"
   ]
  },
  {
   "cell_type": "code",
   "execution_count": 85,
   "metadata": {},
   "outputs": [
    {
     "data": {
      "text/plain": [
       "array([1, 2, 1, 4, 4])"
      ]
     },
     "execution_count": 85,
     "metadata": {},
     "output_type": "execute_result"
    }
   ],
   "source": [
    "np.sum(np.isnan(data),axis=0)"
   ]
  },
  {
   "cell_type": "code",
   "execution_count": 86,
   "metadata": {},
   "outputs": [
    {
     "data": {
      "text/plain": [
       "array([0, 0, 2, 2, 1, 1, 1, 3, 1, 1])"
      ]
     },
     "execution_count": 86,
     "metadata": {},
     "output_type": "execute_result"
    }
   ],
   "source": [
    "np.sum(np.isnan(data),axis=1)"
   ]
  },
  {
   "cell_type": "markdown",
   "metadata": {},
   "source": [
    "**Q2- Create a 5X2 integer array from a range between 100 to 200 such that the difference between each element is 10** <br>\n",
    "\n",
    "Output-  <br>\n",
    " [[100 110] <br>\n",
    " [120 130] <br>\n",
    " [140 150] <br>\n",
    " [160 170] <br>\n",
    " [180 190]]"
   ]
  },
  {
   "cell_type": "code",
   "execution_count": 71,
   "metadata": {},
   "outputs": [
    {
     "data": {
      "text/plain": [
       "array([[100, 110],\n",
       "       [120, 130],\n",
       "       [140, 150],\n",
       "       [160, 170],\n",
       "       [180, 190]])"
      ]
     },
     "execution_count": 71,
     "metadata": {},
     "output_type": "execute_result"
    }
   ],
   "source": [
    "##Write your code here\n",
    "np.arange(100,200,10).reshape(5,2)"
   ]
  },
  {
   "cell_type": "markdown",
   "metadata": {},
   "source": [
    "**Q3- Sort the following array**\n",
    "- arr = array([[5,6,4],[2,5,1],[9,4,1]]).reshape(3,3)\n",
    "\n",
    "**Output** - \n",
    "array(<br>[[4, 5, 6], <br>[1, 2, 5], <br>     [1, 4, 9]])"
   ]
  },
  {
   "cell_type": "code",
   "execution_count": 72,
   "metadata": {},
   "outputs": [
    {
     "data": {
      "text/plain": [
       "array([[4, 5, 6],\n",
       "       [1, 2, 5],\n",
       "       [1, 4, 9]])"
      ]
     },
     "execution_count": 72,
     "metadata": {},
     "output_type": "execute_result"
    }
   ],
   "source": [
    "##Write your code here\n",
    "arr = np.array([[5,6,4],[2,5,1],[9,4,1]]).reshape(3,3)\n",
    "np.sort(arr)"
   ]
  },
  {
   "cell_type": "markdown",
   "metadata": {},
   "source": [
    "**Q4- Create and array and replace all the odd numbers in arr with −1 without changing arr:**"
   ]
  },
  {
   "cell_type": "code",
   "execution_count": 73,
   "metadata": {},
   "outputs": [
    {
     "name": "stdout",
     "output_type": "stream",
     "text": [
      "Method 1\n",
      "New Array:  [0, -1, 2, -1, 4, -1, 6, -1, 8, -1]\n",
      "Original Array:  [0 1 2 3 4 5 6 7 8 9]\n",
      " \n",
      "Method 2\n",
      "New Array:  [ 0 -1  2 -1  4 -1  6 -1  8 -1]\n",
      "Original Array:  [0 1 2 3 4 5 6 7 8 9]\n"
     ]
    }
   ],
   "source": [
    "##Write your code here\n",
    "\n",
    "#method 1\n",
    "arr = np.arange(10)\n",
    "arr2 = [-1 if arr%2 != 0 else arr for arr in arr]\n",
    "print(\"Method 1\")\n",
    "print(\"New Array: \", arr2)\n",
    "print(\"Original Array: \", arr)\n",
    "print(' ')\n",
    "\n",
    "#method 2\n",
    "arr = np.arange(10)\n",
    "arr2 = np.where(arr%2 != 0, -1, arr)\n",
    "print(\"Method 2\")\n",
    "print(\"New Array: \", arr2)\n",
    "print(\"Original Array: \", arr)"
   ]
  },
  {
   "cell_type": "markdown",
   "metadata": {},
   "source": [
    "**Q5- Given an array** <br>\n",
    "arr = np.arange(10) <br>\n",
    "Use slicing to find elements **4,5,6**. Define it in an array called arr_subset."
   ]
  },
  {
   "cell_type": "code",
   "execution_count": 74,
   "metadata": {},
   "outputs": [
    {
     "data": {
      "text/plain": [
       "array([4, 5, 6])"
      ]
     },
     "execution_count": 74,
     "metadata": {},
     "output_type": "execute_result"
    }
   ],
   "source": [
    "##Write your code here\n",
    "arr = np.arange(10)\n",
    "arr_subset = arr[4:7]\n",
    "arr_subset"
   ]
  },
  {
   "cell_type": "markdown",
   "metadata": {},
   "source": [
    "**Q6- Using the previous result, 2nd element of arr_subset to 65. What is the effect on the original array “arr”?**"
   ]
  },
  {
   "cell_type": "code",
   "execution_count": 75,
   "metadata": {},
   "outputs": [
    {
     "name": "stdout",
     "output_type": "stream",
     "text": [
      "arr_subset:  [ 4 65  6]\n",
      "arr:  [ 0  1  2  3  4 65  6  7  8  9]\n"
     ]
    }
   ],
   "source": [
    "##Write your code here\n",
    "arr_subset[1] = 65\n",
    "print(\"arr_subset: \", arr_subset)\n",
    "print(\"arr: \", arr)"
   ]
  },
  {
   "cell_type": "markdown",
   "metadata": {},
   "source": [
    "**Q7- What will be the output of “arr” if** <br>\n",
    "arr_subset[:] = 99\n",
    "\n",
    "PLEASE DON'T CODE"
   ]
  },
  {
   "cell_type": "markdown",
   "metadata": {},
   "source": [
    "#Write your answer here: <br>\n",
    "**Answer-** array([99, 99, 99])"
   ]
  },
  {
   "cell_type": "markdown",
   "metadata": {},
   "source": [
    "**Q8- Given an array** <br>\n",
    "arr = np.array([[[1,2,3],[4,5,6]],[7,8,9]])\n",
    "\n",
    "What will be the output of arr[0][0]?\n",
    "\n",
    "PLEASE DON'T CODE"
   ]
  },
  {
   "cell_type": "markdown",
   "metadata": {},
   "source": [
    "#Write your answer here:<br>\n",
    "**Answer-** [1, 2, 3]"
   ]
  },
  {
   "cell_type": "markdown",
   "metadata": {},
   "source": [
    "**Q9: Add the following two NumPy arrays and Modify a result array by calculating the square of each element** <br>\n",
    "\n",
    "arr1 = np.array([[5, 6, 9], [21 ,18, 27]]) <br>\n",
    "arr2 = np.array([[15 ,33, 24], [4 ,7, 1]]) <br>\n",
    "\n",
    "Output - <br>\n",
    "[[ 400 1521 1089] <br>\n",
    " [ 625  625  784]]"
   ]
  },
  {
   "cell_type": "code",
   "execution_count": 76,
   "metadata": {},
   "outputs": [
    {
     "data": {
      "text/plain": [
       "array([[ 400, 1521, 1089],\n",
       "       [ 625,  625,  784]])"
      ]
     },
     "execution_count": 76,
     "metadata": {},
     "output_type": "execute_result"
    }
   ],
   "source": [
    "#Write your code here:\n",
    "arr1 = np.array([[5, 6, 9], [21 ,18, 27]])\n",
    "arr2 = np.array([[15 ,33, 24], [4 ,7, 1]])\n",
    "arr3 = np.add(arr1, arr2)\n",
    "arr3*arr3"
   ]
  },
  {
   "cell_type": "markdown",
   "metadata": {},
   "source": [
    "**Q10- Given the arrays** <br>\n",
    "\n",
    "arr1 = np.arange(5,10,1) <br>\n",
    "arr2 = np.arange(-5,0,1) <br>\n",
    "cond = np.array([True,False,False,False,True]) <br>\n",
    "\n",
    "Create a new array called arr3 and input the value of arr1 wherever cond = True else input arr2. <br>\n",
    "\n",
    "Output - array([ 5, -4, -3, -2,  9])"
   ]
  },
  {
   "cell_type": "code",
   "execution_count": 77,
   "metadata": {},
   "outputs": [
    {
     "data": {
      "text/plain": [
       "array([ 5, -4, -3, -2,  9])"
      ]
     },
     "execution_count": 77,
     "metadata": {},
     "output_type": "execute_result"
    }
   ],
   "source": [
    "#Write your code here:\n",
    "arr1 = np.arange(5,10,1)\n",
    "arr2 = np.arange(-5,0,1)\n",
    "cond = np.array([True,False,False,False,True])\n",
    "arr3 = np.where(cond == True, arr1, arr2)\n",
    "arr3"
   ]
  },
  {
   "cell_type": "markdown",
   "metadata": {},
   "source": [
    "**Q11- Find the duplicate entries (2nd occurrence onwards) in the given numpy array and mark them as True. First time occurrences should be False.**\n",
    "\n",
    "arr = np.array([0, 0, 3, 0, 2, 4, 2, 2, 2, 2])\n",
    "\n",
    "Desired output- \n",
    "\n",
    "array([False  True False  True False False  True  True  True  True])"
   ]
  },
  {
   "cell_type": "code",
   "execution_count": 78,
   "metadata": {},
   "outputs": [
    {
     "data": {
      "text/plain": [
       "array([False,  True, False,  True, False, False,  True,  True,  True,\n",
       "        True])"
      ]
     },
     "execution_count": 78,
     "metadata": {},
     "output_type": "execute_result"
    }
   ],
   "source": [
    "#Write your code here:\n",
    "\n",
    "arr = np.array([0, 0, 3, 0, 2, 4, 2, 2, 2, 2])\n",
    "\n",
    "# Create an all True array\n",
    "out = np.full(arr.shape[0], True)\n",
    "\n",
    "# Find the index positions of unique elements\n",
    "unique_positions = np.unique(arr, return_index=True)[1]\n",
    "\n",
    "# Mark those positions as False\n",
    "out[unique_positions] = False\n",
    "out"
   ]
  },
  {
   "cell_type": "code",
   "execution_count": 79,
   "metadata": {},
   "outputs": [
    {
     "name": "stdout",
     "output_type": "stream",
     "text": [
      "0\n",
      "2\n",
      "4\n",
      "5\n"
     ]
    }
   ],
   "source": [
    "pos=0\n",
    "unique=np.unique(arr)\n",
    "for each in arr:    \n",
    "    if each in unique:\n",
    "        print(pos)\n",
    "        unique=unique[unique!=each]\n",
    "        #print(unique)\n",
    "    pos+=1\n",
    "        "
   ]
  },
  {
   "cell_type": "markdown",
   "metadata": {},
   "source": [
    "#################################################### End of Session ##########################################################"
   ]
  },
  {
   "cell_type": "markdown",
   "metadata": {},
   "source": [
    "### Additional Exercises"
   ]
  },
  {
   "cell_type": "markdown",
   "metadata": {},
   "source": [
    "**Q1- Given two arrays:**\n",
    "\n",
    "arr1 = np.array([range(9)]).reshape(2,-1) <br>\n",
    "arr2 = np.repeat(1,10).reshape(2,-1) <br>\n",
    "\n",
    "Concatenate the two arrays by rows."
   ]
  },
  {
   "cell_type": "code",
   "execution_count": 80,
   "metadata": {
    "scrolled": true
   },
   "outputs": [
    {
     "data": {
      "text/plain": [
       "array([[0, 1, 2, 3],\n",
       "       [4, 5, 6, 7],\n",
       "       [1, 1, 1, 1],\n",
       "       [1, 1, 1, 1]])"
      ]
     },
     "execution_count": 80,
     "metadata": {},
     "output_type": "execute_result"
    }
   ],
   "source": [
    "#Write your code here:\n",
    "arr1 = np.array([range(8)]).reshape(2,-1)\n",
    "arr2 = np.repeat(1,8).reshape(2,-1)\n",
    "np.concatenate((arr1, arr2), axis = 0)"
   ]
  },
  {
   "cell_type": "markdown",
   "metadata": {},
   "source": [
    "**Q2- What will be the output?**\n",
    "\n",
    "arr1 = np.arange(9) <br>\n",
    "arr1_copy = arr1.copy() <br>\n",
    "arr2 = arr1_copy[4:7] <br>\n",
    "arr2[1]=45 <br>\n",
    "arr1 <br>\n",
    "\n",
    "PLEASE DON'T CODE"
   ]
  },
  {
   "cell_type": "markdown",
   "metadata": {},
   "source": [
    "#Write your answer here: <br>\n",
    "**Answer-** array([0, 1, 2, 3, 4, 5, 6, 7, 8])"
   ]
  },
  {
   "cell_type": "markdown",
   "metadata": {},
   "source": [
    "**Q3- What is the output?**\n",
    "\n",
    "arr1 = np.arange(5) <br>\n",
    "arr2 = np.array([[1,2,3],[4,5,6],[2,3,4],[7,8,0],[0,0,0]]) <br>\n",
    "arr2[arr1 == 1]\n",
    "\n",
    "PLEAESE DON'T CODE"
   ]
  },
  {
   "cell_type": "markdown",
   "metadata": {},
   "source": [
    "#Write your answer here: <br>\n",
    "**Answer-** array([[4, 5, 6]])"
   ]
  },
  {
   "cell_type": "markdown",
   "metadata": {},
   "source": [
    "**Q4- Given an array**\n",
    "\n",
    "arr = np.randon.randn(4,4)\n",
    "Calculate the following:\n",
    "\n",
    "1. Mean\n",
    "2. Max\n",
    "3. Sum\n",
    "4. Standard Deviation\n",
    "5. cumsum"
   ]
  },
  {
   "cell_type": "code",
   "execution_count": 81,
   "metadata": {},
   "outputs": [
    {
     "name": "stdout",
     "output_type": "stream",
     "text": [
      "[[ 0.32408397 -0.38508228 -0.676922    0.61167629]\n",
      " [ 1.03099952  0.93128012 -0.83921752 -0.30921238]\n",
      " [ 0.33126343  0.97554513 -0.47917424 -0.18565898]\n",
      " [-1.10633497 -1.19620662  0.81252582  1.35624003]]\n",
      " \n",
      "Mean 0.07473783230917637\n",
      " \n",
      "Max 1.356240028570823\n",
      " \n",
      "Sum 1.195805316946822\n",
      " \n",
      "Std 0.7986877023054441\n",
      " \n",
      "cumsum [ 0.32408397 -0.06099831 -0.73792031 -0.12624402  0.9047555   1.83603562\n",
      "  0.9968181   0.68760572  1.01886915  1.99441428  1.51524004  1.32958106\n",
      "  0.22324609 -0.97296053 -0.16043471  1.19580532]\n"
     ]
    }
   ],
   "source": [
    "#Write your code here:\n",
    "arr = np.random.randn(4,4)\n",
    "print(arr)\n",
    "print(' ')\n",
    "print(\"Mean\", np.mean(arr))\n",
    "print(' ')\n",
    "print(\"Max\", np.max(arr))\n",
    "print(' ')\n",
    "print(\"Sum\", np.sum(arr))\n",
    "print(' ')\n",
    "print(\"Std\", np.std(arr))\n",
    "print(' ')\n",
    "print(\"cumsum\", np.cumsum(arr))"
   ]
  },
  {
   "cell_type": "markdown",
   "metadata": {},
   "source": [
    "**Q5- Get the common items between a and b:**\n",
    "\n",
    "Input:\n",
    "\n",
    "a = np.array([1,2,3,2,3,4,3,4,5,6]) <br>\n",
    "b = np.array([7,2,10,2,7,4,9,4,9,8])<br>\n",
    "\n",
    "Desired output:\n",
    "\n",
    "array([2, 4])"
   ]
  },
  {
   "cell_type": "code",
   "execution_count": 82,
   "metadata": {},
   "outputs": [
    {
     "name": "stdout",
     "output_type": "stream",
     "text": [
      "Method 1\n",
      "[2 4]\n",
      " \n",
      "Method 2\n",
      "[2 4]\n"
     ]
    }
   ],
   "source": [
    "#Write your code here:\n",
    "\n",
    "#Method 1\n",
    "a = np.array([1,2,3,2,3,4,3,4,5,6])\n",
    "b = np.array([7,2,10,2,7,4,9,4,9,8])\n",
    "print(\"Method 1\")\n",
    "print(np.intersect1d(a,b))\n",
    "print(' ')\n",
    "\n",
    "#Method 2\n",
    "a = np.array([1,2,3,2,3,4,3,4,5,6])\n",
    "b = np.array([7,2,10,2,7,4,9,4,9,8])\n",
    "print(\"Method 2\")\n",
    "print(np.unique(a[a==b]))"
   ]
  },
  {
   "cell_type": "code",
   "execution_count": 83,
   "metadata": {},
   "outputs": [
    {
     "name": "stdout",
     "output_type": "stream",
     "text": [
      "[[ 0.32408397 -0.38508228 -0.676922    0.61167629]\n",
      " [ 1.03099952  0.93128012 -0.83921752 -0.30921238]\n",
      " [ 0.33126343  0.97554513 -0.47917424 -0.18565898]\n",
      " [-1.10633497 -1.19620662  0.81252582  1.35624003]]\n"
     ]
    },
    {
     "data": {
      "text/plain": [
       "array([ 0.32408397, -0.38508228, -0.676922  ,  0.61167629,  1.03099952,\n",
       "        0.93128012, -0.83921752, -0.30921238,  0.33126343,  0.97554513,\n",
       "       -0.47917424, -0.18565898, -1.10633497, -1.19620662,  0.81252582,\n",
       "        1.35624003])"
      ]
     },
     "execution_count": 83,
     "metadata": {},
     "output_type": "execute_result"
    }
   ],
   "source": [
    "\n",
    "def outlierRemover(arr):\n",
    "    lowerValue=np.percentile(arr,25)\n",
    "    upperValue=np.percentile(arr,75)\n",
    "    iqr=upperValue-lowerValue\n",
    "    \n",
    "    arr=arr[(arr>(lowerValue-1.5*(iqr))) & (arr<(upperValue+1.5*(iqr)))]\n",
    "    return arr\n",
    "\n",
    "print(arr)\n",
    "outlierRemover(arr)"
   ]
  },
  {
   "cell_type": "code",
   "execution_count": null,
   "metadata": {},
   "outputs": [],
   "source": []
  },
  {
   "cell_type": "code",
   "execution_count": null,
   "metadata": {},
   "outputs": [],
   "source": []
  }
 ],
 "metadata": {
  "kernelspec": {
   "display_name": "Python 3",
   "language": "python",
   "name": "python3"
  },
  "language_info": {
   "codemirror_mode": {
    "name": "ipython",
    "version": 3
   },
   "file_extension": ".py",
   "mimetype": "text/x-python",
   "name": "python",
   "nbconvert_exporter": "python",
   "pygments_lexer": "ipython3",
   "version": "3.6.8"
  }
 },
 "nbformat": 4,
 "nbformat_minor": 2
}
