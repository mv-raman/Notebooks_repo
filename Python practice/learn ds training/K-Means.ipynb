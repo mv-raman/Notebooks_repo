{
 "cells": [
  {
   "cell_type": "code",
   "execution_count": 47,
   "metadata": {},
   "outputs": [
    {
     "data": {
      "text/html": [
       "<div>\n",
       "<style scoped>\n",
       "    .dataframe tbody tr th:only-of-type {\n",
       "        vertical-align: middle;\n",
       "    }\n",
       "\n",
       "    .dataframe tbody tr th {\n",
       "        vertical-align: top;\n",
       "    }\n",
       "\n",
       "    .dataframe thead th {\n",
       "        text-align: right;\n",
       "    }\n",
       "</style>\n",
       "<table border=\"1\" class=\"dataframe\">\n",
       "  <thead>\n",
       "    <tr style=\"text-align: right;\">\n",
       "      <th></th>\n",
       "      <th>country</th>\n",
       "      <th>region</th>\n",
       "      <th>tfr</th>\n",
       "      <th>contraception</th>\n",
       "      <th>educationMale</th>\n",
       "      <th>educationFemale</th>\n",
       "      <th>lifeMale</th>\n",
       "      <th>lifeFemale</th>\n",
       "      <th>infantMortality</th>\n",
       "      <th>GDPperCapita</th>\n",
       "      <th>economicActivityMale</th>\n",
       "      <th>economicActivityFemale</th>\n",
       "      <th>illiteracyMale</th>\n",
       "      <th>illiteracyFemale</th>\n",
       "    </tr>\n",
       "  </thead>\n",
       "  <tbody>\n",
       "    <tr>\n",
       "      <th>0</th>\n",
       "      <td>Afghanistan</td>\n",
       "      <td>Asia</td>\n",
       "      <td>6.90</td>\n",
       "      <td>NaN</td>\n",
       "      <td>NaN</td>\n",
       "      <td>NaN</td>\n",
       "      <td>45.0</td>\n",
       "      <td>46.0</td>\n",
       "      <td>154.0</td>\n",
       "      <td>2848.0</td>\n",
       "      <td>87.5</td>\n",
       "      <td>7.2</td>\n",
       "      <td>52.800</td>\n",
       "      <td>85.00</td>\n",
       "    </tr>\n",
       "    <tr>\n",
       "      <th>1</th>\n",
       "      <td>Albania</td>\n",
       "      <td>Europe</td>\n",
       "      <td>2.60</td>\n",
       "      <td>NaN</td>\n",
       "      <td>NaN</td>\n",
       "      <td>NaN</td>\n",
       "      <td>68.0</td>\n",
       "      <td>74.0</td>\n",
       "      <td>32.0</td>\n",
       "      <td>863.0</td>\n",
       "      <td>NaN</td>\n",
       "      <td>NaN</td>\n",
       "      <td>NaN</td>\n",
       "      <td>NaN</td>\n",
       "    </tr>\n",
       "    <tr>\n",
       "      <th>2</th>\n",
       "      <td>Algeria</td>\n",
       "      <td>Africa</td>\n",
       "      <td>3.81</td>\n",
       "      <td>52.0</td>\n",
       "      <td>11.1</td>\n",
       "      <td>9.9</td>\n",
       "      <td>67.5</td>\n",
       "      <td>70.3</td>\n",
       "      <td>44.0</td>\n",
       "      <td>1531.0</td>\n",
       "      <td>76.4</td>\n",
       "      <td>7.8</td>\n",
       "      <td>26.100</td>\n",
       "      <td>51.00</td>\n",
       "    </tr>\n",
       "    <tr>\n",
       "      <th>3</th>\n",
       "      <td>American.Samoa</td>\n",
       "      <td>Asia</td>\n",
       "      <td>NaN</td>\n",
       "      <td>NaN</td>\n",
       "      <td>NaN</td>\n",
       "      <td>NaN</td>\n",
       "      <td>68.0</td>\n",
       "      <td>73.0</td>\n",
       "      <td>11.0</td>\n",
       "      <td>NaN</td>\n",
       "      <td>58.8</td>\n",
       "      <td>42.4</td>\n",
       "      <td>0.264</td>\n",
       "      <td>0.36</td>\n",
       "    </tr>\n",
       "    <tr>\n",
       "      <th>4</th>\n",
       "      <td>Andorra</td>\n",
       "      <td>Europe</td>\n",
       "      <td>NaN</td>\n",
       "      <td>NaN</td>\n",
       "      <td>NaN</td>\n",
       "      <td>NaN</td>\n",
       "      <td>NaN</td>\n",
       "      <td>NaN</td>\n",
       "      <td>NaN</td>\n",
       "      <td>NaN</td>\n",
       "      <td>NaN</td>\n",
       "      <td>NaN</td>\n",
       "      <td>NaN</td>\n",
       "      <td>NaN</td>\n",
       "    </tr>\n",
       "  </tbody>\n",
       "</table>\n",
       "</div>"
      ],
      "text/plain": [
       "          country  region   tfr  contraception  educationMale  \\\n",
       "0     Afghanistan    Asia  6.90            NaN            NaN   \n",
       "1         Albania  Europe  2.60            NaN            NaN   \n",
       "2         Algeria  Africa  3.81           52.0           11.1   \n",
       "3  American.Samoa    Asia   NaN            NaN            NaN   \n",
       "4         Andorra  Europe   NaN            NaN            NaN   \n",
       "\n",
       "   educationFemale  lifeMale  lifeFemale  infantMortality  GDPperCapita  \\\n",
       "0              NaN      45.0        46.0            154.0        2848.0   \n",
       "1              NaN      68.0        74.0             32.0         863.0   \n",
       "2              9.9      67.5        70.3             44.0        1531.0   \n",
       "3              NaN      68.0        73.0             11.0           NaN   \n",
       "4              NaN       NaN         NaN              NaN           NaN   \n",
       "\n",
       "   economicActivityMale  economicActivityFemale  illiteracyMale  \\\n",
       "0                  87.5                     7.2          52.800   \n",
       "1                   NaN                     NaN             NaN   \n",
       "2                  76.4                     7.8          26.100   \n",
       "3                  58.8                    42.4           0.264   \n",
       "4                   NaN                     NaN             NaN   \n",
       "\n",
       "   illiteracyFemale  \n",
       "0             85.00  \n",
       "1               NaN  \n",
       "2             51.00  \n",
       "3              0.36  \n",
       "4               NaN  "
      ]
     },
     "execution_count": 47,
     "metadata": {},
     "output_type": "execute_result"
    }
   ],
   "source": [
    "import matplotlib.pyplot as plt\n",
    "import pandas as pd\n",
    "df = pd.read_csv('/home/venkat/Documents/Training_Code/Notebook training/learn ds training/datasets/UN.csv')\n",
    "df.head()"
   ]
  },
  {
   "cell_type": "code",
   "execution_count": 48,
   "metadata": {},
   "outputs": [
    {
     "data": {
      "text/plain": [
       "country                    object\n",
       "region                     object\n",
       "tfr                       float64\n",
       "contraception             float64\n",
       "educationMale             float64\n",
       "educationFemale           float64\n",
       "lifeMale                  float64\n",
       "lifeFemale                float64\n",
       "infantMortality           float64\n",
       "GDPperCapita              float64\n",
       "economicActivityMale      float64\n",
       "economicActivityFemale    float64\n",
       "illiteracyMale            float64\n",
       "illiteracyFemale          float64\n",
       "dtype: object"
      ]
     },
     "execution_count": 48,
     "metadata": {},
     "output_type": "execute_result"
    }
   ],
   "source": [
    "df.dtypes"
   ]
  },
  {
   "cell_type": "code",
   "execution_count": 49,
   "metadata": {},
   "outputs": [
    {
     "data": {
      "text/html": [
       "<div>\n",
       "<style scoped>\n",
       "    .dataframe tbody tr th:only-of-type {\n",
       "        vertical-align: middle;\n",
       "    }\n",
       "\n",
       "    .dataframe tbody tr th {\n",
       "        vertical-align: top;\n",
       "    }\n",
       "\n",
       "    .dataframe thead th {\n",
       "        text-align: right;\n",
       "    }\n",
       "</style>\n",
       "<table border=\"1\" class=\"dataframe\">\n",
       "  <thead>\n",
       "    <tr style=\"text-align: right;\">\n",
       "      <th></th>\n",
       "      <th>tfr</th>\n",
       "      <th>contraception</th>\n",
       "      <th>educationMale</th>\n",
       "      <th>educationFemale</th>\n",
       "      <th>lifeMale</th>\n",
       "      <th>lifeFemale</th>\n",
       "      <th>infantMortality</th>\n",
       "      <th>GDPperCapita</th>\n",
       "      <th>economicActivityMale</th>\n",
       "      <th>economicActivityFemale</th>\n",
       "      <th>illiteracyMale</th>\n",
       "      <th>illiteracyFemale</th>\n",
       "    </tr>\n",
       "  </thead>\n",
       "  <tbody>\n",
       "    <tr>\n",
       "      <th>count</th>\n",
       "      <td>197.000000</td>\n",
       "      <td>144.000000</td>\n",
       "      <td>76.000000</td>\n",
       "      <td>76.000000</td>\n",
       "      <td>196.00000</td>\n",
       "      <td>196.000000</td>\n",
       "      <td>201.000000</td>\n",
       "      <td>197.000000</td>\n",
       "      <td>165.000000</td>\n",
       "      <td>165.000000</td>\n",
       "      <td>160.000000</td>\n",
       "      <td>160.000000</td>\n",
       "    </tr>\n",
       "    <tr>\n",
       "      <th>mean</th>\n",
       "      <td>3.528782</td>\n",
       "      <td>43.430556</td>\n",
       "      <td>11.410526</td>\n",
       "      <td>11.275000</td>\n",
       "      <td>63.62551</td>\n",
       "      <td>68.391837</td>\n",
       "      <td>43.477612</td>\n",
       "      <td>6261.954315</td>\n",
       "      <td>76.460606</td>\n",
       "      <td>46.794545</td>\n",
       "      <td>17.554662</td>\n",
       "      <td>27.906200</td>\n",
       "    </tr>\n",
       "    <tr>\n",
       "      <th>std</th>\n",
       "      <td>1.761974</td>\n",
       "      <td>23.706732</td>\n",
       "      <td>3.049834</td>\n",
       "      <td>3.475135</td>\n",
       "      <td>9.78687</td>\n",
       "      <td>11.041234</td>\n",
       "      <td>38.756041</td>\n",
       "      <td>9355.659390</td>\n",
       "      <td>7.687047</td>\n",
       "      <td>16.810472</td>\n",
       "      <td>17.813000</td>\n",
       "      <td>26.580664</td>\n",
       "    </tr>\n",
       "    <tr>\n",
       "      <th>min</th>\n",
       "      <td>1.190000</td>\n",
       "      <td>2.000000</td>\n",
       "      <td>3.300000</td>\n",
       "      <td>2.000000</td>\n",
       "      <td>36.00000</td>\n",
       "      <td>39.100000</td>\n",
       "      <td>2.000000</td>\n",
       "      <td>36.000000</td>\n",
       "      <td>51.200000</td>\n",
       "      <td>1.900000</td>\n",
       "      <td>0.200000</td>\n",
       "      <td>0.200000</td>\n",
       "    </tr>\n",
       "    <tr>\n",
       "      <th>25%</th>\n",
       "      <td>1.950000</td>\n",
       "      <td>21.000000</td>\n",
       "      <td>9.750000</td>\n",
       "      <td>9.325000</td>\n",
       "      <td>57.37500</td>\n",
       "      <td>59.600000</td>\n",
       "      <td>12.000000</td>\n",
       "      <td>442.000000</td>\n",
       "      <td>72.300000</td>\n",
       "      <td>37.000000</td>\n",
       "      <td>2.952000</td>\n",
       "      <td>4.847000</td>\n",
       "    </tr>\n",
       "    <tr>\n",
       "      <th>50%</th>\n",
       "      <td>3.070000</td>\n",
       "      <td>47.000000</td>\n",
       "      <td>11.250000</td>\n",
       "      <td>11.650000</td>\n",
       "      <td>66.50000</td>\n",
       "      <td>72.150000</td>\n",
       "      <td>30.000000</td>\n",
       "      <td>1779.000000</td>\n",
       "      <td>76.800000</td>\n",
       "      <td>48.400000</td>\n",
       "      <td>10.829000</td>\n",
       "      <td>20.100000</td>\n",
       "    </tr>\n",
       "    <tr>\n",
       "      <th>75%</th>\n",
       "      <td>4.980000</td>\n",
       "      <td>64.000000</td>\n",
       "      <td>13.900000</td>\n",
       "      <td>13.650000</td>\n",
       "      <td>70.90000</td>\n",
       "      <td>76.425000</td>\n",
       "      <td>66.000000</td>\n",
       "      <td>7272.000000</td>\n",
       "      <td>81.200000</td>\n",
       "      <td>56.400000</td>\n",
       "      <td>27.575000</td>\n",
       "      <td>48.025000</td>\n",
       "    </tr>\n",
       "    <tr>\n",
       "      <th>max</th>\n",
       "      <td>8.000000</td>\n",
       "      <td>86.000000</td>\n",
       "      <td>17.200000</td>\n",
       "      <td>17.800000</td>\n",
       "      <td>77.40000</td>\n",
       "      <td>82.900000</td>\n",
       "      <td>169.000000</td>\n",
       "      <td>42416.000000</td>\n",
       "      <td>93.000000</td>\n",
       "      <td>90.600000</td>\n",
       "      <td>79.100000</td>\n",
       "      <td>93.400000</td>\n",
       "    </tr>\n",
       "  </tbody>\n",
       "</table>\n",
       "</div>"
      ],
      "text/plain": [
       "              tfr  contraception  educationMale  educationFemale   lifeMale  \\\n",
       "count  197.000000     144.000000      76.000000        76.000000  196.00000   \n",
       "mean     3.528782      43.430556      11.410526        11.275000   63.62551   \n",
       "std      1.761974      23.706732       3.049834         3.475135    9.78687   \n",
       "min      1.190000       2.000000       3.300000         2.000000   36.00000   \n",
       "25%      1.950000      21.000000       9.750000         9.325000   57.37500   \n",
       "50%      3.070000      47.000000      11.250000        11.650000   66.50000   \n",
       "75%      4.980000      64.000000      13.900000        13.650000   70.90000   \n",
       "max      8.000000      86.000000      17.200000        17.800000   77.40000   \n",
       "\n",
       "       lifeFemale  infantMortality  GDPperCapita  economicActivityMale  \\\n",
       "count  196.000000       201.000000    197.000000            165.000000   \n",
       "mean    68.391837        43.477612   6261.954315             76.460606   \n",
       "std     11.041234        38.756041   9355.659390              7.687047   \n",
       "min     39.100000         2.000000     36.000000             51.200000   \n",
       "25%     59.600000        12.000000    442.000000             72.300000   \n",
       "50%     72.150000        30.000000   1779.000000             76.800000   \n",
       "75%     76.425000        66.000000   7272.000000             81.200000   \n",
       "max     82.900000       169.000000  42416.000000             93.000000   \n",
       "\n",
       "       economicActivityFemale  illiteracyMale  illiteracyFemale  \n",
       "count              165.000000      160.000000        160.000000  \n",
       "mean                46.794545       17.554662         27.906200  \n",
       "std                 16.810472       17.813000         26.580664  \n",
       "min                  1.900000        0.200000          0.200000  \n",
       "25%                 37.000000        2.952000          4.847000  \n",
       "50%                 48.400000       10.829000         20.100000  \n",
       "75%                 56.400000       27.575000         48.025000  \n",
       "max                 90.600000       79.100000         93.400000  "
      ]
     },
     "execution_count": 49,
     "metadata": {},
     "output_type": "execute_result"
    }
   ],
   "source": [
    "df.describe()"
   ]
  },
  {
   "cell_type": "code",
   "execution_count": 50,
   "metadata": {
    "scrolled": true
   },
   "outputs": [
    {
     "data": {
      "text/html": [
       "<div>\n",
       "<style scoped>\n",
       "    .dataframe tbody tr th:only-of-type {\n",
       "        vertical-align: middle;\n",
       "    }\n",
       "\n",
       "    .dataframe tbody tr th {\n",
       "        vertical-align: top;\n",
       "    }\n",
       "\n",
       "    .dataframe thead th {\n",
       "        text-align: right;\n",
       "    }\n",
       "</style>\n",
       "<table border=\"1\" class=\"dataframe\">\n",
       "  <thead>\n",
       "    <tr style=\"text-align: right;\">\n",
       "      <th></th>\n",
       "      <th>0</th>\n",
       "      <th>1</th>\n",
       "      <th>2</th>\n",
       "      <th>3</th>\n",
       "    </tr>\n",
       "  </thead>\n",
       "  <tbody>\n",
       "    <tr>\n",
       "      <th>0</th>\n",
       "      <td>45.0</td>\n",
       "      <td>46.0</td>\n",
       "      <td>154.0</td>\n",
       "      <td>2848.0</td>\n",
       "    </tr>\n",
       "    <tr>\n",
       "      <th>1</th>\n",
       "      <td>68.0</td>\n",
       "      <td>74.0</td>\n",
       "      <td>32.0</td>\n",
       "      <td>863.0</td>\n",
       "    </tr>\n",
       "    <tr>\n",
       "      <th>2</th>\n",
       "      <td>67.5</td>\n",
       "      <td>70.3</td>\n",
       "      <td>44.0</td>\n",
       "      <td>1531.0</td>\n",
       "    </tr>\n",
       "    <tr>\n",
       "      <th>3</th>\n",
       "      <td>44.9</td>\n",
       "      <td>48.1</td>\n",
       "      <td>124.0</td>\n",
       "      <td>355.0</td>\n",
       "    </tr>\n",
       "    <tr>\n",
       "      <th>4</th>\n",
       "      <td>69.6</td>\n",
       "      <td>76.8</td>\n",
       "      <td>22.0</td>\n",
       "      <td>8055.0</td>\n",
       "    </tr>\n",
       "  </tbody>\n",
       "</table>\n",
       "</div>"
      ],
      "text/plain": [
       "      0     1      2       3\n",
       "0  45.0  46.0  154.0  2848.0\n",
       "1  68.0  74.0   32.0   863.0\n",
       "2  67.5  70.3   44.0  1531.0\n",
       "3  44.9  48.1  124.0   355.0\n",
       "4  69.6  76.8   22.0  8055.0"
      ]
     },
     "execution_count": 50,
     "metadata": {},
     "output_type": "execute_result"
    }
   ],
   "source": [
    "df = pd.read_csv('/home/venkat/Documents/Training_Code/Notebook training/learn ds training/datasets/UN4col.csv',\n",
    "                 sep=' ',header=None)\n",
    "df.head()"
   ]
  },
  {
   "cell_type": "code",
   "execution_count": 51,
   "metadata": {},
   "outputs": [],
   "source": [
    "from sklearn.cluster import KMeans\n",
    "kmeans=KMeans()"
   ]
  },
  {
   "cell_type": "code",
   "execution_count": 52,
   "metadata": {},
   "outputs": [],
   "source": [
    "\n",
    "inertias=[]\n",
    "for x in range(1,10):\n",
    "    kmeans=KMeans(n_clusters=x)\n",
    "    kmeans.fit(df)\n",
    "    inertias.append(kmeans.inertia_)"
   ]
  },
  {
   "cell_type": "code",
   "execution_count": 56,
   "metadata": {},
   "outputs": [
    {
     "data": {
      "text/plain": [
       "[<matplotlib.lines.Line2D at 0x7f5ef49fa550>]"
      ]
     },
     "execution_count": 56,
     "metadata": {},
     "output_type": "execute_result"
    },
    {
     "data": {
      "image/png": "[encoded data removed]",
      "text/plain": [
       "<Figure size 432x288 with 1 Axes>"
      ]
     },
     "metadata": {},
     "output_type": "display_data"
    }
   ],
   "source": [
    "plt.plot(range(1,10),inertias,'b*-')"
   ]
  },
  {
   "cell_type": "code",
   "execution_count": 62,
   "metadata": {},
   "outputs": [],
   "source": [
    "#here k=3 seems to be the best split\n",
    "km=KMeans(n_clusters=3)\n",
    "km.fit(df)\n",
    "df['ans']=km.predict(df)"
   ]
  },
  {
   "cell_type": "code",
   "execution_count": 132,
   "metadata": {},
   "outputs": [
    {
     "data": {
      "text/plain": [
       "<matplotlib.legend.Legend at 0x7f5ee6ca3cc0>"
      ]
     },
     "execution_count": 132,
     "metadata": {},
     "output_type": "execute_result"
    },
    {
     "data": {
      "image/png": "[encoded data removed]",
      "text/plain": [
       "<Figure size 432x288 with 1 Axes>"
      ]
     },
     "metadata": {},
     "output_type": "display_data"
    }
   ],
   "source": [
    "#plt.scatter(df[3],df[2],c=df['ans'])\n",
    "#gdp vs infant mortality\n",
    "plt.scatter(df[df['ans']==0][3],df[df['ans']==0][2],c='green',label='developed')\n",
    "plt.scatter(df[df['ans']==1][3],df[df['ans']==1][2],c='red',label='under developed')\n",
    "plt.scatter(df[df['ans']==2][3],df[df['ans']==2][2],c='yellow',label='developing')\n",
    "plt.legend(loc='best')"
   ]
  },
  {
   "cell_type": "code",
   "execution_count": 99,
   "metadata": {},
   "outputs": [
    {
     "data": {
      "text/plain": [
       "<matplotlib.collections.PathCollection at 0x7f5ef40b8b00>"
      ]
     },
     "execution_count": 99,
     "metadata": {},
     "output_type": "execute_result"
    },
    {
     "data": {
      "image/png": "[encoded data removed]",
      "text/plain": [
       "<Figure size 432x288 with 1 Axes>"
      ]
     },
     "metadata": {},
     "output_type": "display_data"
    }
   ],
   "source": [
    "#gdp vs life male\n",
    "plt.scatter(df[3],df[0],c=df['ans'])"
   ]
  },
  {
   "cell_type": "code",
   "execution_count": 100,
   "metadata": {},
   "outputs": [
    {
     "data": {
      "text/plain": [
       "<matplotlib.collections.PathCollection at 0x7f5ef4085d30>"
      ]
     },
     "execution_count": 100,
     "metadata": {},
     "output_type": "execute_result"
    },
    {
     "data": {
      "image/png": "[encoded data removed]",
      "text/plain": [
       "<Figure size 432x288 with 1 Axes>"
      ]
     },
     "metadata": {},
     "output_type": "display_data"
    }
   ],
   "source": [
    "plt.scatter(df[3],df[1],c=df['ans'])\n",
    "#gdp vs life female"
   ]
  },
  {
   "cell_type": "code",
   "execution_count": null,
   "metadata": {},
   "outputs": [],
   "source": []
  },
  {
   "cell_type": "code",
   "execution_count": null,
   "metadata": {},
   "outputs": [],
   "source": []
  },
  {
   "cell_type": "code",
   "execution_count": null,
   "metadata": {},
   "outputs": [],
   "source": []
  }
 ],
 "metadata": {
  "kernelspec": {
   "display_name": "Python 3",
   "language": "python",
   "name": "python3"
  },
  "language_info": {
   "codemirror_mode": {
    "name": "ipython",
    "version": 3
   },
   "file_extension": ".py",
   "mimetype": "text/x-python",
   "name": "python",
   "nbconvert_exporter": "python",
   "pygments_lexer": "ipython3",
   "version": "3.6.5"
  }
 },
 "nbformat": 4,
 "nbformat_minor": 2
}
