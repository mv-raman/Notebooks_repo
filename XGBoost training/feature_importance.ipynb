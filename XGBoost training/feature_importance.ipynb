{
 "cells": [
  {
   "cell_type": "code",
   "execution_count": 17,
   "metadata": {},
   "outputs": [],
   "source": [
    "import xgboost as xgb\n",
    "import seaborn as sns\n",
    "import pandas as pd\n"
   ]
  },
  {
   "cell_type": "code",
   "execution_count": 18,
   "metadata": {},
   "outputs": [],
   "source": [
    "dtrain = xgb.DMatrix('./data/agaricus.txt.train')\n",
    "dtest = xgb.DMatrix('./data/agaricus.txt.test')"
   ]
  },
  {
   "cell_type": "code",
   "execution_count": 19,
   "metadata": {},
   "outputs": [],
   "source": [
    "params={\n",
    "    'objective':'binary:logistic',\n",
    "    'max_depth':1,\n",
    "    'silent':1,\n",
    "    'eta':0.5\n",
    "}\n",
    "num_rounds=5"
   ]
  },
  {
   "cell_type": "code",
   "execution_count": 20,
   "metadata": {},
   "outputs": [
    {
     "name": "stdout",
     "output_type": "stream",
     "text": [
      "[0]\ttesst-error:0.11049\ttrain-error:0.113926\n",
      "[1]\ttesst-error:0.11049\ttrain-error:0.113926\n",
      "[2]\ttesst-error:0.03352\ttrain-error:0.030401\n",
      "[3]\ttesst-error:0.027312\ttrain-error:0.021495\n",
      "[4]\ttesst-error:0.031037\ttrain-error:0.025487\n"
     ]
    }
   ],
   "source": [
    "watchlist=[(dtest,'test'),(dtrain,'train')]\n",
    "bst=xgb.train(params,dtrain,num_rounds,watchlist)"
   ]
  },
  {
   "cell_type": "code",
   "execution_count": 25,
   "metadata": {},
   "outputs": [
    {
     "name": "stdout",
     "output_type": "stream",
     "text": [
      "0:[odor=pungent] yes=2,no=1,gain=4000.53101,cover=1628.25\n",
      "\t1:leaf=0.647757947,cover=924.5\n",
      "\t2:leaf=-0.933309674,cover=703.75\n",
      "\n",
      "0:[odor=musty] yes=2,no=1,gain=1377.22437,cover=1404.203\n",
      "\t1:leaf=-0.339609325,cover=1008.21417\n",
      "\t2:leaf=0.759690285,cover=395.988831\n",
      "\n",
      "0:[gill-size=narrow] yes=2,no=1,gain=1210.76575,cover=1232.64319\n",
      "\t1:leaf=0.673357666,cover=430.293335\n",
      "\t2:leaf=-0.36520344,cover=802.349915\n",
      "\n",
      "0:[stalk-surface-above-ring=smooth] yes=2,no=1,gain=791.95874,cover=1111.84363\n",
      "\t1:leaf=-0.277528912,cover=765.906372\n",
      "\t2:leaf=0.632880688,cover=345.937195\n",
      "\n",
      "0:[odor=pungent] yes=2,no=1,gain=493.703613,cover=981.6828\n",
      "\t1:leaf=0.275961101,cover=638.372559\n",
      "\t2:leaf=-0.466680348,cover=343.310272\n",
      "\n"
     ]
    }
   ],
   "source": [
    "tree_dump=bst.get_dump(fmap='./data/featmap.txt', with_stats=True)\n",
    "for tree in tree_dump:\n",
    "    print(tree)"
   ]
  },
  {
   "cell_type": "code",
   "execution_count": 26,
   "metadata": {},
   "outputs": [
    {
     "data": {
      "text/plain": [
       "<matplotlib.axes._subplots.AxesSubplot at 0x7f5c12719e48>"
      ]
     },
     "execution_count": 26,
     "metadata": {},
     "output_type": "execute_result"
    },
    {
     "data": {
      "image/png": "[encoded data removed]",
      "text/plain": [
       "<Figure size 432x288 with 1 Axes>"
      ]
     },
     "metadata": {},
     "output_type": "display_data"
    }
   ],
   "source": [
    "xgb.plot_importance(bst,importance_type='gain',xlabel='gain')"
   ]
  },
  {
   "cell_type": "code",
   "execution_count": 28,
   "metadata": {},
   "outputs": [
    {
     "data": {
      "text/plain": [
       "<matplotlib.axes._subplots.AxesSubplot at 0x7f5c00d08e80>"
      ]
     },
     "execution_count": 28,
     "metadata": {},
     "output_type": "execute_result"
    },
    {
     "data": {
      "image/png": "[encoded data removed]",
      "text/plain": [
       "<Figure size 432x288 with 1 Axes>"
      ]
     },
     "metadata": {},
     "output_type": "display_data"
    }
   ],
   "source": [
    "xgb.plot_importance(bst)"
   ]
  },
  {
   "cell_type": "code",
   "execution_count": 30,
   "metadata": {},
   "outputs": [
    {
     "data": {
      "text/plain": [
       "{'f29': 2, 'f27': 1, 'f39': 1, 'f64': 1}"
      ]
     },
     "execution_count": 30,
     "metadata": {},
     "output_type": "execute_result"
    }
   ],
   "source": [
    "importances=bst.get_fscore()\n",
    "importances"
   ]
  },
  {
   "cell_type": "code",
   "execution_count": 43,
   "metadata": {},
   "outputs": [
    {
     "data": {
      "text/plain": [
       "<matplotlib.axes._subplots.AxesSubplot at 0x7f5c008cc3c8>"
      ]
     },
     "execution_count": 43,
     "metadata": {},
     "output_type": "execute_result"
    },
    {
     "data": {
      "image/png": "[encoded data removed]",
      "text/plain": [
       "<Figure size 432x288 with 1 Axes>"
      ]
     },
     "metadata": {},
     "output_type": "display_data"
    }
   ],
   "source": [
    "importance_df=pd.DataFrame({\n",
    "    'splits':list(importances.values()),\n",
    "    'Features':list(importances.keys())\n",
    "})\n",
    "importance_df.sort_values(by='splits',inplace=True)\n",
    "importance_df.plot(kind='barh',x='Features',color='Orange')"
   ]
  },
  {
   "cell_type": "code",
   "execution_count": null,
   "metadata": {},
   "outputs": [],
   "source": []
  },
  {
   "cell_type": "code",
   "execution_count": null,
   "metadata": {},
   "outputs": [],
   "source": []
  }
 ],
 "metadata": {
  "kernelspec": {
   "display_name": "Python 3",
   "language": "python",
   "name": "python3"
  },
  "language_info": {
   "codemirror_mode": {
    "name": "ipython",
    "version": 3
   },
   "file_extension": ".py",
   "mimetype": "text/x-python",
   "name": "python",
   "nbconvert_exporter": "python",
   "pygments_lexer": "ipython3",
   "version": "3.6.5"
  }
 },
 "nbformat": 4,
 "nbformat_minor": 2
}
