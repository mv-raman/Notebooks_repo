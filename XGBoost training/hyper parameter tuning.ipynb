{
 "cells": [
  {
   "cell_type": "code",
   "execution_count": 31,
   "metadata": {},
   "outputs": [],
   "source": [
    "from sklearn.datasets import make_classification\n",
    "seed=342\n",
    "X, y = make_classification(n_samples=1000, n_features=20, n_informative=8, n_redundant=3, n_repeated=2, random_state=seed)"
   ]
  },
  {
   "cell_type": "code",
   "execution_count": 32,
   "metadata": {},
   "outputs": [],
   "source": [
    "from sklearn.cross_validation import StratifiedKFold\n",
    "cv=StratifiedKFold(y,n_folds=10,shuffle=True,random_state=seed)"
   ]
  },
  {
   "cell_type": "code",
   "execution_count": 33,
   "metadata": {},
   "outputs": [],
   "source": [
    "import numpy as np\n",
    "params_grid={\n",
    "    'n_estimators':[5,10,25,50],\n",
    "    'max_depth':[1,2,3],\n",
    "    'learning_rate':np.linspace(1e-16,1,3)\n",
    "}"
   ]
  },
  {
   "cell_type": "code",
   "execution_count": 34,
   "metadata": {},
   "outputs": [],
   "source": [
    "from xgboost.sklearn import XGBClassifier\n",
    "params_fixed={\n",
    "    'objective':'binary:logistic',\n",
    "    'silent':1\n",
    "}"
   ]
  },
  {
   "cell_type": "code",
   "execution_count": 35,
   "metadata": {},
   "outputs": [],
   "source": [
    "from sklearn.grid_search import GridSearchCV,RandomizedSearchCV\n",
    "bst_grid=GridSearchCV(XGBClassifier(**params_fixed,seed=seed),param_grid=params_grid,cv=cv,scoring='accuracy')"
   ]
  },
  {
   "cell_type": "code",
   "execution_count": 36,
   "metadata": {},
   "outputs": [
    {
     "data": {
      "text/plain": [
       "GridSearchCV(cv=sklearn.cross_validation.StratifiedKFold(labels=[1 0 ... 0 1], n_folds=10, shuffle=True, random_state=342),\n",
       "       error_score='raise',\n",
       "       estimator=XGBClassifier(base_score=0.5, booster='gbtree', colsample_bylevel=1,\n",
       "       colsample_bytree=1, gamma=0, learning_rate=0.1, max_delta_step=0,\n",
       "       max_depth=3, min_child_weight=1, missing=None, n_estimators=100,\n",
       "       n_jobs=1, nthread=None, objective='binary:logistic', random_state=0,\n",
       "       reg_alpha=0, reg_lambda=1, scale_pos_weight=1, seed=342, silent=1,\n",
       "       subsample=1),\n",
       "       fit_params={}, iid=True, n_jobs=1,\n",
       "       param_grid={'n_estimators': [5, 10, 25, 50], 'max_depth': [1, 2, 3], 'learning_rate': array([1.e-16, 5.e-01, 1.e+00])},\n",
       "       pre_dispatch='2*n_jobs', refit=True, scoring='accuracy', verbose=0)"
      ]
     },
     "execution_count": 36,
     "metadata": {},
     "output_type": "execute_result"
    }
   ],
   "source": [
    "bst_grid.fit(X,y)"
   ]
  },
  {
   "cell_type": "code",
   "execution_count": 37,
   "metadata": {},
   "outputs": [
    {
     "data": {
      "text/plain": [
       "[mean: 0.50400, std: 0.00200, params: {'learning_rate': 1e-16, 'max_depth': 1, 'n_estimators': 5},\n",
       " mean: 0.50400, std: 0.00200, params: {'learning_rate': 1e-16, 'max_depth': 1, 'n_estimators': 10},\n",
       " mean: 0.50400, std: 0.00200, params: {'learning_rate': 1e-16, 'max_depth': 1, 'n_estimators': 25},\n",
       " mean: 0.50400, std: 0.00200, params: {'learning_rate': 1e-16, 'max_depth': 1, 'n_estimators': 50},\n",
       " mean: 0.50400, std: 0.00200, params: {'learning_rate': 1e-16, 'max_depth': 2, 'n_estimators': 5},\n",
       " mean: 0.50400, std: 0.00200, params: {'learning_rate': 1e-16, 'max_depth': 2, 'n_estimators': 10},\n",
       " mean: 0.50400, std: 0.00200, params: {'learning_rate': 1e-16, 'max_depth': 2, 'n_estimators': 25},\n",
       " mean: 0.50400, std: 0.00200, params: {'learning_rate': 1e-16, 'max_depth': 2, 'n_estimators': 50},\n",
       " mean: 0.50400, std: 0.00200, params: {'learning_rate': 1e-16, 'max_depth': 3, 'n_estimators': 5},\n",
       " mean: 0.50400, std: 0.00200, params: {'learning_rate': 1e-16, 'max_depth': 3, 'n_estimators': 10},\n",
       " mean: 0.50400, std: 0.00200, params: {'learning_rate': 1e-16, 'max_depth': 3, 'n_estimators': 25},\n",
       " mean: 0.50400, std: 0.00200, params: {'learning_rate': 1e-16, 'max_depth': 3, 'n_estimators': 50},\n",
       " mean: 0.79900, std: 0.06194, params: {'learning_rate': 0.5, 'max_depth': 1, 'n_estimators': 5},\n",
       " mean: 0.82200, std: 0.05424, params: {'learning_rate': 0.5, 'max_depth': 1, 'n_estimators': 10},\n",
       " mean: 0.82400, std: 0.04510, params: {'learning_rate': 0.5, 'max_depth': 1, 'n_estimators': 25},\n",
       " mean: 0.84000, std: 0.04030, params: {'learning_rate': 0.5, 'max_depth': 1, 'n_estimators': 50},\n",
       " mean: 0.82900, std: 0.03537, params: {'learning_rate': 0.5, 'max_depth': 2, 'n_estimators': 5},\n",
       " mean: 0.83800, std: 0.03832, params: {'learning_rate': 0.5, 'max_depth': 2, 'n_estimators': 10},\n",
       " mean: 0.85600, std: 0.03486, params: {'learning_rate': 0.5, 'max_depth': 2, 'n_estimators': 25},\n",
       " mean: 0.85300, std: 0.03812, params: {'learning_rate': 0.5, 'max_depth': 2, 'n_estimators': 50},\n",
       " mean: 0.84300, std: 0.03213, params: {'learning_rate': 0.5, 'max_depth': 3, 'n_estimators': 5},\n",
       " mean: 0.85600, std: 0.03420, params: {'learning_rate': 0.5, 'max_depth': 3, 'n_estimators': 10},\n",
       " mean: 0.86600, std: 0.03383, params: {'learning_rate': 0.5, 'max_depth': 3, 'n_estimators': 25},\n",
       " mean: 0.87200, std: 0.02623, params: {'learning_rate': 0.5, 'max_depth': 3, 'n_estimators': 50},\n",
       " mean: 0.80800, std: 0.04202, params: {'learning_rate': 1.0, 'max_depth': 1, 'n_estimators': 5},\n",
       " mean: 0.81400, std: 0.03422, params: {'learning_rate': 1.0, 'max_depth': 1, 'n_estimators': 10},\n",
       " mean: 0.81900, std: 0.02360, params: {'learning_rate': 1.0, 'max_depth': 1, 'n_estimators': 25},\n",
       " mean: 0.82000, std: 0.03478, params: {'learning_rate': 1.0, 'max_depth': 1, 'n_estimators': 50},\n",
       " mean: 0.83000, std: 0.03512, params: {'learning_rate': 1.0, 'max_depth': 2, 'n_estimators': 5},\n",
       " mean: 0.83200, std: 0.03657, params: {'learning_rate': 1.0, 'max_depth': 2, 'n_estimators': 10},\n",
       " mean: 0.84700, std: 0.03961, params: {'learning_rate': 1.0, 'max_depth': 2, 'n_estimators': 25},\n",
       " mean: 0.84700, std: 0.04523, params: {'learning_rate': 1.0, 'max_depth': 2, 'n_estimators': 50},\n",
       " mean: 0.84300, std: 0.03001, params: {'learning_rate': 1.0, 'max_depth': 3, 'n_estimators': 5},\n",
       " mean: 0.83900, std: 0.02855, params: {'learning_rate': 1.0, 'max_depth': 3, 'n_estimators': 10},\n",
       " mean: 0.84800, std: 0.03108, params: {'learning_rate': 1.0, 'max_depth': 3, 'n_estimators': 25},\n",
       " mean: 0.86300, std: 0.02977, params: {'learning_rate': 1.0, 'max_depth': 3, 'n_estimators': 50}]"
      ]
     },
     "execution_count": 37,
     "metadata": {},
     "output_type": "execute_result"
    }
   ],
   "source": [
    "bst_grid.grid_scores_"
   ]
  },
  {
   "cell_type": "code",
   "execution_count": 38,
   "metadata": {},
   "outputs": [
    {
     "data": {
      "text/plain": [
       "(0.872, {'learning_rate': 0.5, 'max_depth': 3, 'n_estimators': 50})"
      ]
     },
     "execution_count": 38,
     "metadata": {},
     "output_type": "execute_result"
    }
   ],
   "source": [
    "bst_grid.best_score_,bst_grid.best_params_"
   ]
  },
  {
   "cell_type": "code",
   "execution_count": 39,
   "metadata": {},
   "outputs": [],
   "source": [
    "#using randomized search\n",
    "\n",
    "from scipy.stats import randint, uniform\n",
    "params_dist_grid={\n",
    "    'max_depth':[1,2,3,4],\n",
    "    'gamma':[0,0.5,1],\n",
    "    'n_estimators':randint(1,1001),\n",
    "    'learning_rate':uniform(),\n",
    "    'subsample':uniform(),\n",
    "    'colsample_bytree':uniform()\n",
    "}"
   ]
  },
  {
   "cell_type": "code",
   "execution_count": 43,
   "metadata": {},
   "outputs": [],
   "source": [
    "rs_grid=RandomizedSearchCV(XGBClassifier(**params_fixed,seed=seed),\n",
    "                           param_distributions=params_dist_grid,random_state=seed,\n",
    "                           n_iter=10,cv=cv,scoring='accuracy')"
   ]
  },
  {
   "cell_type": "code",
   "execution_count": 44,
   "metadata": {},
   "outputs": [
    {
     "data": {
      "text/plain": [
       "RandomizedSearchCV(cv=sklearn.cross_validation.StratifiedKFold(labels=[1 0 ... 0 1], n_folds=10, shuffle=True, random_state=342),\n",
       "          error_score='raise',\n",
       "          estimator=XGBClassifier(base_score=0.5, booster='gbtree', colsample_bylevel=1,\n",
       "       colsample_bytree=1, gamma=0, learning_rate=0.1, max_delta_step=0,\n",
       "       max_depth=3, min_child_weight=1, missing=None, n_estimators=100,\n",
       "       n_jobs=1, nthread=None, objective='binary:logistic', random_state=0,\n",
       "       reg_alpha=0, reg_lambda=1, scale_pos_weight=1, seed=342, silent=1,\n",
       "       subsample=1),\n",
       "          fit_params={}, iid=True, n_iter=10, n_jobs=1,\n",
       "          param_distributions={'max_depth': [1, 2, 3, 4], 'gamma': [0, 0.5, 1], 'n_estimators': <scipy.stats._distn_infrastructure.rv_frozen object at 0x7f499b4f2278>, 'learning_rate': <scipy.stats._distn_infrastructure.rv_frozen object at 0x7f499b4f2da0>, 'subsample': <scipy.stats._distn_infrastructure.rv_frozen object at 0x7f499b4f2860>, 'colsample_bytree': <scipy.stats._distn_infrastructure.rv_frozen object at 0x7f499b4f25f8>},\n",
       "          pre_dispatch='2*n_jobs', random_state=342, refit=True,\n",
       "          scoring='accuracy', verbose=0)"
      ]
     },
     "execution_count": 44,
     "metadata": {},
     "output_type": "execute_result"
    }
   ],
   "source": [
    "rs_grid.fit(X,y)"
   ]
  },
  {
   "cell_type": "code",
   "execution_count": 45,
   "metadata": {},
   "outputs": [
    {
     "data": {
      "text/plain": [
       "[mean: 0.86500, std: 0.03379, params: {'colsample_bytree': 0.5278159882398795, 'gamma': 0, 'learning_rate': 0.26653471854090915, 'max_depth': 3, 'n_estimators': 634, 'subsample': 0.5217456290851137},\n",
       " mean: 0.80600, std: 0.02538, params: {'colsample_bytree': 0.6006045682293562, 'gamma': 1, 'learning_rate': 0.17437351476260976, 'max_depth': 1, 'n_estimators': 605, 'subsample': 0.1089928063068154},\n",
       " mean: 0.86600, std: 0.03216, params: {'colsample_bytree': 0.6525771618348499, 'gamma': 0, 'learning_rate': 0.14504787754035398, 'max_depth': 4, 'n_estimators': 606, 'subsample': 0.2568924710760617},\n",
       " mean: 0.80000, std: 0.03050, params: {'colsample_bytree': 0.925553938897666, 'gamma': 1, 'learning_rate': 0.5607144850720772, 'max_depth': 1, 'n_estimators': 135, 'subsample': 0.5310234799648094},\n",
       " mean: 0.79400, std: 0.03434, params: {'colsample_bytree': 0.4270399689639486, 'gamma': 1, 'learning_rate': 0.7844610802917251, 'max_depth': 2, 'n_estimators': 119, 'subsample': 0.2155284802082965},\n",
       " mean: 0.75400, std: 0.02298, params: {'colsample_bytree': 0.8100199676190537, 'gamma': 0, 'learning_rate': 0.7551985262529959, 'max_depth': 4, 'n_estimators': 814, 'subsample': 0.15894969422113026},\n",
       " mean: 0.84300, std: 0.03942, params: {'colsample_bytree': 0.17756811960724084, 'gamma': 1, 'learning_rate': 0.6320584796332216, 'max_depth': 4, 'n_estimators': 609, 'subsample': 0.8409505429460151},\n",
       " mean: 0.82300, std: 0.02674, params: {'colsample_bytree': 0.3185453645306615, 'gamma': 0.5, 'learning_rate': 0.11818127127990619, 'max_depth': 1, 'n_estimators': 570, 'subsample': 0.2746663342861052},\n",
       " mean: 0.84800, std: 0.04758, params: {'colsample_bytree': 0.17809656674608432, 'gamma': 1, 'learning_rate': 0.6878291527872669, 'max_depth': 4, 'n_estimators': 27, 'subsample': 0.7826974975997745},\n",
       " mean: 0.83100, std: 0.03778, params: {'colsample_bytree': 0.9277837336329303, 'gamma': 1, 'learning_rate': 0.8851370934284454, 'max_depth': 3, 'n_estimators': 731, 'subsample': 0.5316230298950562}]"
      ]
     },
     "execution_count": 45,
     "metadata": {},
     "output_type": "execute_result"
    }
   ],
   "source": [
    "rs_grid.grid_scores_"
   ]
  },
  {
   "cell_type": "code",
   "execution_count": 46,
   "metadata": {},
   "outputs": [
    {
     "data": {
      "text/plain": [
       "XGBClassifier(base_score=0.5, booster='gbtree', colsample_bylevel=1,\n",
       "       colsample_bytree=0.6525771618348499, gamma=0,\n",
       "       learning_rate=0.14504787754035398, max_delta_step=0, max_depth=4,\n",
       "       min_child_weight=1, missing=None, n_estimators=606, n_jobs=1,\n",
       "       nthread=None, objective='binary:logistic', random_state=0,\n",
       "       reg_alpha=0, reg_lambda=1, scale_pos_weight=1, seed=342, silent=1,\n",
       "       subsample=0.2568924710760617)"
      ]
     },
     "execution_count": 46,
     "metadata": {},
     "output_type": "execute_result"
    }
   ],
   "source": [
    "rs_grid.best_estimator_"
   ]
  },
  {
   "cell_type": "code",
   "execution_count": 47,
   "metadata": {},
   "outputs": [
    {
     "data": {
      "text/plain": [
       "(0.866,\n",
       " {'colsample_bytree': 0.6525771618348499,\n",
       "  'gamma': 0,\n",
       "  'learning_rate': 0.14504787754035398,\n",
       "  'max_depth': 4,\n",
       "  'n_estimators': 606,\n",
       "  'subsample': 0.2568924710760617})"
      ]
     },
     "execution_count": 47,
     "metadata": {},
     "output_type": "execute_result"
    }
   ],
   "source": [
    "rs_grid.best_score_,rs_grid.best_params_"
   ]
  },
  {
   "cell_type": "code",
   "execution_count": null,
   "metadata": {},
   "outputs": [],
   "source": []
  }
 ],
 "metadata": {
  "kernelspec": {
   "display_name": "Python 3",
   "language": "python",
   "name": "python3"
  },
  "language_info": {
   "codemirror_mode": {
    "name": "ipython",
    "version": 3
   },
   "file_extension": ".py",
   "mimetype": "text/x-python",
   "name": "python",
   "nbconvert_exporter": "python",
   "pygments_lexer": "ipython3",
   "version": "3.6.5"
  }
 },
 "nbformat": 4,
 "nbformat_minor": 2
}
